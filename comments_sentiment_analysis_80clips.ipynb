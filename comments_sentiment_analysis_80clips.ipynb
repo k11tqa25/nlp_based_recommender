{
 "cells": [
  {
   "cell_type": "code",
   "execution_count": 45,
   "metadata": {},
   "outputs": [
    {
     "name": "stdout",
     "output_type": "stream",
     "text": "Collecting openpyxl\n  Downloading openpyxl-3.0.5-py2.py3-none-any.whl (242 kB)\n\u001b[K     |████████████████████████████████| 242 kB 1.6 MB/s \n\u001b[?25hCollecting jdcal\n  Using cached jdcal-1.4.1-py2.py3-none-any.whl (9.5 kB)\nCollecting et-xmlfile\n  Using cached et_xmlfile-1.0.1.tar.gz (8.4 kB)\nBuilding wheels for collected packages: et-xmlfile\n  Building wheel for et-xmlfile (setup.py) ... \u001b[?25ldone\n\u001b[?25h  Created wheel for et-xmlfile: filename=et_xmlfile-1.0.1-py3-none-any.whl size=8914 sha256=b5d00ba7b1120013699ee4be58983fc733e111b468057f5d9db4105f9ecd2064\n  Stored in directory: /Users/leo/Library/Caches/pip/wheels/ef/92/e0/956c00decf3091294b8800d9104f6169a1adacfaafd122ed42\nSuccessfully built et-xmlfile\nInstalling collected packages: jdcal, et-xmlfile, openpyxl\nSuccessfully installed et-xmlfile-1.0.1 jdcal-1.4.1 openpyxl-3.0.5\n"
    }
   ],
   "source": [
    "# ! pip3 install xlrd\n",
    "# ! pip3 install textblob\n",
    "! pip3 install openpyxl"
   ]
  },
  {
   "cell_type": "code",
   "execution_count": 165,
   "metadata": {},
   "outputs": [],
   "source": [
    "import numpy as np\n",
    "import pandas as pd\n",
    "import matplotlib.pyplot as plt\n",
    "from textblob import TextBlob as tb # Sentiment analysis"
   ]
  },
  {
   "cell_type": "code",
   "execution_count": 166,
   "metadata": {},
   "outputs": [
    {
     "name": "stdout",
     "output_type": "stream",
     "text": "0.0\n"
    }
   ],
   "source": [
    "# print(tb('black').sentiment.polarity)\n",
    "print(tb('Nigger').sentiment.polarity)"
   ]
  },
  {
   "cell_type": "code",
   "execution_count": 167,
   "metadata": {},
   "outputs": [],
   "source": [
    "df_webapage = pd.read_pickle('./scrape_result_80.pkl')"
   ]
  },
  {
   "cell_type": "code",
   "execution_count": 168,
   "metadata": {},
   "outputs": [
    {
     "data": {
      "text/html": "<div>\n<style scoped>\n    .dataframe tbody tr th:only-of-type {\n        vertical-align: middle;\n    }\n\n    .dataframe tbody tr th {\n        vertical-align: top;\n    }\n\n    .dataframe thead th {\n        text-align: right;\n    }\n</style>\n<table border=\"1\" class=\"dataframe\">\n  <thead>\n    <tr style=\"text-align: right;\">\n      <th></th>\n      <th>count</th>\n    </tr>\n    <tr>\n      <th>Name</th>\n      <th></th>\n    </tr>\n  </thead>\n  <tbody>\n    <tr>\n      <th>whitepride1004</th>\n      <td>31</td>\n    </tr>\n    <tr>\n      <th>Sumukh</th>\n      <td>7</td>\n    </tr>\n    <tr>\n      <th>Michael</th>\n      <td>6</td>\n    </tr>\n    <tr>\n      <th>Green Envy</th>\n      <td>6</td>\n    </tr>\n    <tr>\n      <th>Audrey New</th>\n      <td>6</td>\n    </tr>\n    <tr>\n      <th>...</th>\n      <td>...</td>\n    </tr>\n    <tr>\n      <th>Bi- Han</th>\n      <td>3</td>\n    </tr>\n    <tr>\n      <th>Lydia Waweru-Morgan</th>\n      <td>3</td>\n    </tr>\n    <tr>\n      <th>James Bond</th>\n      <td>3</td>\n    </tr>\n    <tr>\n      <th>ADEDOTUN AKANDE</th>\n      <td>3</td>\n    </tr>\n    <tr>\n      <th>Xitsundzuxo Himina</th>\n      <td>3</td>\n    </tr>\n  </tbody>\n</table>\n<p>100 rows × 1 columns</p>\n</div>",
      "text/plain": "                     count\nName                      \nwhitepride1004          31\nSumukh                   7\nMichael                  6\nGreen Envy               6\nAudrey New               6\n...                    ...\nBi- Han                  3\nLydia Waweru-Morgan      3\nJames Bond               3\nADEDOTUN AKANDE          3\nXitsundzuxo Himina       3\n\n[100 rows x 1 columns]"
     },
     "execution_count": 168,
     "metadata": {},
     "output_type": "execute_result"
    }
   ],
   "source": [
    "df_name = df_webapage.groupby([\"Name\"], sort=True).agg(['count']).Title.sort_values('count', ascending=False)\n",
    "df_name.head(100)"
   ]
  },
  {
   "cell_type": "code",
   "execution_count": 169,
   "metadata": {},
   "outputs": [
    {
     "data": {
      "text/html": "<div>\n<style scoped>\n    .dataframe tbody tr th:only-of-type {\n        vertical-align: middle;\n    }\n\n    .dataframe tbody tr th {\n        vertical-align: top;\n    }\n\n    .dataframe thead th {\n        text-align: right;\n    }\n</style>\n<table border=\"1\" class=\"dataframe\">\n  <thead>\n    <tr style=\"text-align: right;\">\n      <th></th>\n      <th>Title</th>\n      <th>Name</th>\n      <th>Comment</th>\n      <th>Polarity</th>\n      <th>Subjectivity</th>\n    </tr>\n  </thead>\n  <tbody>\n    <tr>\n      <th>0</th>\n      <td>Ramy Youssef: Feelings (2019) | Why Do They Ma...</td>\n      <td>Kenza B.</td>\n      <td>He touched something really deep, first he ddn...</td>\n      <td>-0.137500</td>\n      <td>0.547917</td>\n    </tr>\n    <tr>\n      <th>1</th>\n      <td>Ramy Youssef: Feelings (2019) | Why Do They Ma...</td>\n      <td>LMivha</td>\n      <td>How this man got his point across is absolute ...</td>\n      <td>0.200000</td>\n      <td>0.900000</td>\n    </tr>\n    <tr>\n      <th>2</th>\n      <td>Ramy Youssef: Feelings (2019) | Why Do They Ma...</td>\n      <td>Marissa Urias</td>\n      <td>Wow, people in the comments really don't get t...</td>\n      <td>0.160000</td>\n      <td>0.365000</td>\n    </tr>\n    <tr>\n      <th>3</th>\n      <td>Ramy Youssef: Feelings (2019) | Why Do They Ma...</td>\n      <td>Riaz Uddin</td>\n      <td>This is what I tell people all the time, just ...</td>\n      <td>-0.406250</td>\n      <td>0.793750</td>\n    </tr>\n    <tr>\n      <th>4</th>\n      <td>Ramy Youssef: Feelings (2019) | Why Do They Ma...</td>\n      <td>Shannon dobbs</td>\n      <td>They don't ask NUNS THAT! 🙄</td>\n      <td>0.000000</td>\n      <td>0.000000</td>\n    </tr>\n    <tr>\n      <th>...</th>\n      <td>...</td>\n      <td>...</td>\n      <td>...</td>\n      <td>...</td>\n      <td>...</td>\n    </tr>\n    <tr>\n      <th>17748</th>\n      <td>Black Music Tells You Everything You Need to K...</td>\n      <td>357 Magnum</td>\n      <td>I'm guessing he doesn't live in a colorblind w...</td>\n      <td>-0.243434</td>\n      <td>0.533333</td>\n    </tr>\n    <tr>\n      <th>17749</th>\n      <td>Black Music Tells You Everything You Need to K...</td>\n      <td>Erin James</td>\n      <td>Then leave my dear friend. Youve been free for...</td>\n      <td>-0.237500</td>\n      <td>0.733333</td>\n    </tr>\n    <tr>\n      <th>17750</th>\n      <td>Black Music Tells You Everything You Need to K...</td>\n      <td>I'm black So I'm slow</td>\n      <td>We didn't create the blue's!... We didn't crea...</td>\n      <td>0.000000</td>\n      <td>0.100000</td>\n    </tr>\n    <tr>\n      <th>17751</th>\n      <td>Black Music Tells You Everything You Need to K...</td>\n      <td>ralph salotto</td>\n      <td>Now that you mention it he's right, the Blues ...</td>\n      <td>0.361905</td>\n      <td>0.511905</td>\n    </tr>\n    <tr>\n      <th>17752</th>\n      <td>Black Music Tells You Everything You Need to K...</td>\n      <td>Garbanzo Beans</td>\n      <td>Far more black people have migrated to the US ...</td>\n      <td>0.130952</td>\n      <td>0.595238</td>\n    </tr>\n  </tbody>\n</table>\n<p>17753 rows × 5 columns</p>\n</div>",
      "text/plain": "                                                   Title  \\\n0      Ramy Youssef: Feelings (2019) | Why Do They Ma...   \n1      Ramy Youssef: Feelings (2019) | Why Do They Ma...   \n2      Ramy Youssef: Feelings (2019) | Why Do They Ma...   \n3      Ramy Youssef: Feelings (2019) | Why Do They Ma...   \n4      Ramy Youssef: Feelings (2019) | Why Do They Ma...   \n...                                                  ...   \n17748  Black Music Tells You Everything You Need to K...   \n17749  Black Music Tells You Everything You Need to K...   \n17750  Black Music Tells You Everything You Need to K...   \n17751  Black Music Tells You Everything You Need to K...   \n17752  Black Music Tells You Everything You Need to K...   \n\n                        Name  \\\n0                   Kenza B.   \n1                     LMivha   \n2              Marissa Urias   \n3                 Riaz Uddin   \n4              Shannon dobbs   \n...                      ...   \n17748             357 Magnum   \n17749             Erin James   \n17750  I'm black So I'm slow   \n17751          ralph salotto   \n17752         Garbanzo Beans   \n\n                                                 Comment  Polarity  \\\n0      He touched something really deep, first he ddn... -0.137500   \n1      How this man got his point across is absolute ...  0.200000   \n2      Wow, people in the comments really don't get t...  0.160000   \n3      This is what I tell people all the time, just ... -0.406250   \n4                            They don't ask NUNS THAT! 🙄  0.000000   \n...                                                  ...       ...   \n17748  I'm guessing he doesn't live in a colorblind w... -0.243434   \n17749  Then leave my dear friend. Youve been free for... -0.237500   \n17750  We didn't create the blue's!... We didn't crea...  0.000000   \n17751  Now that you mention it he's right, the Blues ...  0.361905   \n17752  Far more black people have migrated to the US ...  0.130952   \n\n       Subjectivity  \n0          0.547917  \n1          0.900000  \n2          0.365000  \n3          0.793750  \n4          0.000000  \n...             ...  \n17748      0.533333  \n17749      0.733333  \n17750      0.100000  \n17751      0.511905  \n17752      0.595238  \n\n[17753 rows x 5 columns]"
     },
     "execution_count": 169,
     "metadata": {},
     "output_type": "execute_result"
    }
   ],
   "source": [
    "pol = lambda x: tb(x).sentiment.polarity\n",
    "sub = lambda x: tb(x).sentiment.subjectivity\n",
    "\n",
    "data_SA = pd.DataFrame()\n",
    "data_SA['Title'] = df_webapage['Title']\n",
    "data_SA['Name'] = df_webapage['Name']\n",
    "data_SA['Comment'] = df_webapage['Comment']\n",
    "data_SA['Polarity'] = df_webapage['Comment'].apply(pol)\n",
    "data_SA['Subjectivity'] = df_webapage['Comment'].apply(sub)\n",
    "data_SA"
   ]
  },
  {
   "cell_type": "code",
   "execution_count": 170,
   "metadata": {},
   "outputs": [],
   "source": [
    "# data_SA['Comment'][17750]"
   ]
  },
  {
   "cell_type": "code",
   "execution_count": 171,
   "metadata": {},
   "outputs": [
    {
     "data": {
      "text/html": "<div>\n<style scoped>\n    .dataframe tbody tr th:only-of-type {\n        vertical-align: middle;\n    }\n\n    .dataframe tbody tr th {\n        vertical-align: top;\n    }\n\n    .dataframe thead th {\n        text-align: right;\n    }\n</style>\n<table border=\"1\" class=\"dataframe\">\n  <thead>\n    <tr style=\"text-align: right;\">\n      <th></th>\n      <th>Title</th>\n      <th>Name</th>\n      <th>Comment</th>\n      <th>Polarity</th>\n      <th>Subjectivity</th>\n      <th>P/N</th>\n    </tr>\n  </thead>\n  <tbody>\n    <tr>\n      <th>0</th>\n      <td>Ramy Youssef: Feelings (2019) | Why Do They Ma...</td>\n      <td>Kenza B.</td>\n      <td>He touched something really deep, first he ddn...</td>\n      <td>-0.137500</td>\n      <td>0.547917</td>\n      <td>-1.0</td>\n    </tr>\n    <tr>\n      <th>1</th>\n      <td>Ramy Youssef: Feelings (2019) | Why Do They Ma...</td>\n      <td>LMivha</td>\n      <td>How this man got his point across is absolute ...</td>\n      <td>0.200000</td>\n      <td>0.900000</td>\n      <td>1.0</td>\n    </tr>\n    <tr>\n      <th>2</th>\n      <td>Ramy Youssef: Feelings (2019) | Why Do They Ma...</td>\n      <td>Marissa Urias</td>\n      <td>Wow, people in the comments really don't get t...</td>\n      <td>0.160000</td>\n      <td>0.365000</td>\n      <td>1.0</td>\n    </tr>\n    <tr>\n      <th>3</th>\n      <td>Ramy Youssef: Feelings (2019) | Why Do They Ma...</td>\n      <td>Riaz Uddin</td>\n      <td>This is what I tell people all the time, just ...</td>\n      <td>-0.406250</td>\n      <td>0.793750</td>\n      <td>-1.0</td>\n    </tr>\n    <tr>\n      <th>4</th>\n      <td>Ramy Youssef: Feelings (2019) | Why Do They Ma...</td>\n      <td>Shannon dobbs</td>\n      <td>They don't ask NUNS THAT! 🙄</td>\n      <td>0.000000</td>\n      <td>0.000000</td>\n      <td>0.0</td>\n    </tr>\n    <tr>\n      <th>...</th>\n      <td>...</td>\n      <td>...</td>\n      <td>...</td>\n      <td>...</td>\n      <td>...</td>\n      <td>...</td>\n    </tr>\n    <tr>\n      <th>17748</th>\n      <td>Black Music Tells You Everything You Need to K...</td>\n      <td>357 Magnum</td>\n      <td>I'm guessing he doesn't live in a colorblind w...</td>\n      <td>-0.243434</td>\n      <td>0.533333</td>\n      <td>-1.0</td>\n    </tr>\n    <tr>\n      <th>17749</th>\n      <td>Black Music Tells You Everything You Need to K...</td>\n      <td>Erin James</td>\n      <td>Then leave my dear friend. Youve been free for...</td>\n      <td>-0.237500</td>\n      <td>0.733333</td>\n      <td>-1.0</td>\n    </tr>\n    <tr>\n      <th>17750</th>\n      <td>Black Music Tells You Everything You Need to K...</td>\n      <td>I'm black So I'm slow</td>\n      <td>We didn't create the blue's!... We didn't crea...</td>\n      <td>0.000000</td>\n      <td>0.100000</td>\n      <td>0.0</td>\n    </tr>\n    <tr>\n      <th>17751</th>\n      <td>Black Music Tells You Everything You Need to K...</td>\n      <td>ralph salotto</td>\n      <td>Now that you mention it he's right, the Blues ...</td>\n      <td>0.361905</td>\n      <td>0.511905</td>\n      <td>1.0</td>\n    </tr>\n    <tr>\n      <th>17752</th>\n      <td>Black Music Tells You Everything You Need to K...</td>\n      <td>Garbanzo Beans</td>\n      <td>Far more black people have migrated to the US ...</td>\n      <td>0.130952</td>\n      <td>0.595238</td>\n      <td>1.0</td>\n    </tr>\n  </tbody>\n</table>\n<p>17753 rows × 6 columns</p>\n</div>",
      "text/plain": "                                                   Title  \\\n0      Ramy Youssef: Feelings (2019) | Why Do They Ma...   \n1      Ramy Youssef: Feelings (2019) | Why Do They Ma...   \n2      Ramy Youssef: Feelings (2019) | Why Do They Ma...   \n3      Ramy Youssef: Feelings (2019) | Why Do They Ma...   \n4      Ramy Youssef: Feelings (2019) | Why Do They Ma...   \n...                                                  ...   \n17748  Black Music Tells You Everything You Need to K...   \n17749  Black Music Tells You Everything You Need to K...   \n17750  Black Music Tells You Everything You Need to K...   \n17751  Black Music Tells You Everything You Need to K...   \n17752  Black Music Tells You Everything You Need to K...   \n\n                        Name  \\\n0                   Kenza B.   \n1                     LMivha   \n2              Marissa Urias   \n3                 Riaz Uddin   \n4              Shannon dobbs   \n...                      ...   \n17748             357 Magnum   \n17749             Erin James   \n17750  I'm black So I'm slow   \n17751          ralph salotto   \n17752         Garbanzo Beans   \n\n                                                 Comment  Polarity  \\\n0      He touched something really deep, first he ddn... -0.137500   \n1      How this man got his point across is absolute ...  0.200000   \n2      Wow, people in the comments really don't get t...  0.160000   \n3      This is what I tell people all the time, just ... -0.406250   \n4                            They don't ask NUNS THAT! 🙄  0.000000   \n...                                                  ...       ...   \n17748  I'm guessing he doesn't live in a colorblind w... -0.243434   \n17749  Then leave my dear friend. Youve been free for... -0.237500   \n17750  We didn't create the blue's!... We didn't crea...  0.000000   \n17751  Now that you mention it he's right, the Blues ...  0.361905   \n17752  Far more black people have migrated to the US ...  0.130952   \n\n       Subjectivity  P/N  \n0          0.547917 -1.0  \n1          0.900000  1.0  \n2          0.365000  1.0  \n3          0.793750 -1.0  \n4          0.000000  0.0  \n...             ...  ...  \n17748      0.533333 -1.0  \n17749      0.733333 -1.0  \n17750      0.100000  0.0  \n17751      0.511905  1.0  \n17752      0.595238  1.0  \n\n[17753 rows x 6 columns]"
     },
     "execution_count": 171,
     "metadata": {},
     "output_type": "execute_result"
    }
   ],
   "source": [
    "PorN = lambda x: x*0 if x==0 else (x*(1/x) if x>0 else x*(-1/x))\n",
    "data_SA['P/N'] = data_SA['Polarity'].apply(PorN)\n",
    "data_SA"
   ]
  },
  {
   "cell_type": "code",
   "execution_count": null,
   "metadata": {},
   "outputs": [],
   "source": []
  },
  {
   "cell_type": "code",
   "execution_count": null,
   "metadata": {},
   "outputs": [],
   "source": []
  },
  {
   "cell_type": "code",
   "execution_count": 14,
   "metadata": {},
   "outputs": [
    {
     "data": {
      "text/html": "<div>\n<style scoped>\n    .dataframe tbody tr th:only-of-type {\n        vertical-align: middle;\n    }\n\n    .dataframe tbody tr th {\n        vertical-align: top;\n    }\n\n    .dataframe thead th {\n        text-align: right;\n    }\n</style>\n<table border=\"1\" class=\"dataframe\">\n  <thead>\n    <tr style=\"text-align: right;\">\n      <th></th>\n      <th>Name</th>\n      <th>Comment</th>\n      <th>Polarity</th>\n      <th>Subjectivity</th>\n      <th>P/N</th>\n    </tr>\n    <tr>\n      <th>Title</th>\n      <th></th>\n      <th></th>\n      <th></th>\n      <th></th>\n      <th></th>\n    </tr>\n  </thead>\n  <tbody>\n    <tr>\n      <th>\"3 Girls? We Don't Have Time\" | Pete Davidson SMD</th>\n      <td>49</td>\n      <td>49</td>\n      <td>49</td>\n      <td>49</td>\n      <td>49</td>\n    </tr>\n    <tr>\n      <th>\"Don't Lose Your Accent / Learning Accents\" - TREVOR NOAH (Pay Back The Funny)</th>\n      <td>8</td>\n      <td>8</td>\n      <td>8</td>\n      <td>8</td>\n      <td>8</td>\n    </tr>\n    <tr>\n      <th>\"Flying Into America\" - Trevor Noah - (Lost In Translation)</th>\n      <td>36</td>\n      <td>36</td>\n      <td>36</td>\n      <td>36</td>\n      <td>36</td>\n    </tr>\n    <tr>\n      <th>\"Lost Keys\" | Jo Koy : Lights Out</th>\n      <td>9</td>\n      <td>9</td>\n      <td>9</td>\n      <td>9</td>\n      <td>9</td>\n    </tr>\n    <tr>\n      <th>\"Rice is Rice\" | Jo Koy : Live from Seattle</th>\n      <td>28</td>\n      <td>28</td>\n      <td>28</td>\n      <td>28</td>\n      <td>28</td>\n    </tr>\n  </tbody>\n</table>\n</div>",
      "text/plain": "                                                    Name  Comment  Polarity  \\\nTitle                                                                         \n\"3 Girls? We Don't Have Time\" | Pete Davidson SMD     49       49        49   \n\"Don't Lose Your Accent / Learning Accents\" - T...     8        8         8   \n\"Flying Into America\" - Trevor Noah - (Lost In ...    36       36        36   \n\"Lost Keys\" | Jo Koy : Lights Out                      9        9         9   \n\"Rice is Rice\" | Jo Koy : Live from Seattle           28       28        28   \n\n                                                    Subjectivity  P/N  \nTitle                                                                  \n\"3 Girls? We Don't Have Time\" | Pete Davidson SMD             49   49  \n\"Don't Lose Your Accent / Learning Accents\" - T...             8    8  \n\"Flying Into America\" - Trevor Noah - (Lost In ...            36   36  \n\"Lost Keys\" | Jo Koy : Lights Out                              9    9  \n\"Rice is Rice\" | Jo Koy : Live from Seattle                   28   28  "
     },
     "execution_count": 14,
     "metadata": {},
     "output_type": "execute_result"
    }
   ],
   "source": [
    "data_SA[data_SA['P/N']==1].groupby(['Title']).count()"
   ]
  },
  {
   "cell_type": "code",
   "execution_count": 15,
   "metadata": {},
   "outputs": [
    {
     "data": {
      "text/html": "<div>\n<style scoped>\n    .dataframe tbody tr th:only-of-type {\n        vertical-align: middle;\n    }\n\n    .dataframe tbody tr th {\n        vertical-align: top;\n    }\n\n    .dataframe thead th {\n        text-align: right;\n    }\n</style>\n<table border=\"1\" class=\"dataframe\">\n  <thead>\n    <tr style=\"text-align: right;\">\n      <th></th>\n      <th>Name</th>\n      <th>Comment</th>\n      <th>Polarity</th>\n      <th>Subjectivity</th>\n      <th>P/N</th>\n    </tr>\n    <tr>\n      <th>Title</th>\n      <th></th>\n      <th></th>\n      <th></th>\n      <th></th>\n      <th></th>\n    </tr>\n  </thead>\n  <tbody>\n    <tr>\n      <th>\"3 Girls? We Don't Have Time\" | Pete Davidson SMD</th>\n      <td>16</td>\n      <td>16</td>\n      <td>16</td>\n      <td>16</td>\n      <td>16</td>\n    </tr>\n    <tr>\n      <th>\"Don't Lose Your Accent / Learning Accents\" - TREVOR NOAH (Pay Back The Funny)</th>\n      <td>5</td>\n      <td>5</td>\n      <td>5</td>\n      <td>5</td>\n      <td>5</td>\n    </tr>\n    <tr>\n      <th>\"Flying Into America\" - Trevor Noah - (Lost In Translation)</th>\n      <td>15</td>\n      <td>15</td>\n      <td>15</td>\n      <td>15</td>\n      <td>15</td>\n    </tr>\n    <tr>\n      <th>\"Lost Keys\" | Jo Koy : Lights Out</th>\n      <td>3</td>\n      <td>3</td>\n      <td>3</td>\n      <td>3</td>\n      <td>3</td>\n    </tr>\n    <tr>\n      <th>\"Rice is Rice\" | Jo Koy : Live from Seattle</th>\n      <td>8</td>\n      <td>8</td>\n      <td>8</td>\n      <td>8</td>\n      <td>8</td>\n    </tr>\n  </tbody>\n</table>\n</div>",
      "text/plain": "                                                    Name  Comment  Polarity  \\\nTitle                                                                         \n\"3 Girls? We Don't Have Time\" | Pete Davidson SMD     16       16        16   \n\"Don't Lose Your Accent / Learning Accents\" - T...     5        5         5   \n\"Flying Into America\" - Trevor Noah - (Lost In ...    15       15        15   \n\"Lost Keys\" | Jo Koy : Lights Out                      3        3         3   \n\"Rice is Rice\" | Jo Koy : Live from Seattle            8        8         8   \n\n                                                    Subjectivity  P/N  \nTitle                                                                  \n\"3 Girls? We Don't Have Time\" | Pete Davidson SMD             16   16  \n\"Don't Lose Your Accent / Learning Accents\" - T...             5    5  \n\"Flying Into America\" - Trevor Noah - (Lost In ...            15   15  \n\"Lost Keys\" | Jo Koy : Lights Out                              3    3  \n\"Rice is Rice\" | Jo Koy : Live from Seattle                    8    8  "
     },
     "execution_count": 15,
     "metadata": {},
     "output_type": "execute_result"
    }
   ],
   "source": [
    "data_SA[data_SA['P/N']==-1].groupby(['Title']).count().head()"
   ]
  },
  {
   "cell_type": "code",
   "execution_count": 82,
   "metadata": {},
   "outputs": [],
   "source": [
    "# res = data_SA[['Title','P/N']].groupby(['Title']).sum()\n",
    "# res"
   ]
  },
  {
   "cell_type": "code",
   "execution_count": 83,
   "metadata": {},
   "outputs": [],
   "source": [
    "# res[res['P/N']>0]"
   ]
  },
  {
   "cell_type": "code",
   "execution_count": 19,
   "metadata": {},
   "outputs": [
    {
     "data": {
      "text/html": "<div>\n<style scoped>\n    .dataframe tbody tr th:only-of-type {\n        vertical-align: middle;\n    }\n\n    .dataframe tbody tr th {\n        vertical-align: top;\n    }\n\n    .dataframe thead th {\n        text-align: right;\n    }\n</style>\n<table border=\"1\" class=\"dataframe\">\n  <thead>\n    <tr style=\"text-align: right;\">\n      <th></th>\n      <th>Name</th>\n      <th>Comment</th>\n      <th>Polarity</th>\n      <th>Subjectivity</th>\n      <th>P/N</th>\n    </tr>\n    <tr>\n      <th>Title</th>\n      <th></th>\n      <th></th>\n      <th></th>\n      <th></th>\n      <th></th>\n    </tr>\n  </thead>\n  <tbody>\n    <tr>\n      <th>\"3 Girls? We Don't Have Time\" | Pete Davidson SMD</th>\n      <td>67</td>\n      <td>67</td>\n      <td>67</td>\n      <td>67</td>\n      <td>67</td>\n    </tr>\n    <tr>\n      <th>\"Don't Lose Your Accent / Learning Accents\" - TREVOR NOAH (Pay Back The Funny)</th>\n      <td>6</td>\n      <td>6</td>\n      <td>6</td>\n      <td>6</td>\n      <td>6</td>\n    </tr>\n    <tr>\n      <th>\"Flying Into America\" - Trevor Noah - (Lost In Translation)</th>\n      <td>6</td>\n      <td>6</td>\n      <td>6</td>\n      <td>6</td>\n      <td>6</td>\n    </tr>\n    <tr>\n      <th>\"Lost Keys\" | Jo Koy : Lights Out</th>\n      <td>8</td>\n      <td>8</td>\n      <td>8</td>\n      <td>8</td>\n      <td>8</td>\n    </tr>\n    <tr>\n      <th>\"Rice is Rice\" | Jo Koy : Live from Seattle</th>\n      <td>24</td>\n      <td>24</td>\n      <td>24</td>\n      <td>24</td>\n      <td>24</td>\n    </tr>\n    <tr>\n      <th>...</th>\n      <td>...</td>\n      <td>...</td>\n      <td>...</td>\n      <td>...</td>\n      <td>...</td>\n    </tr>\n    <tr>\n      <th>When You're Late To Everything. Andy Woodhull</th>\n      <td>71</td>\n      <td>71</td>\n      <td>71</td>\n      <td>71</td>\n      <td>71</td>\n    </tr>\n    <tr>\n      <th>Whitney Cummings - I Love You - Marriage &amp; Sex</th>\n      <td>46</td>\n      <td>46</td>\n      <td>46</td>\n      <td>46</td>\n      <td>46</td>\n    </tr>\n    <tr>\n      <th>Whitney Cummings | I'm Your Girlfriend: Women Paying</th>\n      <td>124</td>\n      <td>124</td>\n      <td>124</td>\n      <td>124</td>\n      <td>124</td>\n    </tr>\n    <tr>\n      <th>Why Arsenio Checks His Phone Before His Wife Can See | Netflix Is A Joke</th>\n      <td>22</td>\n      <td>22</td>\n      <td>22</td>\n      <td>22</td>\n      <td>22</td>\n    </tr>\n    <tr>\n      <th>Why Asians Are Good At Math - Jimmy O. Yang</th>\n      <td>13</td>\n      <td>13</td>\n      <td>13</td>\n      <td>13</td>\n      <td>13</td>\n    </tr>\n  </tbody>\n</table>\n<p>80 rows × 5 columns</p>\n</div>",
      "text/plain": "                                                    Name  Comment  Polarity  \\\nTitle                                                                         \n\"3 Girls? We Don't Have Time\" | Pete Davidson SMD     67       67        67   \n\"Don't Lose Your Accent / Learning Accents\" - T...     6        6         6   \n\"Flying Into America\" - Trevor Noah - (Lost In ...     6        6         6   \n\"Lost Keys\" | Jo Koy : Lights Out                      8        8         8   \n\"Rice is Rice\" | Jo Koy : Live from Seattle           24       24        24   \n...                                                  ...      ...       ...   \nWhen You're Late To Everything. Andy Woodhull         71       71        71   \nWhitney Cummings - I Love You - Marriage & Sex        46       46        46   \nWhitney Cummings | I'm Your Girlfriend: Women P...   124      124       124   \nWhy Arsenio Checks His Phone Before His Wife Ca...    22       22        22   \nWhy Asians Are Good At Math - Jimmy O. Yang           13       13        13   \n\n                                                    Subjectivity  P/N  \nTitle                                                                  \n\"3 Girls? We Don't Have Time\" | Pete Davidson SMD             67   67  \n\"Don't Lose Your Accent / Learning Accents\" - T...             6    6  \n\"Flying Into America\" - Trevor Noah - (Lost In ...             6    6  \n\"Lost Keys\" | Jo Koy : Lights Out                              8    8  \n\"Rice is Rice\" | Jo Koy : Live from Seattle                   24   24  \n...                                                          ...  ...  \nWhen You're Late To Everything. Andy Woodhull                 71   71  \nWhitney Cummings - I Love You - Marriage & Sex                46   46  \nWhitney Cummings | I'm Your Girlfriend: Women P...           124  124  \nWhy Arsenio Checks His Phone Before His Wife Ca...            22   22  \nWhy Asians Are Good At Math - Jimmy O. Yang                   13   13  \n\n[80 rows x 5 columns]"
     },
     "execution_count": 19,
     "metadata": {},
     "output_type": "execute_result"
    }
   ],
   "source": [
    "data_SA[data_SA['P/N']==0].groupby(['Title']).count()"
   ]
  },
  {
   "cell_type": "code",
   "execution_count": 161,
   "metadata": {},
   "outputs": [
    {
     "data": {
      "text/plain": "\"We didn't create the blue's!... We didn't create hip hop neither!\""
     },
     "execution_count": 161,
     "metadata": {},
     "output_type": "execute_result"
    }
   ],
   "source": [
    "data_SA[data_SA['P/N']==0]['Comment'][17750]"
   ]
  },
  {
   "cell_type": "code",
   "execution_count": null,
   "metadata": {},
   "outputs": [],
   "source": []
  },
  {
   "cell_type": "markdown",
   "metadata": {},
   "source": [
    " "
   ]
  },
  {
   "cell_type": "markdown",
   "metadata": {},
   "source": [
    "# Group data"
   ]
  },
  {
   "cell_type": "code",
   "execution_count": 184,
   "metadata": {},
   "outputs": [
    {
     "data": {
      "text/html": "<div>\n<style scoped>\n    .dataframe tbody tr th:only-of-type {\n        vertical-align: middle;\n    }\n\n    .dataframe tbody tr th {\n        vertical-align: top;\n    }\n\n    .dataframe thead th {\n        text-align: right;\n    }\n</style>\n<table border=\"1\" class=\"dataframe\">\n  <thead>\n    <tr style=\"text-align: right;\">\n      <th></th>\n      <th>Who?</th>\n      <th>Comedian</th>\n      <th>Title</th>\n      <th>Link of the transcript</th>\n      <th>Transcript (CONTENT!!!!)</th>\n      <th>Video link</th>\n      <th>Unnamed: 6</th>\n      <th>note</th>\n      <th>Unnamed: 8</th>\n      <th>Unnamed: 9</th>\n    </tr>\n  </thead>\n  <tbody>\n    <tr>\n      <th>0</th>\n      <td>Leo</td>\n      <td>Kevin Hart</td>\n      <td>Lying Will Ruin Your Life</td>\n      <td>https://www.wattpad.com/362679778-kevin-hart-l...</td>\n      <td>Lying will ruin your life. Lying will ruin you...</td>\n      <td>https://www.youtube.com/watch?v=EPoOBF8-Tvs&amp;ab...</td>\n      <td>NaN</td>\n      <td>NaN</td>\n      <td>NaN</td>\n      <td>https://genius.com/Kevin-hart-let-me-explain-t...</td>\n    </tr>\n  </tbody>\n</table>\n</div>",
      "text/plain": "  Who?    Comedian                      Title  \\\n0  Leo  Kevin Hart  Lying Will Ruin Your Life   \n\n                              Link of the transcript  \\\n0  https://www.wattpad.com/362679778-kevin-hart-l...   \n\n                            Transcript (CONTENT!!!!)  \\\n0  Lying will ruin your life. Lying will ruin you...   \n\n                                          Video link  Unnamed: 6  note   \\\n0  https://www.youtube.com/watch?v=EPoOBF8-Tvs&ab...         NaN    NaN   \n\n   Unnamed: 8                                         Unnamed: 9  \n0         NaN  https://genius.com/Kevin-hart-let-me-explain-t...  "
     },
     "execution_count": 184,
     "metadata": {},
     "output_type": "execute_result"
    }
   ],
   "source": [
    "df_dataSource = pd.read_excel('DataSource_80clips.xlsx')\n",
    "df_titleWithComedian = pd.read_excel('Title&Comedian.xlsx')\n",
    "\n",
    "Tit_func = lambda x: x.title()\n",
    "comedians_name = df_titleWithComedian['Comedian'].apply(Tit_func)\n",
    "\n",
    "df_dataSource[:1]\n",
    "# comedians_name"
   ]
  },
  {
   "cell_type": "code",
   "execution_count": 185,
   "metadata": {},
   "outputs": [
    {
     "data": {
      "text/html": "<div>\n<style scoped>\n    .dataframe tbody tr th:only-of-type {\n        vertical-align: middle;\n    }\n\n    .dataframe tbody tr th {\n        vertical-align: top;\n    }\n\n    .dataframe thead th {\n        text-align: right;\n    }\n</style>\n<table border=\"1\" class=\"dataframe\">\n  <thead>\n    <tr style=\"text-align: right;\">\n      <th></th>\n      <th>Title</th>\n      <th>Comedian</th>\n    </tr>\n  </thead>\n  <tbody>\n    <tr>\n      <th>0</th>\n      <td>\"3 Girls? We Don't Have Time\" | Pete Davidson SMD</td>\n      <td>Pete Davidson</td>\n    </tr>\n    <tr>\n      <th>1</th>\n      <td>\"Don't Lose Your Accent / Learning Accents\" - ...</td>\n      <td>Trevor Noah</td>\n    </tr>\n    <tr>\n      <th>2</th>\n      <td>\"Flying Into America\" - Trevor Noah - (Lost In...</td>\n      <td>Trevor Noah</td>\n    </tr>\n    <tr>\n      <th>3</th>\n      <td>\"Lost Keys\" | Jo Koy : Lights Out</td>\n      <td>Jo Koy</td>\n    </tr>\n    <tr>\n      <th>4</th>\n      <td>\"Rice is Rice\" | Jo Koy : Live from Seattle</td>\n      <td>Jo Koy</td>\n    </tr>\n    <tr>\n      <th>...</th>\n      <td>...</td>\n      <td>...</td>\n    </tr>\n    <tr>\n      <th>75</th>\n      <td>When You're Late To Everything. Andy Woodhull</td>\n      <td>Andy Woodhull</td>\n    </tr>\n    <tr>\n      <th>76</th>\n      <td>Whitney Cummings - I Love You - Marriage &amp; Sex</td>\n      <td>Whitney Cummings</td>\n    </tr>\n    <tr>\n      <th>77</th>\n      <td>Whitney Cummings | I'm Your Girlfriend: Women ...</td>\n      <td>Whitney Cummings</td>\n    </tr>\n    <tr>\n      <th>78</th>\n      <td>Why Arsenio Checks His Phone Before His Wife C...</td>\n      <td>Arsenio</td>\n    </tr>\n    <tr>\n      <th>79</th>\n      <td>Why Asians Are Good At Math - Jimmy O. Yang</td>\n      <td>Jimmy O. Yang</td>\n    </tr>\n  </tbody>\n</table>\n<p>80 rows × 2 columns</p>\n</div>",
      "text/plain": "                                                Title          Comedian\n0   \"3 Girls? We Don't Have Time\" | Pete Davidson SMD     Pete Davidson\n1   \"Don't Lose Your Accent / Learning Accents\" - ...       Trevor Noah\n2   \"Flying Into America\" - Trevor Noah - (Lost In...       Trevor Noah\n3                   \"Lost Keys\" | Jo Koy : Lights Out            Jo Koy\n4         \"Rice is Rice\" | Jo Koy : Live from Seattle            Jo Koy\n..                                                ...               ...\n75      When You're Late To Everything. Andy Woodhull     Andy Woodhull\n76     Whitney Cummings - I Love You - Marriage & Sex  Whitney Cummings\n77  Whitney Cummings | I'm Your Girlfriend: Women ...  Whitney Cummings\n78  Why Arsenio Checks His Phone Before His Wife C...           Arsenio\n79        Why Asians Are Good At Math - Jimmy O. Yang     Jimmy O. Yang\n\n[80 rows x 2 columns]"
     },
     "execution_count": 185,
     "metadata": {},
     "output_type": "execute_result"
    }
   ],
   "source": [
    "grouped_df = df_webapage.groupby(\"Title\", as_index=False).count()\n",
    "grouped_df = grouped_df.drop(['Thumbsup','Name','Comment'], axis=1)\n",
    "\n",
    "grouped_df['Comedian'] = comedians_name\n",
    "grouped_df"
   ]
  },
  {
   "cell_type": "code",
   "execution_count": 186,
   "metadata": {},
   "outputs": [
    {
     "data": {
      "text/html": "<div>\n<style scoped>\n    .dataframe tbody tr th:only-of-type {\n        vertical-align: middle;\n    }\n\n    .dataframe tbody tr th {\n        vertical-align: top;\n    }\n\n    .dataframe thead th {\n        text-align: right;\n    }\n</style>\n<table border=\"1\" class=\"dataframe\">\n  <thead>\n    <tr style=\"text-align: right;\">\n      <th></th>\n      <th>Title</th>\n      <th>Comedian</th>\n      <th>Thumbsup</th>\n      <th>Name</th>\n      <th>Comment</th>\n    </tr>\n  </thead>\n  <tbody>\n    <tr>\n      <th>0</th>\n      <td>Ramy Youssef: Feelings (2019) | Why Do They Ma...</td>\n      <td>Ramy Youssef</td>\n      <td>2400</td>\n      <td>Kenza B.</td>\n      <td>He touched something really deep, first he ddn...</td>\n    </tr>\n    <tr>\n      <th>1</th>\n      <td>Ramy Youssef: Feelings (2019) | Why Do They Ma...</td>\n      <td>Ramy Youssef</td>\n      <td>1500</td>\n      <td>LMivha</td>\n      <td>How this man got his point across is absolute ...</td>\n    </tr>\n    <tr>\n      <th>2</th>\n      <td>Ramy Youssef: Feelings (2019) | Why Do They Ma...</td>\n      <td>Ramy Youssef</td>\n      <td>1200</td>\n      <td>Marissa Urias</td>\n      <td>Wow, people in the comments really don't get t...</td>\n    </tr>\n    <tr>\n      <th>3</th>\n      <td>Ramy Youssef: Feelings (2019) | Why Do They Ma...</td>\n      <td>Ramy Youssef</td>\n      <td>909</td>\n      <td>Riaz Uddin</td>\n      <td>This is what I tell people all the time, just ...</td>\n    </tr>\n    <tr>\n      <th>4</th>\n      <td>Ramy Youssef: Feelings (2019) | Why Do They Ma...</td>\n      <td>Ramy Youssef</td>\n      <td>837</td>\n      <td>Shannon dobbs</td>\n      <td>They don't ask NUNS THAT! 🙄</td>\n    </tr>\n    <tr>\n      <th>...</th>\n      <td>...</td>\n      <td>...</td>\n      <td>...</td>\n      <td>...</td>\n      <td>...</td>\n    </tr>\n    <tr>\n      <th>17748</th>\n      <td>Black Music Tells You Everything You Need to K...</td>\n      <td>Roy Wood Jr.</td>\n      <td>0</td>\n      <td>357 Magnum</td>\n      <td>I'm guessing he doesn't live in a colorblind w...</td>\n    </tr>\n    <tr>\n      <th>17749</th>\n      <td>Black Music Tells You Everything You Need to K...</td>\n      <td>Roy Wood Jr.</td>\n      <td>3</td>\n      <td>Erin James</td>\n      <td>Then leave my dear friend. Youve been free for...</td>\n    </tr>\n    <tr>\n      <th>17750</th>\n      <td>Black Music Tells You Everything You Need to K...</td>\n      <td>Roy Wood Jr.</td>\n      <td>0</td>\n      <td>I'm black So I'm slow</td>\n      <td>We didn't create the blue's!... We didn't crea...</td>\n    </tr>\n    <tr>\n      <th>17751</th>\n      <td>Black Music Tells You Everything You Need to K...</td>\n      <td>Roy Wood Jr.</td>\n      <td>2</td>\n      <td>ralph salotto</td>\n      <td>Now that you mention it he's right, the Blues ...</td>\n    </tr>\n    <tr>\n      <th>17752</th>\n      <td>Black Music Tells You Everything You Need to K...</td>\n      <td>Roy Wood Jr.</td>\n      <td>0</td>\n      <td>Garbanzo Beans</td>\n      <td>Far more black people have migrated to the US ...</td>\n    </tr>\n  </tbody>\n</table>\n<p>17753 rows × 5 columns</p>\n</div>",
      "text/plain": "                                                   Title      Comedian  \\\n0      Ramy Youssef: Feelings (2019) | Why Do They Ma...  Ramy Youssef   \n1      Ramy Youssef: Feelings (2019) | Why Do They Ma...  Ramy Youssef   \n2      Ramy Youssef: Feelings (2019) | Why Do They Ma...  Ramy Youssef   \n3      Ramy Youssef: Feelings (2019) | Why Do They Ma...  Ramy Youssef   \n4      Ramy Youssef: Feelings (2019) | Why Do They Ma...  Ramy Youssef   \n...                                                  ...           ...   \n17748  Black Music Tells You Everything You Need to K...  Roy Wood Jr.   \n17749  Black Music Tells You Everything You Need to K...  Roy Wood Jr.   \n17750  Black Music Tells You Everything You Need to K...  Roy Wood Jr.   \n17751  Black Music Tells You Everything You Need to K...  Roy Wood Jr.   \n17752  Black Music Tells You Everything You Need to K...  Roy Wood Jr.   \n\n      Thumbsup                   Name  \\\n0         2400               Kenza B.   \n1         1500                 LMivha   \n2         1200          Marissa Urias   \n3          909             Riaz Uddin   \n4          837          Shannon dobbs   \n...        ...                    ...   \n17748        0             357 Magnum   \n17749        3             Erin James   \n17750        0  I'm black So I'm slow   \n17751        2          ralph salotto   \n17752        0         Garbanzo Beans   \n\n                                                 Comment  \n0      He touched something really deep, first he ddn...  \n1      How this man got his point across is absolute ...  \n2      Wow, people in the comments really don't get t...  \n3      This is what I tell people all the time, just ...  \n4                            They don't ask NUNS THAT! 🙄  \n...                                                  ...  \n17748  I'm guessing he doesn't live in a colorblind w...  \n17749  Then leave my dear friend. Youve been free for...  \n17750  We didn't create the blue's!... We didn't crea...  \n17751  Now that you mention it he's right, the Blues ...  \n17752  Far more black people have migrated to the US ...  \n\n[17753 rows x 5 columns]"
     },
     "execution_count": 186,
     "metadata": {},
     "output_type": "execute_result"
    }
   ],
   "source": [
    "# merge two df by \"title\"\n",
    "df = df_webapage.merge(grouped_df, left_on='Title', right_on='Title')\n",
    "df = df[['Title','Comedian','Thumbsup','Name','Comment']]\n",
    "df.to_pickle('./scrape_result_80_with_comedians.pkl')\n",
    "df"
   ]
  },
  {
   "cell_type": "code",
   "execution_count": null,
   "metadata": {},
   "outputs": [],
   "source": []
  },
  {
   "cell_type": "markdown",
   "metadata": {},
   "source": [
    "# User-Comedian Matrix"
   ]
  },
  {
   "cell_type": "code",
   "execution_count": 187,
   "metadata": {},
   "outputs": [
    {
     "data": {
      "text/html": "<div>\n<style scoped>\n    .dataframe tbody tr th:only-of-type {\n        vertical-align: middle;\n    }\n\n    .dataframe tbody tr th {\n        vertical-align: top;\n    }\n\n    .dataframe thead th {\n        text-align: right;\n    }\n</style>\n<table border=\"1\" class=\"dataframe\">\n  <thead>\n    <tr style=\"text-align: right;\">\n      <th></th>\n      <th>Name</th>\n      <th>Comedian</th>\n    </tr>\n  </thead>\n  <tbody>\n    <tr>\n      <th>0</th>\n      <td>Kenza B.</td>\n      <td>Ramy Youssef</td>\n    </tr>\n    <tr>\n      <th>1</th>\n      <td>LMivha</td>\n      <td>Ramy Youssef</td>\n    </tr>\n    <tr>\n      <th>2</th>\n      <td>Marissa Urias</td>\n      <td>Ramy Youssef</td>\n    </tr>\n    <tr>\n      <th>3</th>\n      <td>Riaz Uddin</td>\n      <td>Ramy Youssef</td>\n    </tr>\n    <tr>\n      <th>4</th>\n      <td>Shannon dobbs</td>\n      <td>Ramy Youssef</td>\n    </tr>\n    <tr>\n      <th>...</th>\n      <td>...</td>\n      <td>...</td>\n    </tr>\n    <tr>\n      <th>17748</th>\n      <td>357 Magnum</td>\n      <td>Roy Wood Jr.</td>\n    </tr>\n    <tr>\n      <th>17749</th>\n      <td>Erin James</td>\n      <td>Roy Wood Jr.</td>\n    </tr>\n    <tr>\n      <th>17750</th>\n      <td>I'm black So I'm slow</td>\n      <td>Roy Wood Jr.</td>\n    </tr>\n    <tr>\n      <th>17751</th>\n      <td>ralph salotto</td>\n      <td>Roy Wood Jr.</td>\n    </tr>\n    <tr>\n      <th>17752</th>\n      <td>Garbanzo Beans</td>\n      <td>Roy Wood Jr.</td>\n    </tr>\n  </tbody>\n</table>\n<p>17753 rows × 2 columns</p>\n</div>",
      "text/plain": "                        Name      Comedian\n0                   Kenza B.  Ramy Youssef\n1                     LMivha  Ramy Youssef\n2              Marissa Urias  Ramy Youssef\n3                 Riaz Uddin  Ramy Youssef\n4              Shannon dobbs  Ramy Youssef\n...                      ...           ...\n17748             357 Magnum  Roy Wood Jr.\n17749             Erin James  Roy Wood Jr.\n17750  I'm black So I'm slow  Roy Wood Jr.\n17751          ralph salotto  Roy Wood Jr.\n17752         Garbanzo Beans  Roy Wood Jr.\n\n[17753 rows x 2 columns]"
     },
     "execution_count": 187,
     "metadata": {},
     "output_type": "execute_result"
    }
   ],
   "source": [
    "df_clean = df[['Name', 'Comedian']]\n",
    "df_clean"
   ]
  },
  {
   "cell_type": "code",
   "execution_count": 188,
   "metadata": {},
   "outputs": [
    {
     "data": {
      "text/html": "<div>\n<style scoped>\n    .dataframe tbody tr th:only-of-type {\n        vertical-align: middle;\n    }\n\n    .dataframe tbody tr th {\n        vertical-align: top;\n    }\n\n    .dataframe thead th {\n        text-align: right;\n    }\n</style>\n<table border=\"1\" class=\"dataframe\">\n  <thead>\n    <tr style=\"text-align: right;\">\n      <th></th>\n      <th>Comedian</th>\n    </tr>\n    <tr>\n      <th>Name</th>\n      <th></th>\n    </tr>\n  </thead>\n  <tbody>\n    <tr>\n      <th>whitepride1004</th>\n      <td>31</td>\n    </tr>\n    <tr>\n      <th>Sumukh</th>\n      <td>7</td>\n    </tr>\n    <tr>\n      <th>Michael</th>\n      <td>6</td>\n    </tr>\n    <tr>\n      <th>Green Envy</th>\n      <td>6</td>\n    </tr>\n    <tr>\n      <th>Audrey New</th>\n      <td>6</td>\n    </tr>\n    <tr>\n      <th>...</th>\n      <td>...</td>\n    </tr>\n    <tr>\n      <th>Bi- Han</th>\n      <td>3</td>\n    </tr>\n    <tr>\n      <th>Lydia Waweru-Morgan</th>\n      <td>3</td>\n    </tr>\n    <tr>\n      <th>James Bond</th>\n      <td>3</td>\n    </tr>\n    <tr>\n      <th>ADEDOTUN AKANDE</th>\n      <td>3</td>\n    </tr>\n    <tr>\n      <th>Xitsundzuxo Himina</th>\n      <td>3</td>\n    </tr>\n  </tbody>\n</table>\n<p>100 rows × 1 columns</p>\n</div>",
      "text/plain": "                     Comedian\nName                         \nwhitepride1004             31\nSumukh                      7\nMichael                     6\nGreen Envy                  6\nAudrey New                  6\n...                       ...\nBi- Han                     3\nLydia Waweru-Morgan         3\nJames Bond                  3\nADEDOTUN AKANDE             3\nXitsundzuxo Himina          3\n\n[100 rows x 1 columns]"
     },
     "execution_count": 188,
     "metadata": {},
     "output_type": "execute_result"
    }
   ],
   "source": [
    "df_clean.groupby('Name').count().sort_values(by='Comedian', ascending=False).head(100)"
   ]
  },
  {
   "cell_type": "code",
   "execution_count": 189,
   "metadata": {},
   "outputs": [
    {
     "data": {
      "text/html": "<div>\n<style scoped>\n    .dataframe tbody tr th:only-of-type {\n        vertical-align: middle;\n    }\n\n    .dataframe tbody tr th {\n        vertical-align: top;\n    }\n\n    .dataframe thead th {\n        text-align: right;\n    }\n</style>\n<table border=\"1\" class=\"dataframe\">\n  <thead>\n    <tr style=\"text-align: right;\">\n      <th></th>\n      <th>Title</th>\n      <th>Name</th>\n      <th>Comment</th>\n      <th>Polarity</th>\n      <th>Subjectivity</th>\n      <th>P/N</th>\n    </tr>\n  </thead>\n  <tbody>\n    <tr>\n      <th>515</th>\n      <td>Amy Schumer - Mostly Sex Stuff - Porn Endings</td>\n      <td>Sumukh</td>\n      <td>Lmfao “I had a busy month” 😆🤣🤣</td>\n      <td>0.10</td>\n      <td>0.3</td>\n      <td>1.0</td>\n    </tr>\n    <tr>\n      <th>1545</th>\n      <td>Bert Kreischer's Wife Caught Him Watching Porn...</td>\n      <td>Sumukh</td>\n      <td>Why this guy's t-shirt lying on stage ?</td>\n      <td>0.00</td>\n      <td>0.0</td>\n      <td>0.0</td>\n    </tr>\n    <tr>\n      <th>2764</th>\n      <td>Chris D'Elia - Wanna be Gangster</td>\n      <td>Sumukh</td>\n      <td>He pulled off multiple DJ Khaled 's there 😂</td>\n      <td>0.00</td>\n      <td>0.0</td>\n      <td>0.0</td>\n    </tr>\n    <tr>\n      <th>5783</th>\n      <td>Joe Rogan Explains How Men Are Like Cats | Net...</td>\n      <td>Sumukh</td>\n      <td>The cat impression is uncanny 😂</td>\n      <td>0.00</td>\n      <td>0.0</td>\n      <td>0.0</td>\n    </tr>\n    <tr>\n      <th>10125</th>\n      <td>Kevin Hart's House Got Robbed | Netflix Is A Joke</td>\n      <td>Sumukh</td>\n      <td>The scary background music makes it even funni...</td>\n      <td>0.05</td>\n      <td>1.0</td>\n      <td>1.0</td>\n    </tr>\n    <tr>\n      <th>11964</th>\n      <td>Mark Normand Stand-Up</td>\n      <td>Sumukh</td>\n      <td>Gosh i love how he delivers</td>\n      <td>0.50</td>\n      <td>0.6</td>\n      <td>1.0</td>\n    </tr>\n    <tr>\n      <th>12363</th>\n      <td>Mark Normand - Everything’s Tense</td>\n      <td>Sumukh</td>\n      <td>“thanks a lot I'm Kevin Hart !”</td>\n      <td>0.25</td>\n      <td>0.2</td>\n      <td>1.0</td>\n    </tr>\n  </tbody>\n</table>\n</div>",
      "text/plain": "                                                   Title    Name  \\\n515        Amy Schumer - Mostly Sex Stuff - Porn Endings  Sumukh   \n1545   Bert Kreischer's Wife Caught Him Watching Porn...  Sumukh   \n2764                    Chris D'Elia - Wanna be Gangster  Sumukh   \n5783   Joe Rogan Explains How Men Are Like Cats | Net...  Sumukh   \n10125  Kevin Hart's House Got Robbed | Netflix Is A Joke  Sumukh   \n11964                              Mark Normand Stand-Up  Sumukh   \n12363                  Mark Normand - Everything’s Tense  Sumukh   \n\n                                                 Comment  Polarity  \\\n515                       Lmfao “I had a busy month” 😆🤣🤣      0.10   \n1545             Why this guy's t-shirt lying on stage ?      0.00   \n2764         He pulled off multiple DJ Khaled 's there 😂      0.00   \n5783                     The cat impression is uncanny 😂      0.00   \n10125  The scary background music makes it even funni...      0.05   \n11964                        Gosh i love how he delivers      0.50   \n12363                    “thanks a lot I'm Kevin Hart !”      0.25   \n\n       Subjectivity  P/N  \n515             0.3  1.0  \n1545            0.0  0.0  \n2764            0.0  0.0  \n5783            0.0  0.0  \n10125           1.0  1.0  \n11964           0.6  1.0  \n12363           0.2  1.0  "
     },
     "execution_count": 189,
     "metadata": {},
     "output_type": "execute_result"
    }
   ],
   "source": [
    "data_SA[data_SA['Name'] == 'Sumukh']"
   ]
  },
  {
   "cell_type": "code",
   "execution_count": 190,
   "metadata": {},
   "outputs": [
    {
     "data": {
      "text/html": "<div>\n<style scoped>\n    .dataframe tbody tr th:only-of-type {\n        vertical-align: middle;\n    }\n\n    .dataframe tbody tr th {\n        vertical-align: top;\n    }\n\n    .dataframe thead th {\n        text-align: right;\n    }\n</style>\n<table border=\"1\" class=\"dataframe\">\n  <thead>\n    <tr style=\"text-align: right;\">\n      <th></th>\n      <th>Comedian</th>\n      <th>duplicate</th>\n    </tr>\n    <tr>\n      <th>Name</th>\n      <th></th>\n      <th></th>\n    </tr>\n  </thead>\n  <tbody>\n    <tr>\n      <th>Sumukh</th>\n      <td>6</td>\n      <td>6</td>\n    </tr>\n    <tr>\n      <th>Adam Szasz</th>\n      <td>5</td>\n      <td>5</td>\n    </tr>\n    <tr>\n      <th>Green Envy</th>\n      <td>5</td>\n      <td>5</td>\n    </tr>\n    <tr>\n      <th>Whyinem</th>\n      <td>5</td>\n      <td>5</td>\n    </tr>\n    <tr>\n      <th>matthew styles</th>\n      <td>5</td>\n      <td>5</td>\n    </tr>\n    <tr>\n      <th>...</th>\n      <td>...</td>\n      <td>...</td>\n    </tr>\n    <tr>\n      <th>Devdan Louis Spurlock</th>\n      <td>2</td>\n      <td>2</td>\n    </tr>\n    <tr>\n      <th>Zach</th>\n      <td>2</td>\n      <td>2</td>\n    </tr>\n    <tr>\n      <th>Jacob Erickson</th>\n      <td>2</td>\n      <td>2</td>\n    </tr>\n    <tr>\n      <th>Ashish Kumar</th>\n      <td>2</td>\n      <td>2</td>\n    </tr>\n    <tr>\n      <th>Ludmilla Gutomo</th>\n      <td>2</td>\n      <td>2</td>\n    </tr>\n  </tbody>\n</table>\n<p>100 rows × 2 columns</p>\n</div>",
      "text/plain": "                       Comedian  duplicate\nName                                      \nSumukh                        6          6\nAdam Szasz                    5          5\nGreen Envy                    5          5\nWhyinem                       5          5\nmatthew styles                5          5\n...                         ...        ...\nDevdan Louis Spurlock         2          2\nZach                          2          2\nJacob Erickson                2          2\nAshish Kumar                  2          2\nLudmilla Gutomo               2          2\n\n[100 rows x 2 columns]"
     },
     "execution_count": 190,
     "metadata": {},
     "output_type": "execute_result"
    }
   ],
   "source": [
    "df_clean['duplicate'] = df_clean.duplicated()\n",
    "df_clean = df_clean[~df_clean['duplicate']]\n",
    "df_clean.groupby('Name').count().sort_values(by='Comedian', ascending=False).head(100)"
   ]
  },
  {
   "cell_type": "code",
   "execution_count": 191,
   "metadata": {},
   "outputs": [
    {
     "data": {
      "text/html": "<div>\n<style scoped>\n    .dataframe tbody tr th:only-of-type {\n        vertical-align: middle;\n    }\n\n    .dataframe tbody tr th {\n        vertical-align: top;\n    }\n\n    .dataframe thead th {\n        text-align: right;\n    }\n</style>\n<table border=\"1\" class=\"dataframe\">\n  <thead>\n    <tr style=\"text-align: right;\">\n      <th></th>\n      <th>Title</th>\n      <th>Name</th>\n      <th>Comment</th>\n      <th>Polarity</th>\n      <th>Subjectivity</th>\n      <th>P/N</th>\n    </tr>\n  </thead>\n  <tbody>\n    <tr>\n      <th>1369</th>\n      <td>Bert Kreischer's Wife Caught Him Watching Porn...</td>\n      <td>Kurt Sudheim</td>\n      <td>\"11:30 on a Tues afternoon\" haha</td>\n      <td>0.200000</td>\n      <td>0.300000</td>\n      <td>1.0</td>\n    </tr>\n    <tr>\n      <th>4771</th>\n      <td>Iliza Shlesinger's To Do List Before Your Wedd...</td>\n      <td>Kurt Sudheim</td>\n      <td>Just stupid extra info,  you don't lose any  m...</td>\n      <td>-0.356250</td>\n      <td>0.531250</td>\n      <td>-1.0</td>\n    </tr>\n    <tr>\n      <th>5430</th>\n      <td>Jim Jefferies Refuses the Whole Lotion Routine...</td>\n      <td>Kurt Sudheim</td>\n      <td>That: but not today! But was perfect</td>\n      <td>1.000000</td>\n      <td>1.000000</td>\n      <td>1.0</td>\n    </tr>\n    <tr>\n      <th>5431</th>\n      <td>Jim Jefferies Refuses the Whole Lotion Routine...</td>\n      <td>Kurt Sudheim</td>\n      <td>Anybody remember that line from: Get him to th...</td>\n      <td>0.036364</td>\n      <td>0.415152</td>\n      <td>1.0</td>\n    </tr>\n  </tbody>\n</table>\n</div>",
      "text/plain": "                                                  Title          Name  \\\n1369  Bert Kreischer's Wife Caught Him Watching Porn...  Kurt Sudheim   \n4771  Iliza Shlesinger's To Do List Before Your Wedd...  Kurt Sudheim   \n5430  Jim Jefferies Refuses the Whole Lotion Routine...  Kurt Sudheim   \n5431  Jim Jefferies Refuses the Whole Lotion Routine...  Kurt Sudheim   \n\n                                                Comment  Polarity  \\\n1369                   \"11:30 on a Tues afternoon\" haha  0.200000   \n4771  Just stupid extra info,  you don't lose any  m... -0.356250   \n5430               That: but not today! But was perfect  1.000000   \n5431  Anybody remember that line from: Get him to th...  0.036364   \n\n      Subjectivity  P/N  \n1369      0.300000  1.0  \n4771      0.531250 -1.0  \n5430      1.000000  1.0  \n5431      0.415152  1.0  "
     },
     "execution_count": 191,
     "metadata": {},
     "output_type": "execute_result"
    }
   ],
   "source": [
    "data_SA[data_SA['Name'] == 'Kurt Sudheim']"
   ]
  },
  {
   "cell_type": "code",
   "execution_count": 192,
   "metadata": {},
   "outputs": [
    {
     "data": {
      "text/plain": "Index(['Sumukh', 'Adam Szasz', 'Green Envy', 'Whyinem', 'matthew styles',\n       'Michael', 'Ian Crouch', 'Xfirex Xbites', 'Panos kanos', 'Papa Grounds',\n       'brainflash1', 'Tyrone Frye', 'John Smith', 'P V', 'Wuft Chan',\n       'Jennifer Bates', 'Michiko Manalang', 'Claudia Solomon',\n       'EaST CoAsT MaCHete', 'Mike bee', 'Tommaso Urbisci', 'BabyChainGang',\n       'R. A.', 'Real Talk', 'Cleveland Maker', 'Anton Nym', 'Bi- Han',\n       'Michael Pipkin', 'J', 'xirsamoht x', 'Remedy', 'John Paul Lafferty',\n       'A B', 'That Guy', 'Niko', 'A M', 'Kurt Sudheim', 'A Z', 'Sam',\n       'Mike Jones', 'black bird', 'Anna markandan', 'Vmundo Ortiz',\n       'Lydia Waweru-Morgan', 'yew 2oob', 'Kevin Smith', 'L K', 'Jay Jay',\n       'Bonafide Slacker', 'R B', 'Andrew Wiggin', 'Vikram Singh',\n       'Comedy Central Stand-Up\\n\\n\\n\\n      \\n    Comedy Central Stand-Up',\n       'Cynthia Copland', 'Stacy Melanson', 'Allison Linner', 'John Doe',\n       'Christopher', 'K M', 'Tragoudistros.MPH', 'Audrey New', 'J C',\n       'James Bond', 'CamTheDestroyer', 'g', 'Glenn Davey',\n       'Mattastic Mattattack', 'Dee Cohen', 'Meagan Woolstrum', 'Peter E',\n       'Rob', 'Michelle McFarland', 'Ethan Hayden', 'dan lowe', 'A', 'S G',\n       'Michael Sorrentino', 'Chris young', 'ADEDOTUN AKANDE', 'Alex', 'M S',\n       'Pauline Peppler', 'M A', 'M B', 'JUDALATION gamestrodamous', 'M D',\n       'Lowkey Arki', 'William Latson', 'M M', 'Anjali Singh',\n       'William Sullivan', 'Lion of Apollo', 'Sitharos', 'WildWilly BroCro',\n       'J L', 'Devdan Louis Spurlock', 'Zach', 'Jacob Erickson',\n       'Ashish Kumar', 'Ludmilla Gutomo'],\n      dtype='object', name='Name')"
     },
     "execution_count": 192,
     "metadata": {},
     "output_type": "execute_result"
    }
   ],
   "source": [
    "# Select the top 100 users \n",
    "users = df_clean.groupby('Name').count().sort_values(by='Comedian', ascending=False).head(100).index\n",
    "users"
   ]
  },
  {
   "cell_type": "code",
   "execution_count": 193,
   "metadata": {},
   "outputs": [
    {
     "data": {
      "text/plain": "43"
     },
     "execution_count": 193,
     "metadata": {},
     "output_type": "execute_result"
    }
   ],
   "source": [
    "unique_comedians = list(set(df_clean.Comedian))\n",
    "len(list(set(df_clean.Comedian)))"
   ]
  },
  {
   "cell_type": "code",
   "execution_count": 194,
   "metadata": {},
   "outputs": [
    {
     "data": {
      "text/html": "<div>\n<style scoped>\n    .dataframe tbody tr th:only-of-type {\n        vertical-align: middle;\n    }\n\n    .dataframe tbody tr th {\n        vertical-align: top;\n    }\n\n    .dataframe thead th {\n        text-align: right;\n    }\n</style>\n<table border=\"1\" class=\"dataframe\">\n  <thead>\n    <tr style=\"text-align: right;\">\n      <th></th>\n      <th>Arsenio</th>\n      <th>Trevor Noah</th>\n      <th>Chris Rock</th>\n      <th>Joe Rogan</th>\n      <th>Dave Chappelle</th>\n      <th>Andy Woodhull</th>\n      <th>George Lopez</th>\n      <th>Tom Segura</th>\n      <th>Michelle Wolf</th>\n      <th>Roy Wood Jr.</th>\n      <th>...</th>\n      <th>Kenny Sebastian</th>\n      <th>Michael Mcintyre</th>\n      <th>Hannah Gadsby</th>\n      <th>Hasan Minhaj</th>\n      <th>Ramy Youssef</th>\n      <th>Jim Jefferies</th>\n      <th>Russell Peters</th>\n      <th>Bert Kreischer</th>\n      <th>Marc Maron</th>\n      <th>Ronny Chieng</th>\n    </tr>\n    <tr>\n      <th>Name</th>\n      <th></th>\n      <th></th>\n      <th></th>\n      <th></th>\n      <th></th>\n      <th></th>\n      <th></th>\n      <th></th>\n      <th></th>\n      <th></th>\n      <th></th>\n      <th></th>\n      <th></th>\n      <th></th>\n      <th></th>\n      <th></th>\n      <th></th>\n      <th></th>\n      <th></th>\n      <th></th>\n      <th></th>\n    </tr>\n  </thead>\n  <tbody>\n    <tr>\n      <th>Sumukh</th>\n      <td>0</td>\n      <td>0</td>\n      <td>0</td>\n      <td>0</td>\n      <td>0</td>\n      <td>0</td>\n      <td>0</td>\n      <td>0</td>\n      <td>0</td>\n      <td>0</td>\n      <td>...</td>\n      <td>0</td>\n      <td>0</td>\n      <td>0</td>\n      <td>0</td>\n      <td>0</td>\n      <td>0</td>\n      <td>0</td>\n      <td>0</td>\n      <td>0</td>\n      <td>0</td>\n    </tr>\n    <tr>\n      <th>Adam Szasz</th>\n      <td>0</td>\n      <td>0</td>\n      <td>0</td>\n      <td>0</td>\n      <td>0</td>\n      <td>0</td>\n      <td>0</td>\n      <td>0</td>\n      <td>0</td>\n      <td>0</td>\n      <td>...</td>\n      <td>0</td>\n      <td>0</td>\n      <td>0</td>\n      <td>0</td>\n      <td>0</td>\n      <td>0</td>\n      <td>0</td>\n      <td>0</td>\n      <td>0</td>\n      <td>0</td>\n    </tr>\n    <tr>\n      <th>Green Envy</th>\n      <td>0</td>\n      <td>0</td>\n      <td>0</td>\n      <td>0</td>\n      <td>0</td>\n      <td>0</td>\n      <td>0</td>\n      <td>0</td>\n      <td>0</td>\n      <td>0</td>\n      <td>...</td>\n      <td>0</td>\n      <td>0</td>\n      <td>0</td>\n      <td>0</td>\n      <td>0</td>\n      <td>0</td>\n      <td>0</td>\n      <td>0</td>\n      <td>0</td>\n      <td>0</td>\n    </tr>\n    <tr>\n      <th>Whyinem</th>\n      <td>0</td>\n      <td>0</td>\n      <td>0</td>\n      <td>0</td>\n      <td>0</td>\n      <td>0</td>\n      <td>0</td>\n      <td>0</td>\n      <td>0</td>\n      <td>0</td>\n      <td>...</td>\n      <td>0</td>\n      <td>0</td>\n      <td>0</td>\n      <td>0</td>\n      <td>0</td>\n      <td>0</td>\n      <td>0</td>\n      <td>0</td>\n      <td>0</td>\n      <td>0</td>\n    </tr>\n    <tr>\n      <th>matthew styles</th>\n      <td>0</td>\n      <td>0</td>\n      <td>0</td>\n      <td>0</td>\n      <td>0</td>\n      <td>0</td>\n      <td>0</td>\n      <td>0</td>\n      <td>0</td>\n      <td>0</td>\n      <td>...</td>\n      <td>0</td>\n      <td>0</td>\n      <td>0</td>\n      <td>0</td>\n      <td>0</td>\n      <td>0</td>\n      <td>0</td>\n      <td>0</td>\n      <td>0</td>\n      <td>0</td>\n    </tr>\n    <tr>\n      <th>...</th>\n      <td>...</td>\n      <td>...</td>\n      <td>...</td>\n      <td>...</td>\n      <td>...</td>\n      <td>...</td>\n      <td>...</td>\n      <td>...</td>\n      <td>...</td>\n      <td>...</td>\n      <td>...</td>\n      <td>...</td>\n      <td>...</td>\n      <td>...</td>\n      <td>...</td>\n      <td>...</td>\n      <td>...</td>\n      <td>...</td>\n      <td>...</td>\n      <td>...</td>\n      <td>...</td>\n    </tr>\n    <tr>\n      <th>Devdan Louis Spurlock</th>\n      <td>0</td>\n      <td>0</td>\n      <td>0</td>\n      <td>0</td>\n      <td>0</td>\n      <td>0</td>\n      <td>0</td>\n      <td>0</td>\n      <td>0</td>\n      <td>0</td>\n      <td>...</td>\n      <td>0</td>\n      <td>0</td>\n      <td>0</td>\n      <td>0</td>\n      <td>0</td>\n      <td>0</td>\n      <td>0</td>\n      <td>0</td>\n      <td>0</td>\n      <td>0</td>\n    </tr>\n    <tr>\n      <th>Zach</th>\n      <td>0</td>\n      <td>0</td>\n      <td>0</td>\n      <td>0</td>\n      <td>0</td>\n      <td>0</td>\n      <td>0</td>\n      <td>0</td>\n      <td>0</td>\n      <td>0</td>\n      <td>...</td>\n      <td>0</td>\n      <td>0</td>\n      <td>0</td>\n      <td>0</td>\n      <td>0</td>\n      <td>0</td>\n      <td>0</td>\n      <td>0</td>\n      <td>0</td>\n      <td>0</td>\n    </tr>\n    <tr>\n      <th>Jacob Erickson</th>\n      <td>0</td>\n      <td>0</td>\n      <td>0</td>\n      <td>0</td>\n      <td>0</td>\n      <td>0</td>\n      <td>0</td>\n      <td>0</td>\n      <td>0</td>\n      <td>0</td>\n      <td>...</td>\n      <td>0</td>\n      <td>0</td>\n      <td>0</td>\n      <td>0</td>\n      <td>0</td>\n      <td>0</td>\n      <td>0</td>\n      <td>0</td>\n      <td>0</td>\n      <td>0</td>\n    </tr>\n    <tr>\n      <th>Ashish Kumar</th>\n      <td>0</td>\n      <td>0</td>\n      <td>0</td>\n      <td>0</td>\n      <td>0</td>\n      <td>0</td>\n      <td>0</td>\n      <td>0</td>\n      <td>0</td>\n      <td>0</td>\n      <td>...</td>\n      <td>0</td>\n      <td>0</td>\n      <td>0</td>\n      <td>0</td>\n      <td>0</td>\n      <td>0</td>\n      <td>0</td>\n      <td>0</td>\n      <td>0</td>\n      <td>0</td>\n    </tr>\n    <tr>\n      <th>Ludmilla Gutomo</th>\n      <td>0</td>\n      <td>0</td>\n      <td>0</td>\n      <td>0</td>\n      <td>0</td>\n      <td>0</td>\n      <td>0</td>\n      <td>0</td>\n      <td>0</td>\n      <td>0</td>\n      <td>...</td>\n      <td>0</td>\n      <td>0</td>\n      <td>0</td>\n      <td>0</td>\n      <td>0</td>\n      <td>0</td>\n      <td>0</td>\n      <td>0</td>\n      <td>0</td>\n      <td>0</td>\n    </tr>\n  </tbody>\n</table>\n<p>100 rows × 43 columns</p>\n</div>",
      "text/plain": "                       Arsenio  Trevor Noah  Chris Rock  Joe Rogan  \\\nName                                                                 \nSumukh                       0            0           0          0   \nAdam Szasz                   0            0           0          0   \nGreen Envy                   0            0           0          0   \nWhyinem                      0            0           0          0   \nmatthew styles               0            0           0          0   \n...                        ...          ...         ...        ...   \nDevdan Louis Spurlock        0            0           0          0   \nZach                         0            0           0          0   \nJacob Erickson               0            0           0          0   \nAshish Kumar                 0            0           0          0   \nLudmilla Gutomo              0            0           0          0   \n\n                       Dave Chappelle  Andy Woodhull  George Lopez  \\\nName                                                                 \nSumukh                              0              0             0   \nAdam Szasz                          0              0             0   \nGreen Envy                          0              0             0   \nWhyinem                             0              0             0   \nmatthew styles                      0              0             0   \n...                               ...            ...           ...   \nDevdan Louis Spurlock               0              0             0   \nZach                                0              0             0   \nJacob Erickson                      0              0             0   \nAshish Kumar                        0              0             0   \nLudmilla Gutomo                     0              0             0   \n\n                       Tom Segura  Michelle Wolf  Roy Wood Jr.  ...  \\\nName                                                            ...   \nSumukh                          0              0             0  ...   \nAdam Szasz                      0              0             0  ...   \nGreen Envy                      0              0             0  ...   \nWhyinem                         0              0             0  ...   \nmatthew styles                  0              0             0  ...   \n...                           ...            ...           ...  ...   \nDevdan Louis Spurlock           0              0             0  ...   \nZach                            0              0             0  ...   \nJacob Erickson                  0              0             0  ...   \nAshish Kumar                    0              0             0  ...   \nLudmilla Gutomo                 0              0             0  ...   \n\n                       Kenny Sebastian  Michael Mcintyre  Hannah Gadsby  \\\nName                                                                      \nSumukh                               0                 0              0   \nAdam Szasz                           0                 0              0   \nGreen Envy                           0                 0              0   \nWhyinem                              0                 0              0   \nmatthew styles                       0                 0              0   \n...                                ...               ...            ...   \nDevdan Louis Spurlock                0                 0              0   \nZach                                 0                 0              0   \nJacob Erickson                       0                 0              0   \nAshish Kumar                         0                 0              0   \nLudmilla Gutomo                      0                 0              0   \n\n                       Hasan Minhaj  Ramy Youssef  Jim Jefferies  \\\nName                                                               \nSumukh                            0             0              0   \nAdam Szasz                        0             0              0   \nGreen Envy                        0             0              0   \nWhyinem                           0             0              0   \nmatthew styles                    0             0              0   \n...                             ...           ...            ...   \nDevdan Louis Spurlock             0             0              0   \nZach                              0             0              0   \nJacob Erickson                    0             0              0   \nAshish Kumar                      0             0              0   \nLudmilla Gutomo                   0             0              0   \n\n                       Russell Peters  Bert Kreischer  Marc Maron  \\\nName                                                                \nSumukh                              0               0           0   \nAdam Szasz                          0               0           0   \nGreen Envy                          0               0           0   \nWhyinem                             0               0           0   \nmatthew styles                      0               0           0   \n...                               ...             ...         ...   \nDevdan Louis Spurlock               0               0           0   \nZach                                0               0           0   \nJacob Erickson                      0               0           0   \nAshish Kumar                        0               0           0   \nLudmilla Gutomo                     0               0           0   \n\n                       Ronny Chieng  \nName                                 \nSumukh                            0  \nAdam Szasz                        0  \nGreen Envy                        0  \nWhyinem                           0  \nmatthew styles                    0  \n...                             ...  \nDevdan Louis Spurlock             0  \nZach                              0  \nJacob Erickson                    0  \nAshish Kumar                      0  \nLudmilla Gutomo                   0  \n\n[100 rows x 43 columns]"
     },
     "execution_count": 194,
     "metadata": {},
     "output_type": "execute_result"
    }
   ],
   "source": [
    "df_ucm = pd.DataFrame(0, index=users, columns=unique_comedians)\n",
    "df_ucm"
   ]
  },
  {
   "cell_type": "code",
   "execution_count": 195,
   "metadata": {},
   "outputs": [
    {
     "data": {
      "text/html": "<div>\n<style scoped>\n    .dataframe tbody tr th:only-of-type {\n        vertical-align: middle;\n    }\n\n    .dataframe tbody tr th {\n        vertical-align: top;\n    }\n\n    .dataframe thead th {\n        text-align: right;\n    }\n</style>\n<table border=\"1\" class=\"dataframe\">\n  <thead>\n    <tr style=\"text-align: right;\">\n      <th></th>\n      <th>Title</th>\n      <th>Name</th>\n      <th>Comment</th>\n      <th>Polarity</th>\n      <th>Subjectivity</th>\n      <th>P/N</th>\n      <th>Comedian</th>\n    </tr>\n  </thead>\n  <tbody>\n    <tr>\n      <th>0</th>\n      <td>Ramy Youssef: Feelings (2019) | Why Do They Ma...</td>\n      <td>Kenza B.</td>\n      <td>He touched something really deep, first he ddn...</td>\n      <td>-0.137500</td>\n      <td>0.547917</td>\n      <td>-1.0</td>\n      <td>Ramy Youssef</td>\n    </tr>\n    <tr>\n      <th>1</th>\n      <td>Ramy Youssef: Feelings (2019) | Why Do They Ma...</td>\n      <td>LMivha</td>\n      <td>How this man got his point across is absolute ...</td>\n      <td>0.200000</td>\n      <td>0.900000</td>\n      <td>1.0</td>\n      <td>Ramy Youssef</td>\n    </tr>\n    <tr>\n      <th>2</th>\n      <td>Ramy Youssef: Feelings (2019) | Why Do They Ma...</td>\n      <td>Marissa Urias</td>\n      <td>Wow, people in the comments really don't get t...</td>\n      <td>0.160000</td>\n      <td>0.365000</td>\n      <td>1.0</td>\n      <td>Ramy Youssef</td>\n    </tr>\n    <tr>\n      <th>3</th>\n      <td>Ramy Youssef: Feelings (2019) | Why Do They Ma...</td>\n      <td>Riaz Uddin</td>\n      <td>This is what I tell people all the time, just ...</td>\n      <td>-0.406250</td>\n      <td>0.793750</td>\n      <td>-1.0</td>\n      <td>Ramy Youssef</td>\n    </tr>\n    <tr>\n      <th>4</th>\n      <td>Ramy Youssef: Feelings (2019) | Why Do They Ma...</td>\n      <td>Shannon dobbs</td>\n      <td>They don't ask NUNS THAT! 🙄</td>\n      <td>0.000000</td>\n      <td>0.000000</td>\n      <td>0.0</td>\n      <td>Ramy Youssef</td>\n    </tr>\n    <tr>\n      <th>...</th>\n      <td>...</td>\n      <td>...</td>\n      <td>...</td>\n      <td>...</td>\n      <td>...</td>\n      <td>...</td>\n      <td>...</td>\n    </tr>\n    <tr>\n      <th>17748</th>\n      <td>Black Music Tells You Everything You Need to K...</td>\n      <td>357 Magnum</td>\n      <td>I'm guessing he doesn't live in a colorblind w...</td>\n      <td>-0.243434</td>\n      <td>0.533333</td>\n      <td>-1.0</td>\n      <td>Roy Wood Jr.</td>\n    </tr>\n    <tr>\n      <th>17749</th>\n      <td>Black Music Tells You Everything You Need to K...</td>\n      <td>Erin James</td>\n      <td>Then leave my dear friend. Youve been free for...</td>\n      <td>-0.237500</td>\n      <td>0.733333</td>\n      <td>-1.0</td>\n      <td>Roy Wood Jr.</td>\n    </tr>\n    <tr>\n      <th>17750</th>\n      <td>Black Music Tells You Everything You Need to K...</td>\n      <td>I'm black So I'm slow</td>\n      <td>We didn't create the blue's!... We didn't crea...</td>\n      <td>0.000000</td>\n      <td>0.100000</td>\n      <td>0.0</td>\n      <td>Roy Wood Jr.</td>\n    </tr>\n    <tr>\n      <th>17751</th>\n      <td>Black Music Tells You Everything You Need to K...</td>\n      <td>ralph salotto</td>\n      <td>Now that you mention it he's right, the Blues ...</td>\n      <td>0.361905</td>\n      <td>0.511905</td>\n      <td>1.0</td>\n      <td>Roy Wood Jr.</td>\n    </tr>\n    <tr>\n      <th>17752</th>\n      <td>Black Music Tells You Everything You Need to K...</td>\n      <td>Garbanzo Beans</td>\n      <td>Far more black people have migrated to the US ...</td>\n      <td>0.130952</td>\n      <td>0.595238</td>\n      <td>1.0</td>\n      <td>Roy Wood Jr.</td>\n    </tr>\n  </tbody>\n</table>\n<p>17753 rows × 7 columns</p>\n</div>",
      "text/plain": "                                                   Title  \\\n0      Ramy Youssef: Feelings (2019) | Why Do They Ma...   \n1      Ramy Youssef: Feelings (2019) | Why Do They Ma...   \n2      Ramy Youssef: Feelings (2019) | Why Do They Ma...   \n3      Ramy Youssef: Feelings (2019) | Why Do They Ma...   \n4      Ramy Youssef: Feelings (2019) | Why Do They Ma...   \n...                                                  ...   \n17748  Black Music Tells You Everything You Need to K...   \n17749  Black Music Tells You Everything You Need to K...   \n17750  Black Music Tells You Everything You Need to K...   \n17751  Black Music Tells You Everything You Need to K...   \n17752  Black Music Tells You Everything You Need to K...   \n\n                        Name  \\\n0                   Kenza B.   \n1                     LMivha   \n2              Marissa Urias   \n3                 Riaz Uddin   \n4              Shannon dobbs   \n...                      ...   \n17748             357 Magnum   \n17749             Erin James   \n17750  I'm black So I'm slow   \n17751          ralph salotto   \n17752         Garbanzo Beans   \n\n                                                 Comment  Polarity  \\\n0      He touched something really deep, first he ddn... -0.137500   \n1      How this man got his point across is absolute ...  0.200000   \n2      Wow, people in the comments really don't get t...  0.160000   \n3      This is what I tell people all the time, just ... -0.406250   \n4                            They don't ask NUNS THAT! 🙄  0.000000   \n...                                                  ...       ...   \n17748  I'm guessing he doesn't live in a colorblind w... -0.243434   \n17749  Then leave my dear friend. Youve been free for... -0.237500   \n17750  We didn't create the blue's!... We didn't crea...  0.000000   \n17751  Now that you mention it he's right, the Blues ...  0.361905   \n17752  Far more black people have migrated to the US ...  0.130952   \n\n       Subjectivity  P/N      Comedian  \n0          0.547917 -1.0  Ramy Youssef  \n1          0.900000  1.0  Ramy Youssef  \n2          0.365000  1.0  Ramy Youssef  \n3          0.793750 -1.0  Ramy Youssef  \n4          0.000000  0.0  Ramy Youssef  \n...             ...  ...           ...  \n17748      0.533333 -1.0  Roy Wood Jr.  \n17749      0.733333 -1.0  Roy Wood Jr.  \n17750      0.100000  0.0  Roy Wood Jr.  \n17751      0.511905  1.0  Roy Wood Jr.  \n17752      0.595238  1.0  Roy Wood Jr.  \n\n[17753 rows x 7 columns]"
     },
     "execution_count": 195,
     "metadata": {},
     "output_type": "execute_result"
    }
   ],
   "source": [
    "df_score_data = data_SA.merge(grouped_df, left_on='Title', right_on='Title')\n",
    "df_score_data"
   ]
  },
  {
   "cell_type": "code",
   "execution_count": 196,
   "metadata": {},
   "outputs": [
    {
     "data": {
      "text/html": "<div>\n<style scoped>\n    .dataframe tbody tr th:only-of-type {\n        vertical-align: middle;\n    }\n\n    .dataframe tbody tr th {\n        vertical-align: top;\n    }\n\n    .dataframe thead th {\n        text-align: right;\n    }\n</style>\n<table border=\"1\" class=\"dataframe\">\n  <thead>\n    <tr style=\"text-align: right;\">\n      <th></th>\n      <th>Comedian</th>\n      <th>Name</th>\n      <th>Polarity</th>\n      <th>Subjectivity</th>\n      <th>P/N</th>\n    </tr>\n  </thead>\n  <tbody>\n    <tr>\n      <th>0</th>\n      <td>Amy Schumer</td>\n      <td>02. Vernita Green Beatrix KiDDo</td>\n      <td>0.000000</td>\n      <td>0.000000</td>\n      <td>0.0</td>\n    </tr>\n    <tr>\n      <th>1</th>\n      <td>Amy Schumer</td>\n      <td>100cincinnati</td>\n      <td>-0.291667</td>\n      <td>0.541667</td>\n      <td>-1.0</td>\n    </tr>\n    <tr>\n      <th>2</th>\n      <td>Amy Schumer</td>\n      <td>@wordzgirl</td>\n      <td>0.145429</td>\n      <td>0.624579</td>\n      <td>1.0</td>\n    </tr>\n    <tr>\n      <th>3</th>\n      <td>Amy Schumer</td>\n      <td>A</td>\n      <td>0.875000</td>\n      <td>0.900000</td>\n      <td>1.0</td>\n    </tr>\n    <tr>\n      <th>4</th>\n      <td>Amy Schumer</td>\n      <td>A Diet Called Sεx</td>\n      <td>0.000000</td>\n      <td>0.000000</td>\n      <td>0.0</td>\n    </tr>\n    <tr>\n      <th>...</th>\n      <td>...</td>\n      <td>...</td>\n      <td>...</td>\n      <td>...</td>\n      <td>...</td>\n    </tr>\n    <tr>\n      <th>17138</th>\n      <td>Whitney Cummings</td>\n      <td>yew 2oob</td>\n      <td>0.800000</td>\n      <td>0.750000</td>\n      <td>1.0</td>\n    </tr>\n    <tr>\n      <th>17139</th>\n      <td>Whitney Cummings</td>\n      <td>zhanna davidova</td>\n      <td>0.000000</td>\n      <td>0.000000</td>\n      <td>0.0</td>\n    </tr>\n    <tr>\n      <th>17140</th>\n      <td>Whitney Cummings</td>\n      <td>zja42188</td>\n      <td>0.156250</td>\n      <td>0.666667</td>\n      <td>1.0</td>\n    </tr>\n    <tr>\n      <th>17141</th>\n      <td>Whitney Cummings</td>\n      <td>のぢGrey</td>\n      <td>0.800000</td>\n      <td>1.000000</td>\n      <td>1.0</td>\n    </tr>\n    <tr>\n      <th>17142</th>\n      <td>Whitney Cummings</td>\n      <td>王 アテム空白Le Chiffre</td>\n      <td>0.000000</td>\n      <td>0.000000</td>\n      <td>0.0</td>\n    </tr>\n  </tbody>\n</table>\n<p>17143 rows × 5 columns</p>\n</div>",
      "text/plain": "               Comedian                             Name  Polarity  \\\n0           Amy Schumer  02. Vernita Green Beatrix KiDDo  0.000000   \n1           Amy Schumer                    100cincinnati -0.291667   \n2           Amy Schumer                       @wordzgirl  0.145429   \n3           Amy Schumer                                A  0.875000   \n4           Amy Schumer                A Diet Called Sεx  0.000000   \n...                 ...                              ...       ...   \n17138  Whitney Cummings                         yew 2oob  0.800000   \n17139  Whitney Cummings                  zhanna davidova  0.000000   \n17140  Whitney Cummings                         zja42188  0.156250   \n17141  Whitney Cummings                           のぢGrey  0.800000   \n17142  Whitney Cummings                王 アテム空白Le Chiffre  0.000000   \n\n       Subjectivity  P/N  \n0          0.000000  0.0  \n1          0.541667 -1.0  \n2          0.624579  1.0  \n3          0.900000  1.0  \n4          0.000000  0.0  \n...             ...  ...  \n17138      0.750000  1.0  \n17139      0.000000  0.0  \n17140      0.666667  1.0  \n17141      1.000000  1.0  \n17142      0.000000  0.0  \n\n[17143 rows x 5 columns]"
     },
     "execution_count": 196,
     "metadata": {},
     "output_type": "execute_result"
    }
   ],
   "source": [
    "df_avg_score = df_score_data.groupby(['Comedian','Name'], as_index=False).mean()\n",
    "df_avg_score\n",
    "# test = df_score_data.groupby(['Comedian','Name'], as_index=False).mean()\n",
    "# test[test['P/N']<0.9].sort_values(by='P/N', ascending=False)"
   ]
  },
  {
   "cell_type": "code",
   "execution_count": 198,
   "metadata": {},
   "outputs": [
    {
     "data": {
      "text/html": "<div>\n<style scoped>\n    .dataframe tbody tr th:only-of-type {\n        vertical-align: middle;\n    }\n\n    .dataframe tbody tr th {\n        vertical-align: top;\n    }\n\n    .dataframe thead th {\n        text-align: right;\n    }\n</style>\n<table border=\"1\" class=\"dataframe\">\n  <thead>\n    <tr style=\"text-align: right;\">\n      <th></th>\n      <th>Arsenio</th>\n      <th>Trevor Noah</th>\n      <th>Chris Rock</th>\n      <th>Joe Rogan</th>\n      <th>Dave Chappelle</th>\n      <th>Andy Woodhull</th>\n      <th>George Lopez</th>\n      <th>Tom Segura</th>\n      <th>Michelle Wolf</th>\n      <th>Roy Wood Jr.</th>\n      <th>...</th>\n      <th>Kenny Sebastian</th>\n      <th>Michael Mcintyre</th>\n      <th>Hannah Gadsby</th>\n      <th>Hasan Minhaj</th>\n      <th>Ramy Youssef</th>\n      <th>Jim Jefferies</th>\n      <th>Russell Peters</th>\n      <th>Bert Kreischer</th>\n      <th>Marc Maron</th>\n      <th>Ronny Chieng</th>\n    </tr>\n    <tr>\n      <th>Name</th>\n      <th></th>\n      <th></th>\n      <th></th>\n      <th></th>\n      <th></th>\n      <th></th>\n      <th></th>\n      <th></th>\n      <th></th>\n      <th></th>\n      <th></th>\n      <th></th>\n      <th></th>\n      <th></th>\n      <th></th>\n      <th></th>\n      <th></th>\n      <th></th>\n      <th></th>\n      <th></th>\n      <th></th>\n    </tr>\n  </thead>\n  <tbody>\n    <tr>\n      <th>Sumukh</th>\n      <td>0</td>\n      <td>0</td>\n      <td>0</td>\n      <td>0</td>\n      <td>0</td>\n      <td>0</td>\n      <td>0</td>\n      <td>0</td>\n      <td>0</td>\n      <td>0</td>\n      <td>...</td>\n      <td>0</td>\n      <td>0</td>\n      <td>0</td>\n      <td>0</td>\n      <td>0</td>\n      <td>0</td>\n      <td>0</td>\n      <td>0</td>\n      <td>0</td>\n      <td>0</td>\n    </tr>\n    <tr>\n      <th>Adam Szasz</th>\n      <td>0</td>\n      <td>0</td>\n      <td>0</td>\n      <td>0</td>\n      <td>0</td>\n      <td>0</td>\n      <td>0</td>\n      <td>0</td>\n      <td>0</td>\n      <td>0</td>\n      <td>...</td>\n      <td>0</td>\n      <td>-1</td>\n      <td>0</td>\n      <td>0</td>\n      <td>0</td>\n      <td>0</td>\n      <td>0</td>\n      <td>0</td>\n      <td>0</td>\n      <td>0</td>\n    </tr>\n    <tr>\n      <th>Green Envy</th>\n      <td>0</td>\n      <td>0</td>\n      <td>0</td>\n      <td>0</td>\n      <td>0</td>\n      <td>0</td>\n      <td>0</td>\n      <td>0</td>\n      <td>0</td>\n      <td>0</td>\n      <td>...</td>\n      <td>0</td>\n      <td>0</td>\n      <td>1</td>\n      <td>0</td>\n      <td>0</td>\n      <td>0</td>\n      <td>0</td>\n      <td>0</td>\n      <td>0</td>\n      <td>0</td>\n    </tr>\n    <tr>\n      <th>Whyinem</th>\n      <td>0</td>\n      <td>0</td>\n      <td>0</td>\n      <td>0</td>\n      <td>0</td>\n      <td>0</td>\n      <td>0</td>\n      <td>0</td>\n      <td>0</td>\n      <td>0</td>\n      <td>...</td>\n      <td>0</td>\n      <td>0</td>\n      <td>0</td>\n      <td>0</td>\n      <td>0</td>\n      <td>0</td>\n      <td>0</td>\n      <td>0</td>\n      <td>0</td>\n      <td>1</td>\n    </tr>\n    <tr>\n      <th>matthew styles</th>\n      <td>0</td>\n      <td>0</td>\n      <td>0</td>\n      <td>0</td>\n      <td>0</td>\n      <td>0</td>\n      <td>0</td>\n      <td>0</td>\n      <td>0</td>\n      <td>0</td>\n      <td>...</td>\n      <td>0</td>\n      <td>0</td>\n      <td>0</td>\n      <td>0</td>\n      <td>0</td>\n      <td>0</td>\n      <td>0</td>\n      <td>-0.5</td>\n      <td>0</td>\n      <td>0</td>\n    </tr>\n    <tr>\n      <th>...</th>\n      <td>...</td>\n      <td>...</td>\n      <td>...</td>\n      <td>...</td>\n      <td>...</td>\n      <td>...</td>\n      <td>...</td>\n      <td>...</td>\n      <td>...</td>\n      <td>...</td>\n      <td>...</td>\n      <td>...</td>\n      <td>...</td>\n      <td>...</td>\n      <td>...</td>\n      <td>...</td>\n      <td>...</td>\n      <td>...</td>\n      <td>...</td>\n      <td>...</td>\n      <td>...</td>\n    </tr>\n    <tr>\n      <th>yerowww666</th>\n      <td>NaN</td>\n      <td>NaN</td>\n      <td>NaN</td>\n      <td>NaN</td>\n      <td>NaN</td>\n      <td>NaN</td>\n      <td>NaN</td>\n      <td>NaN</td>\n      <td>NaN</td>\n      <td>NaN</td>\n      <td>...</td>\n      <td>NaN</td>\n      <td>NaN</td>\n      <td>NaN</td>\n      <td>NaN</td>\n      <td>NaN</td>\n      <td>NaN</td>\n      <td>NaN</td>\n      <td>NaN</td>\n      <td>NaN</td>\n      <td>NaN</td>\n    </tr>\n    <tr>\n      <th>zhanna davidova</th>\n      <td>NaN</td>\n      <td>NaN</td>\n      <td>NaN</td>\n      <td>NaN</td>\n      <td>NaN</td>\n      <td>NaN</td>\n      <td>NaN</td>\n      <td>NaN</td>\n      <td>NaN</td>\n      <td>NaN</td>\n      <td>...</td>\n      <td>NaN</td>\n      <td>NaN</td>\n      <td>NaN</td>\n      <td>NaN</td>\n      <td>NaN</td>\n      <td>NaN</td>\n      <td>NaN</td>\n      <td>NaN</td>\n      <td>NaN</td>\n      <td>NaN</td>\n    </tr>\n    <tr>\n      <th>zja42188</th>\n      <td>NaN</td>\n      <td>NaN</td>\n      <td>NaN</td>\n      <td>NaN</td>\n      <td>NaN</td>\n      <td>NaN</td>\n      <td>NaN</td>\n      <td>NaN</td>\n      <td>NaN</td>\n      <td>NaN</td>\n      <td>...</td>\n      <td>NaN</td>\n      <td>NaN</td>\n      <td>NaN</td>\n      <td>NaN</td>\n      <td>NaN</td>\n      <td>NaN</td>\n      <td>NaN</td>\n      <td>NaN</td>\n      <td>NaN</td>\n      <td>NaN</td>\n    </tr>\n    <tr>\n      <th>のぢGrey</th>\n      <td>NaN</td>\n      <td>NaN</td>\n      <td>NaN</td>\n      <td>NaN</td>\n      <td>NaN</td>\n      <td>NaN</td>\n      <td>NaN</td>\n      <td>NaN</td>\n      <td>NaN</td>\n      <td>NaN</td>\n      <td>...</td>\n      <td>NaN</td>\n      <td>NaN</td>\n      <td>NaN</td>\n      <td>NaN</td>\n      <td>NaN</td>\n      <td>NaN</td>\n      <td>NaN</td>\n      <td>NaN</td>\n      <td>NaN</td>\n      <td>NaN</td>\n    </tr>\n    <tr>\n      <th>王 アテム空白Le Chiffre</th>\n      <td>NaN</td>\n      <td>NaN</td>\n      <td>NaN</td>\n      <td>NaN</td>\n      <td>NaN</td>\n      <td>NaN</td>\n      <td>NaN</td>\n      <td>NaN</td>\n      <td>NaN</td>\n      <td>NaN</td>\n      <td>...</td>\n      <td>NaN</td>\n      <td>NaN</td>\n      <td>NaN</td>\n      <td>NaN</td>\n      <td>NaN</td>\n      <td>NaN</td>\n      <td>NaN</td>\n      <td>NaN</td>\n      <td>NaN</td>\n      <td>NaN</td>\n    </tr>\n  </tbody>\n</table>\n<p>16582 rows × 43 columns</p>\n</div>",
      "text/plain": "                  Arsenio Trevor Noah Chris Rock Joe Rogan Dave Chappelle  \\\nName                                                                        \nSumukh                  0           0          0         0              0   \nAdam Szasz              0           0          0         0              0   \nGreen Envy              0           0          0         0              0   \nWhyinem                 0           0          0         0              0   \nmatthew styles          0           0          0         0              0   \n...                   ...         ...        ...       ...            ...   \nyerowww666            NaN         NaN        NaN       NaN            NaN   \nzhanna davidova       NaN         NaN        NaN       NaN            NaN   \nzja42188              NaN         NaN        NaN       NaN            NaN   \nのぢGrey                NaN         NaN        NaN       NaN            NaN   \n王 アテム空白Le Chiffre     NaN         NaN        NaN       NaN            NaN   \n\n                  Andy Woodhull George Lopez Tom Segura Michelle Wolf  \\\nName                                                                    \nSumukh                        0            0          0             0   \nAdam Szasz                    0            0          0             0   \nGreen Envy                    0            0          0             0   \nWhyinem                       0            0          0             0   \nmatthew styles                0            0          0             0   \n...                         ...          ...        ...           ...   \nyerowww666                  NaN          NaN        NaN           NaN   \nzhanna davidova             NaN          NaN        NaN           NaN   \nzja42188                    NaN          NaN        NaN           NaN   \nのぢGrey                      NaN          NaN        NaN           NaN   \n王 アテム空白Le Chiffre           NaN          NaN        NaN           NaN   \n\n                  Roy Wood Jr.  ... Kenny Sebastian Michael Mcintyre  \\\nName                            ...                                    \nSumukh                       0  ...               0                0   \nAdam Szasz                   0  ...               0               -1   \nGreen Envy                   0  ...               0                0   \nWhyinem                      0  ...               0                0   \nmatthew styles               0  ...               0                0   \n...                        ...  ...             ...              ...   \nyerowww666                 NaN  ...             NaN              NaN   \nzhanna davidova            NaN  ...             NaN              NaN   \nzja42188                   NaN  ...             NaN              NaN   \nのぢGrey                     NaN  ...             NaN              NaN   \n王 アテム空白Le Chiffre          NaN  ...             NaN              NaN   \n\n                  Hannah Gadsby Hasan Minhaj Ramy Youssef Jim Jefferies  \\\nName                                                                      \nSumukh                        0            0            0             0   \nAdam Szasz                    0            0            0             0   \nGreen Envy                    1            0            0             0   \nWhyinem                       0            0            0             0   \nmatthew styles                0            0            0             0   \n...                         ...          ...          ...           ...   \nyerowww666                  NaN          NaN          NaN           NaN   \nzhanna davidova             NaN          NaN          NaN           NaN   \nzja42188                    NaN          NaN          NaN           NaN   \nのぢGrey                      NaN          NaN          NaN           NaN   \n王 アテム空白Le Chiffre           NaN          NaN          NaN           NaN   \n\n                  Russell Peters Bert Kreischer Marc Maron Ronny Chieng  \nName                                                                     \nSumukh                         0              0          0            0  \nAdam Szasz                     0              0          0            0  \nGreen Envy                     0              0          0            0  \nWhyinem                        0              0          0            1  \nmatthew styles                 0           -0.5          0            0  \n...                          ...            ...        ...          ...  \nyerowww666                   NaN            NaN        NaN          NaN  \nzhanna davidova              NaN            NaN        NaN          NaN  \nzja42188                     NaN            NaN        NaN          NaN  \nのぢGrey                       NaN            NaN        NaN          NaN  \n王 アテム空白Le Chiffre            NaN            NaN        NaN          NaN  \n\n[16582 rows x 43 columns]"
     },
     "execution_count": 198,
     "metadata": {},
     "output_type": "execute_result"
    }
   ],
   "source": [
    "user_name = df_avg_score['Name']\n",
    "comedian_name = df_avg_score['Comedian']\n",
    "score = df_avg_score['P/N']\n",
    "for u,c,s in zip(user_name,comedian_name,score):\n",
    "    df_ucm.loc[u, c] = s\n",
    "df_ucm    "
   ]
  },
  {
   "cell_type": "code",
   "execution_count": 200,
   "metadata": {},
   "outputs": [],
   "source": [
    "df_ucm.to_pickle('./user_comedian_matrix.pkl')"
   ]
  },
  {
   "cell_type": "code",
   "execution_count": 201,
   "metadata": {},
   "outputs": [
    {
     "data": {
      "text/html": "<div>\n<style scoped>\n    .dataframe tbody tr th:only-of-type {\n        vertical-align: middle;\n    }\n\n    .dataframe tbody tr th {\n        vertical-align: top;\n    }\n\n    .dataframe thead th {\n        text-align: right;\n    }\n</style>\n<table border=\"1\" class=\"dataframe\">\n  <thead>\n    <tr style=\"text-align: right;\">\n      <th></th>\n      <th>Arsenio</th>\n      <th>Trevor Noah</th>\n      <th>Chris Rock</th>\n      <th>Joe Rogan</th>\n      <th>Dave Chappelle</th>\n      <th>Andy Woodhull</th>\n      <th>George Lopez</th>\n      <th>Tom Segura</th>\n      <th>Michelle Wolf</th>\n      <th>Roy Wood Jr.</th>\n      <th>...</th>\n      <th>Kenny Sebastian</th>\n      <th>Michael Mcintyre</th>\n      <th>Hannah Gadsby</th>\n      <th>Hasan Minhaj</th>\n      <th>Ramy Youssef</th>\n      <th>Jim Jefferies</th>\n      <th>Russell Peters</th>\n      <th>Bert Kreischer</th>\n      <th>Marc Maron</th>\n      <th>Ronny Chieng</th>\n    </tr>\n    <tr>\n      <th>Name</th>\n      <th></th>\n      <th></th>\n      <th></th>\n      <th></th>\n      <th></th>\n      <th></th>\n      <th></th>\n      <th></th>\n      <th></th>\n      <th></th>\n      <th></th>\n      <th></th>\n      <th></th>\n      <th></th>\n      <th></th>\n      <th></th>\n      <th></th>\n      <th></th>\n      <th></th>\n      <th></th>\n      <th></th>\n    </tr>\n  </thead>\n  <tbody>\n    <tr>\n      <th>Sumukh</th>\n      <td>0</td>\n      <td>0</td>\n      <td>0</td>\n      <td>0</td>\n      <td>0</td>\n      <td>0</td>\n      <td>0</td>\n      <td>0</td>\n      <td>0</td>\n      <td>0</td>\n      <td>...</td>\n      <td>0</td>\n      <td>0</td>\n      <td>0</td>\n      <td>0</td>\n      <td>0</td>\n      <td>0</td>\n      <td>0</td>\n      <td>0</td>\n      <td>0</td>\n      <td>0</td>\n    </tr>\n    <tr>\n      <th>Adam Szasz</th>\n      <td>0</td>\n      <td>0</td>\n      <td>0</td>\n      <td>0</td>\n      <td>0</td>\n      <td>0</td>\n      <td>0</td>\n      <td>0</td>\n      <td>0</td>\n      <td>0</td>\n      <td>...</td>\n      <td>0</td>\n      <td>-1</td>\n      <td>0</td>\n      <td>0</td>\n      <td>0</td>\n      <td>0</td>\n      <td>0</td>\n      <td>0</td>\n      <td>0</td>\n      <td>0</td>\n    </tr>\n    <tr>\n      <th>Green Envy</th>\n      <td>0</td>\n      <td>0</td>\n      <td>0</td>\n      <td>0</td>\n      <td>0</td>\n      <td>0</td>\n      <td>0</td>\n      <td>0</td>\n      <td>0</td>\n      <td>0</td>\n      <td>...</td>\n      <td>0</td>\n      <td>0</td>\n      <td>1</td>\n      <td>0</td>\n      <td>0</td>\n      <td>0</td>\n      <td>0</td>\n      <td>0</td>\n      <td>0</td>\n      <td>0</td>\n    </tr>\n    <tr>\n      <th>Whyinem</th>\n      <td>0</td>\n      <td>0</td>\n      <td>0</td>\n      <td>0</td>\n      <td>0</td>\n      <td>0</td>\n      <td>0</td>\n      <td>0</td>\n      <td>0</td>\n      <td>0</td>\n      <td>...</td>\n      <td>0</td>\n      <td>0</td>\n      <td>0</td>\n      <td>0</td>\n      <td>0</td>\n      <td>0</td>\n      <td>0</td>\n      <td>0</td>\n      <td>0</td>\n      <td>1</td>\n    </tr>\n    <tr>\n      <th>matthew styles</th>\n      <td>0</td>\n      <td>0</td>\n      <td>0</td>\n      <td>0</td>\n      <td>0</td>\n      <td>0</td>\n      <td>0</td>\n      <td>0</td>\n      <td>0</td>\n      <td>0</td>\n      <td>...</td>\n      <td>0</td>\n      <td>0</td>\n      <td>0</td>\n      <td>0</td>\n      <td>0</td>\n      <td>0</td>\n      <td>0</td>\n      <td>-0.5</td>\n      <td>0</td>\n      <td>0</td>\n    </tr>\n    <tr>\n      <th>...</th>\n      <td>...</td>\n      <td>...</td>\n      <td>...</td>\n      <td>...</td>\n      <td>...</td>\n      <td>...</td>\n      <td>...</td>\n      <td>...</td>\n      <td>...</td>\n      <td>...</td>\n      <td>...</td>\n      <td>...</td>\n      <td>...</td>\n      <td>...</td>\n      <td>...</td>\n      <td>...</td>\n      <td>...</td>\n      <td>...</td>\n      <td>...</td>\n      <td>...</td>\n      <td>...</td>\n    </tr>\n    <tr>\n      <th>yerowww666</th>\n      <td>NaN</td>\n      <td>NaN</td>\n      <td>NaN</td>\n      <td>NaN</td>\n      <td>NaN</td>\n      <td>NaN</td>\n      <td>NaN</td>\n      <td>NaN</td>\n      <td>NaN</td>\n      <td>NaN</td>\n      <td>...</td>\n      <td>NaN</td>\n      <td>NaN</td>\n      <td>NaN</td>\n      <td>NaN</td>\n      <td>NaN</td>\n      <td>NaN</td>\n      <td>NaN</td>\n      <td>NaN</td>\n      <td>NaN</td>\n      <td>NaN</td>\n    </tr>\n    <tr>\n      <th>zhanna davidova</th>\n      <td>NaN</td>\n      <td>NaN</td>\n      <td>NaN</td>\n      <td>NaN</td>\n      <td>NaN</td>\n      <td>NaN</td>\n      <td>NaN</td>\n      <td>NaN</td>\n      <td>NaN</td>\n      <td>NaN</td>\n      <td>...</td>\n      <td>NaN</td>\n      <td>NaN</td>\n      <td>NaN</td>\n      <td>NaN</td>\n      <td>NaN</td>\n      <td>NaN</td>\n      <td>NaN</td>\n      <td>NaN</td>\n      <td>NaN</td>\n      <td>NaN</td>\n    </tr>\n    <tr>\n      <th>zja42188</th>\n      <td>NaN</td>\n      <td>NaN</td>\n      <td>NaN</td>\n      <td>NaN</td>\n      <td>NaN</td>\n      <td>NaN</td>\n      <td>NaN</td>\n      <td>NaN</td>\n      <td>NaN</td>\n      <td>NaN</td>\n      <td>...</td>\n      <td>NaN</td>\n      <td>NaN</td>\n      <td>NaN</td>\n      <td>NaN</td>\n      <td>NaN</td>\n      <td>NaN</td>\n      <td>NaN</td>\n      <td>NaN</td>\n      <td>NaN</td>\n      <td>NaN</td>\n    </tr>\n    <tr>\n      <th>のぢGrey</th>\n      <td>NaN</td>\n      <td>NaN</td>\n      <td>NaN</td>\n      <td>NaN</td>\n      <td>NaN</td>\n      <td>NaN</td>\n      <td>NaN</td>\n      <td>NaN</td>\n      <td>NaN</td>\n      <td>NaN</td>\n      <td>...</td>\n      <td>NaN</td>\n      <td>NaN</td>\n      <td>NaN</td>\n      <td>NaN</td>\n      <td>NaN</td>\n      <td>NaN</td>\n      <td>NaN</td>\n      <td>NaN</td>\n      <td>NaN</td>\n      <td>NaN</td>\n    </tr>\n    <tr>\n      <th>王 アテム空白Le Chiffre</th>\n      <td>NaN</td>\n      <td>NaN</td>\n      <td>NaN</td>\n      <td>NaN</td>\n      <td>NaN</td>\n      <td>NaN</td>\n      <td>NaN</td>\n      <td>NaN</td>\n      <td>NaN</td>\n      <td>NaN</td>\n      <td>...</td>\n      <td>NaN</td>\n      <td>NaN</td>\n      <td>NaN</td>\n      <td>NaN</td>\n      <td>NaN</td>\n      <td>NaN</td>\n      <td>NaN</td>\n      <td>NaN</td>\n      <td>NaN</td>\n      <td>NaN</td>\n    </tr>\n  </tbody>\n</table>\n<p>16582 rows × 43 columns</p>\n</div>",
      "text/plain": "                  Arsenio Trevor Noah Chris Rock Joe Rogan Dave Chappelle  \\\nName                                                                        \nSumukh                  0           0          0         0              0   \nAdam Szasz              0           0          0         0              0   \nGreen Envy              0           0          0         0              0   \nWhyinem                 0           0          0         0              0   \nmatthew styles          0           0          0         0              0   \n...                   ...         ...        ...       ...            ...   \nyerowww666            NaN         NaN        NaN       NaN            NaN   \nzhanna davidova       NaN         NaN        NaN       NaN            NaN   \nzja42188              NaN         NaN        NaN       NaN            NaN   \nのぢGrey                NaN         NaN        NaN       NaN            NaN   \n王 アテム空白Le Chiffre     NaN         NaN        NaN       NaN            NaN   \n\n                  Andy Woodhull George Lopez Tom Segura Michelle Wolf  \\\nName                                                                    \nSumukh                        0            0          0             0   \nAdam Szasz                    0            0          0             0   \nGreen Envy                    0            0          0             0   \nWhyinem                       0            0          0             0   \nmatthew styles                0            0          0             0   \n...                         ...          ...        ...           ...   \nyerowww666                  NaN          NaN        NaN           NaN   \nzhanna davidova             NaN          NaN        NaN           NaN   \nzja42188                    NaN          NaN        NaN           NaN   \nのぢGrey                      NaN          NaN        NaN           NaN   \n王 アテム空白Le Chiffre           NaN          NaN        NaN           NaN   \n\n                  Roy Wood Jr.  ... Kenny Sebastian Michael Mcintyre  \\\nName                            ...                                    \nSumukh                       0  ...               0                0   \nAdam Szasz                   0  ...               0               -1   \nGreen Envy                   0  ...               0                0   \nWhyinem                      0  ...               0                0   \nmatthew styles               0  ...               0                0   \n...                        ...  ...             ...              ...   \nyerowww666                 NaN  ...             NaN              NaN   \nzhanna davidova            NaN  ...             NaN              NaN   \nzja42188                   NaN  ...             NaN              NaN   \nのぢGrey                     NaN  ...             NaN              NaN   \n王 アテム空白Le Chiffre          NaN  ...             NaN              NaN   \n\n                  Hannah Gadsby Hasan Minhaj Ramy Youssef Jim Jefferies  \\\nName                                                                      \nSumukh                        0            0            0             0   \nAdam Szasz                    0            0            0             0   \nGreen Envy                    1            0            0             0   \nWhyinem                       0            0            0             0   \nmatthew styles                0            0            0             0   \n...                         ...          ...          ...           ...   \nyerowww666                  NaN          NaN          NaN           NaN   \nzhanna davidova             NaN          NaN          NaN           NaN   \nzja42188                    NaN          NaN          NaN           NaN   \nのぢGrey                      NaN          NaN          NaN           NaN   \n王 アテム空白Le Chiffre           NaN          NaN          NaN           NaN   \n\n                  Russell Peters Bert Kreischer Marc Maron Ronny Chieng  \nName                                                                     \nSumukh                         0              0          0            0  \nAdam Szasz                     0              0          0            0  \nGreen Envy                     0              0          0            0  \nWhyinem                        0              0          0            1  \nmatthew styles                 0           -0.5          0            0  \n...                          ...            ...        ...          ...  \nyerowww666                   NaN            NaN        NaN          NaN  \nzhanna davidova              NaN            NaN        NaN          NaN  \nzja42188                     NaN            NaN        NaN          NaN  \nのぢGrey                       NaN            NaN        NaN          NaN  \n王 アテム空白Le Chiffre            NaN            NaN        NaN          NaN  \n\n[16582 rows x 43 columns]"
     },
     "execution_count": 201,
     "metadata": {},
     "output_type": "execute_result"
    }
   ],
   "source": [
    "ddd = pd.read_pickle('./user_comedian_matrix.pkl')\n",
    "ddd"
   ]
  },
  {
   "cell_type": "code",
   "execution_count": null,
   "metadata": {},
   "outputs": [],
   "source": []
  }
 ],
 "metadata": {
  "kernelspec": {
   "display_name": "Python 3",
   "language": "python",
   "name": "python3"
  },
  "language_info": {
   "codemirror_mode": {
    "name": "ipython",
    "version": 3
   },
   "file_extension": ".py",
   "mimetype": "text/x-python",
   "name": "python",
   "nbconvert_exporter": "python",
   "pygments_lexer": "ipython3",
   "version": "3.6.8-final"
  }
 },
 "nbformat": 4,
 "nbformat_minor": 2
}