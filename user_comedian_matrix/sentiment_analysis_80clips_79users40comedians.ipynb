{
 "cells": [
  {
   "cell_type": "code",
   "execution_count": 1,
   "metadata": {},
   "outputs": [
    {
     "name": "stdout",
     "output_type": "stream",
     "text": [
      "Requirement already satisfied: openpyxl in /Library/Frameworks/Python.framework/Versions/3.6/lib/python3.6/site-packages (3.0.5)\r\n",
      "Requirement already satisfied: et-xmlfile in /Library/Frameworks/Python.framework/Versions/3.6/lib/python3.6/site-packages (from openpyxl) (1.0.1)\r\n",
      "Requirement already satisfied: jdcal in /Library/Frameworks/Python.framework/Versions/3.6/lib/python3.6/site-packages (from openpyxl) (1.4.1)\r\n"
     ]
    }
   ],
   "source": [
    "# ! pip3 install xlrd\n",
    "# ! pip3 install textblob\n",
    "# ! pip3 install openpyxl"
   ]
  },
  {
   "cell_type": "code",
   "execution_count": 55,
   "metadata": {},
   "outputs": [],
   "source": [
    "import numpy as np\n",
    "import pandas as pd\n",
    "import matplotlib.pyplot as plt\n",
    "from textblob import TextBlob as tb # Sentiment analysis"
   ]
  },
  {
   "source": [
    "# sentiment analysis on comments"
   ],
   "cell_type": "code",
   "metadata": {},
   "execution_count": 63,
   "outputs": []
  },
  {
   "cell_type": "code",
   "execution_count": 56,
   "metadata": {},
   "outputs": [],
   "source": [
    "# print(tb('black').sentiment.polarity)\n",
    "# print(tb('Welcome to the new Comedy Central Stand-Up YouTube channel! Hit subscribe for new, exclusive stand-up videos every week.').sentiment.polarity)"
   ]
  },
  {
   "cell_type": "code",
   "execution_count": 57,
   "metadata": {},
   "outputs": [],
   "source": [
    "df_webapage = pd.read_pickle('./scrape_result_80.pkl')"
   ]
  },
  {
   "cell_type": "code",
   "execution_count": 58,
   "metadata": {},
   "outputs": [],
   "source": [
    "# dd = df_webapage\n",
    "# dd['idx'] = dd['Name'].str.find('Central') \n",
    "# dd2 = dd[dd['idx']!=-1]\n",
    "# dd2"
   ]
  },
  {
   "cell_type": "code",
   "execution_count": 59,
   "metadata": {},
   "outputs": [
    {
     "output_type": "execute_result",
     "data": {
      "text/plain": [
       "                     count\n",
       "Name                      \n",
       "whitepride1004          31\n",
       "Sumukh                   7\n",
       "Michael                  6\n",
       "Green Envy               6\n",
       "Audrey New               6\n",
       "...                    ...\n",
       "Bi- Han                  3\n",
       "Lydia Waweru-Morgan      3\n",
       "James Bond               3\n",
       "ADEDOTUN AKANDE          3\n",
       "Xitsundzuxo Himina       3\n",
       "\n",
       "[100 rows x 1 columns]"
      ],
      "text/html": "<div>\n<style scoped>\n    .dataframe tbody tr th:only-of-type {\n        vertical-align: middle;\n    }\n\n    .dataframe tbody tr th {\n        vertical-align: top;\n    }\n\n    .dataframe thead th {\n        text-align: right;\n    }\n</style>\n<table border=\"1\" class=\"dataframe\">\n  <thead>\n    <tr style=\"text-align: right;\">\n      <th></th>\n      <th>count</th>\n    </tr>\n    <tr>\n      <th>Name</th>\n      <th></th>\n    </tr>\n  </thead>\n  <tbody>\n    <tr>\n      <th>whitepride1004</th>\n      <td>31</td>\n    </tr>\n    <tr>\n      <th>Sumukh</th>\n      <td>7</td>\n    </tr>\n    <tr>\n      <th>Michael</th>\n      <td>6</td>\n    </tr>\n    <tr>\n      <th>Green Envy</th>\n      <td>6</td>\n    </tr>\n    <tr>\n      <th>Audrey New</th>\n      <td>6</td>\n    </tr>\n    <tr>\n      <th>...</th>\n      <td>...</td>\n    </tr>\n    <tr>\n      <th>Bi- Han</th>\n      <td>3</td>\n    </tr>\n    <tr>\n      <th>Lydia Waweru-Morgan</th>\n      <td>3</td>\n    </tr>\n    <tr>\n      <th>James Bond</th>\n      <td>3</td>\n    </tr>\n    <tr>\n      <th>ADEDOTUN AKANDE</th>\n      <td>3</td>\n    </tr>\n    <tr>\n      <th>Xitsundzuxo Himina</th>\n      <td>3</td>\n    </tr>\n  </tbody>\n</table>\n<p>100 rows × 1 columns</p>\n</div>"
     },
     "metadata": {},
     "execution_count": 59
    }
   ],
   "source": [
    "df_name = df_webapage.groupby([\"Name\"], sort=True).agg(['count']).Title.sort_values('count', ascending=False)\n",
    "df_name.head(100)"
   ]
  },
  {
   "cell_type": "code",
   "execution_count": 60,
   "metadata": {},
   "outputs": [
    {
     "output_type": "execute_result",
     "data": {
      "text/plain": [
       "                                                   Title  \\\n",
       "0      Ramy Youssef: Feelings (2019) | Why Do They Ma...   \n",
       "1      Ramy Youssef: Feelings (2019) | Why Do They Ma...   \n",
       "2      Ramy Youssef: Feelings (2019) | Why Do They Ma...   \n",
       "3      Ramy Youssef: Feelings (2019) | Why Do They Ma...   \n",
       "4      Ramy Youssef: Feelings (2019) | Why Do They Ma...   \n",
       "...                                                  ...   \n",
       "17748  Black Music Tells You Everything You Need to K...   \n",
       "17749  Black Music Tells You Everything You Need to K...   \n",
       "17750  Black Music Tells You Everything You Need to K...   \n",
       "17751  Black Music Tells You Everything You Need to K...   \n",
       "17752  Black Music Tells You Everything You Need to K...   \n",
       "\n",
       "                        Name  \\\n",
       "0                   Kenza B.   \n",
       "1                     LMivha   \n",
       "2              Marissa Urias   \n",
       "3                 Riaz Uddin   \n",
       "4              Shannon dobbs   \n",
       "...                      ...   \n",
       "17748             357 Magnum   \n",
       "17749             Erin James   \n",
       "17750  I'm black So I'm slow   \n",
       "17751          ralph salotto   \n",
       "17752         Garbanzo Beans   \n",
       "\n",
       "                                                 Comment  Polarity  \\\n",
       "0      He touched something really deep, first he ddn... -0.137500   \n",
       "1      How this man got his point across is absolute ...  0.200000   \n",
       "2      Wow, people in the comments really don't get t...  0.160000   \n",
       "3      This is what I tell people all the time, just ... -0.406250   \n",
       "4                            They don't ask NUNS THAT! 🙄  0.000000   \n",
       "...                                                  ...       ...   \n",
       "17748  I'm guessing he doesn't live in a colorblind w... -0.243434   \n",
       "17749  Then leave my dear friend. Youve been free for... -0.237500   \n",
       "17750  We didn't create the blue's!... We didn't crea...  0.000000   \n",
       "17751  Now that you mention it he's right, the Blues ...  0.361905   \n",
       "17752  Far more black people have migrated to the US ...  0.130952   \n",
       "\n",
       "       Subjectivity  \n",
       "0          0.547917  \n",
       "1          0.900000  \n",
       "2          0.365000  \n",
       "3          0.793750  \n",
       "4          0.000000  \n",
       "...             ...  \n",
       "17748      0.533333  \n",
       "17749      0.733333  \n",
       "17750      0.100000  \n",
       "17751      0.511905  \n",
       "17752      0.595238  \n",
       "\n",
       "[17753 rows x 5 columns]"
      ],
      "text/html": "<div>\n<style scoped>\n    .dataframe tbody tr th:only-of-type {\n        vertical-align: middle;\n    }\n\n    .dataframe tbody tr th {\n        vertical-align: top;\n    }\n\n    .dataframe thead th {\n        text-align: right;\n    }\n</style>\n<table border=\"1\" class=\"dataframe\">\n  <thead>\n    <tr style=\"text-align: right;\">\n      <th></th>\n      <th>Title</th>\n      <th>Name</th>\n      <th>Comment</th>\n      <th>Polarity</th>\n      <th>Subjectivity</th>\n    </tr>\n  </thead>\n  <tbody>\n    <tr>\n      <th>0</th>\n      <td>Ramy Youssef: Feelings (2019) | Why Do They Ma...</td>\n      <td>Kenza B.</td>\n      <td>He touched something really deep, first he ddn...</td>\n      <td>-0.137500</td>\n      <td>0.547917</td>\n    </tr>\n    <tr>\n      <th>1</th>\n      <td>Ramy Youssef: Feelings (2019) | Why Do They Ma...</td>\n      <td>LMivha</td>\n      <td>How this man got his point across is absolute ...</td>\n      <td>0.200000</td>\n      <td>0.900000</td>\n    </tr>\n    <tr>\n      <th>2</th>\n      <td>Ramy Youssef: Feelings (2019) | Why Do They Ma...</td>\n      <td>Marissa Urias</td>\n      <td>Wow, people in the comments really don't get t...</td>\n      <td>0.160000</td>\n      <td>0.365000</td>\n    </tr>\n    <tr>\n      <th>3</th>\n      <td>Ramy Youssef: Feelings (2019) | Why Do They Ma...</td>\n      <td>Riaz Uddin</td>\n      <td>This is what I tell people all the time, just ...</td>\n      <td>-0.406250</td>\n      <td>0.793750</td>\n    </tr>\n    <tr>\n      <th>4</th>\n      <td>Ramy Youssef: Feelings (2019) | Why Do They Ma...</td>\n      <td>Shannon dobbs</td>\n      <td>They don't ask NUNS THAT! 🙄</td>\n      <td>0.000000</td>\n      <td>0.000000</td>\n    </tr>\n    <tr>\n      <th>...</th>\n      <td>...</td>\n      <td>...</td>\n      <td>...</td>\n      <td>...</td>\n      <td>...</td>\n    </tr>\n    <tr>\n      <th>17748</th>\n      <td>Black Music Tells You Everything You Need to K...</td>\n      <td>357 Magnum</td>\n      <td>I'm guessing he doesn't live in a colorblind w...</td>\n      <td>-0.243434</td>\n      <td>0.533333</td>\n    </tr>\n    <tr>\n      <th>17749</th>\n      <td>Black Music Tells You Everything You Need to K...</td>\n      <td>Erin James</td>\n      <td>Then leave my dear friend. Youve been free for...</td>\n      <td>-0.237500</td>\n      <td>0.733333</td>\n    </tr>\n    <tr>\n      <th>17750</th>\n      <td>Black Music Tells You Everything You Need to K...</td>\n      <td>I'm black So I'm slow</td>\n      <td>We didn't create the blue's!... We didn't crea...</td>\n      <td>0.000000</td>\n      <td>0.100000</td>\n    </tr>\n    <tr>\n      <th>17751</th>\n      <td>Black Music Tells You Everything You Need to K...</td>\n      <td>ralph salotto</td>\n      <td>Now that you mention it he's right, the Blues ...</td>\n      <td>0.361905</td>\n      <td>0.511905</td>\n    </tr>\n    <tr>\n      <th>17752</th>\n      <td>Black Music Tells You Everything You Need to K...</td>\n      <td>Garbanzo Beans</td>\n      <td>Far more black people have migrated to the US ...</td>\n      <td>0.130952</td>\n      <td>0.595238</td>\n    </tr>\n  </tbody>\n</table>\n<p>17753 rows × 5 columns</p>\n</div>"
     },
     "metadata": {},
     "execution_count": 60
    }
   ],
   "source": [
    "pol = lambda x: tb(x).sentiment.polarity\n",
    "sub = lambda x: tb(x).sentiment.subjectivity\n",
    "\n",
    "data_SA = pd.DataFrame()\n",
    "data_SA['Title'] = df_webapage['Title']\n",
    "data_SA['Name'] = df_webapage['Name']\n",
    "data_SA['Comment'] = df_webapage['Comment']\n",
    "data_SA['Polarity'] = df_webapage['Comment'].apply(pol)\n",
    "data_SA['Subjectivity'] = df_webapage['Comment'].apply(sub)\n",
    "data_SA"
   ]
  },
  {
   "cell_type": "code",
   "execution_count": 62,
   "metadata": {},
   "outputs": [
    {
     "output_type": "execute_result",
     "data": {
      "text/plain": [
       "                                                   Title  \\\n",
       "0      Ramy Youssef: Feelings (2019) | Why Do They Ma...   \n",
       "1      Ramy Youssef: Feelings (2019) | Why Do They Ma...   \n",
       "2      Ramy Youssef: Feelings (2019) | Why Do They Ma...   \n",
       "3      Ramy Youssef: Feelings (2019) | Why Do They Ma...   \n",
       "4      Ramy Youssef: Feelings (2019) | Why Do They Ma...   \n",
       "...                                                  ...   \n",
       "17748  Black Music Tells You Everything You Need to K...   \n",
       "17749  Black Music Tells You Everything You Need to K...   \n",
       "17750  Black Music Tells You Everything You Need to K...   \n",
       "17751  Black Music Tells You Everything You Need to K...   \n",
       "17752  Black Music Tells You Everything You Need to K...   \n",
       "\n",
       "                        Name  \\\n",
       "0                   Kenza B.   \n",
       "1                     LMivha   \n",
       "2              Marissa Urias   \n",
       "3                 Riaz Uddin   \n",
       "4              Shannon dobbs   \n",
       "...                      ...   \n",
       "17748             357 Magnum   \n",
       "17749             Erin James   \n",
       "17750  I'm black So I'm slow   \n",
       "17751          ralph salotto   \n",
       "17752         Garbanzo Beans   \n",
       "\n",
       "                                                 Comment  Polarity  \\\n",
       "0      He touched something really deep, first he ddn... -0.137500   \n",
       "1      How this man got his point across is absolute ...  0.200000   \n",
       "2      Wow, people in the comments really don't get t...  0.160000   \n",
       "3      This is what I tell people all the time, just ... -0.406250   \n",
       "4                            They don't ask NUNS THAT! 🙄  0.000000   \n",
       "...                                                  ...       ...   \n",
       "17748  I'm guessing he doesn't live in a colorblind w... -0.243434   \n",
       "17749  Then leave my dear friend. Youve been free for... -0.237500   \n",
       "17750  We didn't create the blue's!... We didn't crea...  0.000000   \n",
       "17751  Now that you mention it he's right, the Blues ...  0.361905   \n",
       "17752  Far more black people have migrated to the US ...  0.130952   \n",
       "\n",
       "       Subjectivity  P/N  \n",
       "0          0.547917 -1.0  \n",
       "1          0.900000  1.0  \n",
       "2          0.365000  1.0  \n",
       "3          0.793750 -1.0  \n",
       "4          0.000000  0.0  \n",
       "...             ...  ...  \n",
       "17748      0.533333 -1.0  \n",
       "17749      0.733333 -1.0  \n",
       "17750      0.100000  0.0  \n",
       "17751      0.511905  1.0  \n",
       "17752      0.595238  1.0  \n",
       "\n",
       "[17753 rows x 6 columns]"
      ],
      "text/html": "<div>\n<style scoped>\n    .dataframe tbody tr th:only-of-type {\n        vertical-align: middle;\n    }\n\n    .dataframe tbody tr th {\n        vertical-align: top;\n    }\n\n    .dataframe thead th {\n        text-align: right;\n    }\n</style>\n<table border=\"1\" class=\"dataframe\">\n  <thead>\n    <tr style=\"text-align: right;\">\n      <th></th>\n      <th>Title</th>\n      <th>Name</th>\n      <th>Comment</th>\n      <th>Polarity</th>\n      <th>Subjectivity</th>\n      <th>P/N</th>\n    </tr>\n  </thead>\n  <tbody>\n    <tr>\n      <th>0</th>\n      <td>Ramy Youssef: Feelings (2019) | Why Do They Ma...</td>\n      <td>Kenza B.</td>\n      <td>He touched something really deep, first he ddn...</td>\n      <td>-0.137500</td>\n      <td>0.547917</td>\n      <td>-1.0</td>\n    </tr>\n    <tr>\n      <th>1</th>\n      <td>Ramy Youssef: Feelings (2019) | Why Do They Ma...</td>\n      <td>LMivha</td>\n      <td>How this man got his point across is absolute ...</td>\n      <td>0.200000</td>\n      <td>0.900000</td>\n      <td>1.0</td>\n    </tr>\n    <tr>\n      <th>2</th>\n      <td>Ramy Youssef: Feelings (2019) | Why Do They Ma...</td>\n      <td>Marissa Urias</td>\n      <td>Wow, people in the comments really don't get t...</td>\n      <td>0.160000</td>\n      <td>0.365000</td>\n      <td>1.0</td>\n    </tr>\n    <tr>\n      <th>3</th>\n      <td>Ramy Youssef: Feelings (2019) | Why Do They Ma...</td>\n      <td>Riaz Uddin</td>\n      <td>This is what I tell people all the time, just ...</td>\n      <td>-0.406250</td>\n      <td>0.793750</td>\n      <td>-1.0</td>\n    </tr>\n    <tr>\n      <th>4</th>\n      <td>Ramy Youssef: Feelings (2019) | Why Do They Ma...</td>\n      <td>Shannon dobbs</td>\n      <td>They don't ask NUNS THAT! 🙄</td>\n      <td>0.000000</td>\n      <td>0.000000</td>\n      <td>0.0</td>\n    </tr>\n    <tr>\n      <th>...</th>\n      <td>...</td>\n      <td>...</td>\n      <td>...</td>\n      <td>...</td>\n      <td>...</td>\n      <td>...</td>\n    </tr>\n    <tr>\n      <th>17748</th>\n      <td>Black Music Tells You Everything You Need to K...</td>\n      <td>357 Magnum</td>\n      <td>I'm guessing he doesn't live in a colorblind w...</td>\n      <td>-0.243434</td>\n      <td>0.533333</td>\n      <td>-1.0</td>\n    </tr>\n    <tr>\n      <th>17749</th>\n      <td>Black Music Tells You Everything You Need to K...</td>\n      <td>Erin James</td>\n      <td>Then leave my dear friend. Youve been free for...</td>\n      <td>-0.237500</td>\n      <td>0.733333</td>\n      <td>-1.0</td>\n    </tr>\n    <tr>\n      <th>17750</th>\n      <td>Black Music Tells You Everything You Need to K...</td>\n      <td>I'm black So I'm slow</td>\n      <td>We didn't create the blue's!... We didn't crea...</td>\n      <td>0.000000</td>\n      <td>0.100000</td>\n      <td>0.0</td>\n    </tr>\n    <tr>\n      <th>17751</th>\n      <td>Black Music Tells You Everything You Need to K...</td>\n      <td>ralph salotto</td>\n      <td>Now that you mention it he's right, the Blues ...</td>\n      <td>0.361905</td>\n      <td>0.511905</td>\n      <td>1.0</td>\n    </tr>\n    <tr>\n      <th>17752</th>\n      <td>Black Music Tells You Everything You Need to K...</td>\n      <td>Garbanzo Beans</td>\n      <td>Far more black people have migrated to the US ...</td>\n      <td>0.130952</td>\n      <td>0.595238</td>\n      <td>1.0</td>\n    </tr>\n  </tbody>\n</table>\n<p>17753 rows × 6 columns</p>\n</div>"
     },
     "metadata": {},
     "execution_count": 62
    }
   ],
   "source": [
    "PorN = lambda x: x*0 if x==0 else (x*(1/x) if x>0 else x*(-1/x))\n",
    "data_SA['P/N'] = data_SA['Polarity'].apply(PorN)\n",
    "data_SA"
   ]
  },
  {
   "cell_type": "markdown",
   "metadata": {},
   "source": [
    " "
   ]
  },
  {
   "cell_type": "markdown",
   "metadata": {},
   "source": [
    "# Group data"
   ]
  },
  {
   "cell_type": "code",
   "execution_count": 64,
   "metadata": {},
   "outputs": [
    {
     "output_type": "execute_result",
     "data": {
      "text/plain": [
       "  Who?    Comedian                      Title  \\\n",
       "0  Leo  Kevin Hart  Lying Will Ruin Your Life   \n",
       "\n",
       "                              Link of the transcript  \\\n",
       "0  https://www.wattpad.com/362679778-kevin-hart-l...   \n",
       "\n",
       "                            Transcript (CONTENT!!!!)  \\\n",
       "0  Lying will ruin your life. Lying will ruin you...   \n",
       "\n",
       "                                          Video link  Unnamed: 6  note   \\\n",
       "0  https://www.youtube.com/watch?v=EPoOBF8-Tvs&ab...         NaN    NaN   \n",
       "\n",
       "   Unnamed: 8                                         Unnamed: 9  \n",
       "0         NaN  https://genius.com/Kevin-hart-let-me-explain-t...  "
      ],
      "text/html": "<div>\n<style scoped>\n    .dataframe tbody tr th:only-of-type {\n        vertical-align: middle;\n    }\n\n    .dataframe tbody tr th {\n        vertical-align: top;\n    }\n\n    .dataframe thead th {\n        text-align: right;\n    }\n</style>\n<table border=\"1\" class=\"dataframe\">\n  <thead>\n    <tr style=\"text-align: right;\">\n      <th></th>\n      <th>Who?</th>\n      <th>Comedian</th>\n      <th>Title</th>\n      <th>Link of the transcript</th>\n      <th>Transcript (CONTENT!!!!)</th>\n      <th>Video link</th>\n      <th>Unnamed: 6</th>\n      <th>note</th>\n      <th>Unnamed: 8</th>\n      <th>Unnamed: 9</th>\n    </tr>\n  </thead>\n  <tbody>\n    <tr>\n      <th>0</th>\n      <td>Leo</td>\n      <td>Kevin Hart</td>\n      <td>Lying Will Ruin Your Life</td>\n      <td>https://www.wattpad.com/362679778-kevin-hart-l...</td>\n      <td>Lying will ruin your life. Lying will ruin you...</td>\n      <td>https://www.youtube.com/watch?v=EPoOBF8-Tvs&amp;ab...</td>\n      <td>NaN</td>\n      <td>NaN</td>\n      <td>NaN</td>\n      <td>https://genius.com/Kevin-hart-let-me-explain-t...</td>\n    </tr>\n  </tbody>\n</table>\n</div>"
     },
     "metadata": {},
     "execution_count": 64
    }
   ],
   "source": [
    "df_dataSource = pd.read_excel('DataSource_80clips.xlsx')\n",
    "df_titleWithComedian = pd.read_excel('Title_Comedian.xlsx')\n",
    "\n",
    "Tit_func = lambda x: x.title()\n",
    "df_titleWithComedian['Comedian'] = df_titleWithComedian['Comedian'].apply(Tit_func)\n",
    "comedians_name = df_titleWithComedian['Comedian'].apply(Tit_func)\n",
    "\n",
    "df_dataSource[:1]"
   ]
  },
  {
   "cell_type": "code",
   "execution_count": 65,
   "metadata": {},
   "outputs": [
    {
     "output_type": "execute_result",
     "data": {
      "text/plain": [
       "                                                Title          Comedian\n",
       "0   \"3 Girls? We Don't Have Time\" | Pete Davidson SMD     Pete Davidson\n",
       "1   \"Don't Lose Your Accent / Learning Accents\" - ...       Trevor Noah\n",
       "2   \"Flying Into America\" - Trevor Noah - (Lost In...       Trevor Noah\n",
       "3                   \"Lost Keys\" | Jo Koy : Lights Out            Jo Koy\n",
       "4         \"Rice is Rice\" | Jo Koy : Live from Seattle            Jo Koy\n",
       "..                                                ...               ...\n",
       "75      When You're Late To Everything. Andy Woodhull     Andy Woodhull\n",
       "76     Whitney Cummings - I Love You - Marriage & Sex  Whitney Cummings\n",
       "77  Whitney Cummings | I'm Your Girlfriend: Women ...  Whitney Cummings\n",
       "78  Why Arsenio Checks His Phone Before His Wife C...      Arsenio Hall\n",
       "79        Why Asians Are Good At Math - Jimmy O. Yang     Jimmy O. Yang\n",
       "\n",
       "[80 rows x 2 columns]"
      ],
      "text/html": "<div>\n<style scoped>\n    .dataframe tbody tr th:only-of-type {\n        vertical-align: middle;\n    }\n\n    .dataframe tbody tr th {\n        vertical-align: top;\n    }\n\n    .dataframe thead th {\n        text-align: right;\n    }\n</style>\n<table border=\"1\" class=\"dataframe\">\n  <thead>\n    <tr style=\"text-align: right;\">\n      <th></th>\n      <th>Title</th>\n      <th>Comedian</th>\n    </tr>\n  </thead>\n  <tbody>\n    <tr>\n      <th>0</th>\n      <td>\"3 Girls? We Don't Have Time\" | Pete Davidson SMD</td>\n      <td>Pete Davidson</td>\n    </tr>\n    <tr>\n      <th>1</th>\n      <td>\"Don't Lose Your Accent / Learning Accents\" - ...</td>\n      <td>Trevor Noah</td>\n    </tr>\n    <tr>\n      <th>2</th>\n      <td>\"Flying Into America\" - Trevor Noah - (Lost In...</td>\n      <td>Trevor Noah</td>\n    </tr>\n    <tr>\n      <th>3</th>\n      <td>\"Lost Keys\" | Jo Koy : Lights Out</td>\n      <td>Jo Koy</td>\n    </tr>\n    <tr>\n      <th>4</th>\n      <td>\"Rice is Rice\" | Jo Koy : Live from Seattle</td>\n      <td>Jo Koy</td>\n    </tr>\n    <tr>\n      <th>...</th>\n      <td>...</td>\n      <td>...</td>\n    </tr>\n    <tr>\n      <th>75</th>\n      <td>When You're Late To Everything. Andy Woodhull</td>\n      <td>Andy Woodhull</td>\n    </tr>\n    <tr>\n      <th>76</th>\n      <td>Whitney Cummings - I Love You - Marriage &amp; Sex</td>\n      <td>Whitney Cummings</td>\n    </tr>\n    <tr>\n      <th>77</th>\n      <td>Whitney Cummings | I'm Your Girlfriend: Women ...</td>\n      <td>Whitney Cummings</td>\n    </tr>\n    <tr>\n      <th>78</th>\n      <td>Why Arsenio Checks His Phone Before His Wife C...</td>\n      <td>Arsenio Hall</td>\n    </tr>\n    <tr>\n      <th>79</th>\n      <td>Why Asians Are Good At Math - Jimmy O. Yang</td>\n      <td>Jimmy O. Yang</td>\n    </tr>\n  </tbody>\n</table>\n<p>80 rows × 2 columns</p>\n</div>"
     },
     "metadata": {},
     "execution_count": 65
    }
   ],
   "source": [
    "grouped_df = df_webapage.groupby(\"Title\", as_index=False).count()\n",
    "grouped_df = grouped_df.drop(['Thumbsup','Name','Comment'], axis=1)\n",
    "\n",
    "grouped_df['Comedian'] = comedians_name\n",
    "grouped_df"
   ]
  },
  {
   "cell_type": "code",
   "execution_count": 66,
   "metadata": {},
   "outputs": [
    {
     "output_type": "execute_result",
     "data": {
      "text/plain": [
       "                                                   Title      Comedian  \\\n",
       "0      Ramy Youssef: Feelings (2019) | Why Do They Ma...  Ramy Youssef   \n",
       "1      Ramy Youssef: Feelings (2019) | Why Do They Ma...  Ramy Youssef   \n",
       "2      Ramy Youssef: Feelings (2019) | Why Do They Ma...  Ramy Youssef   \n",
       "3      Ramy Youssef: Feelings (2019) | Why Do They Ma...  Ramy Youssef   \n",
       "4      Ramy Youssef: Feelings (2019) | Why Do They Ma...  Ramy Youssef   \n",
       "...                                                  ...           ...   \n",
       "17748  Black Music Tells You Everything You Need to K...  Roy Wood Jr.   \n",
       "17749  Black Music Tells You Everything You Need to K...  Roy Wood Jr.   \n",
       "17750  Black Music Tells You Everything You Need to K...  Roy Wood Jr.   \n",
       "17751  Black Music Tells You Everything You Need to K...  Roy Wood Jr.   \n",
       "17752  Black Music Tells You Everything You Need to K...  Roy Wood Jr.   \n",
       "\n",
       "      Thumbsup                   Name  \\\n",
       "0         2400               Kenza B.   \n",
       "1         1500                 LMivha   \n",
       "2         1200          Marissa Urias   \n",
       "3          909             Riaz Uddin   \n",
       "4          837          Shannon dobbs   \n",
       "...        ...                    ...   \n",
       "17748        0             357 Magnum   \n",
       "17749        3             Erin James   \n",
       "17750        0  I'm black So I'm slow   \n",
       "17751        2          ralph salotto   \n",
       "17752        0         Garbanzo Beans   \n",
       "\n",
       "                                                 Comment  \n",
       "0      He touched something really deep, first he ddn...  \n",
       "1      How this man got his point across is absolute ...  \n",
       "2      Wow, people in the comments really don't get t...  \n",
       "3      This is what I tell people all the time, just ...  \n",
       "4                            They don't ask NUNS THAT! 🙄  \n",
       "...                                                  ...  \n",
       "17748  I'm guessing he doesn't live in a colorblind w...  \n",
       "17749  Then leave my dear friend. Youve been free for...  \n",
       "17750  We didn't create the blue's!... We didn't crea...  \n",
       "17751  Now that you mention it he's right, the Blues ...  \n",
       "17752  Far more black people have migrated to the US ...  \n",
       "\n",
       "[17753 rows x 5 columns]"
      ],
      "text/html": "<div>\n<style scoped>\n    .dataframe tbody tr th:only-of-type {\n        vertical-align: middle;\n    }\n\n    .dataframe tbody tr th {\n        vertical-align: top;\n    }\n\n    .dataframe thead th {\n        text-align: right;\n    }\n</style>\n<table border=\"1\" class=\"dataframe\">\n  <thead>\n    <tr style=\"text-align: right;\">\n      <th></th>\n      <th>Title</th>\n      <th>Comedian</th>\n      <th>Thumbsup</th>\n      <th>Name</th>\n      <th>Comment</th>\n    </tr>\n  </thead>\n  <tbody>\n    <tr>\n      <th>0</th>\n      <td>Ramy Youssef: Feelings (2019) | Why Do They Ma...</td>\n      <td>Ramy Youssef</td>\n      <td>2400</td>\n      <td>Kenza B.</td>\n      <td>He touched something really deep, first he ddn...</td>\n    </tr>\n    <tr>\n      <th>1</th>\n      <td>Ramy Youssef: Feelings (2019) | Why Do They Ma...</td>\n      <td>Ramy Youssef</td>\n      <td>1500</td>\n      <td>LMivha</td>\n      <td>How this man got his point across is absolute ...</td>\n    </tr>\n    <tr>\n      <th>2</th>\n      <td>Ramy Youssef: Feelings (2019) | Why Do They Ma...</td>\n      <td>Ramy Youssef</td>\n      <td>1200</td>\n      <td>Marissa Urias</td>\n      <td>Wow, people in the comments really don't get t...</td>\n    </tr>\n    <tr>\n      <th>3</th>\n      <td>Ramy Youssef: Feelings (2019) | Why Do They Ma...</td>\n      <td>Ramy Youssef</td>\n      <td>909</td>\n      <td>Riaz Uddin</td>\n      <td>This is what I tell people all the time, just ...</td>\n    </tr>\n    <tr>\n      <th>4</th>\n      <td>Ramy Youssef: Feelings (2019) | Why Do They Ma...</td>\n      <td>Ramy Youssef</td>\n      <td>837</td>\n      <td>Shannon dobbs</td>\n      <td>They don't ask NUNS THAT! 🙄</td>\n    </tr>\n    <tr>\n      <th>...</th>\n      <td>...</td>\n      <td>...</td>\n      <td>...</td>\n      <td>...</td>\n      <td>...</td>\n    </tr>\n    <tr>\n      <th>17748</th>\n      <td>Black Music Tells You Everything You Need to K...</td>\n      <td>Roy Wood Jr.</td>\n      <td>0</td>\n      <td>357 Magnum</td>\n      <td>I'm guessing he doesn't live in a colorblind w...</td>\n    </tr>\n    <tr>\n      <th>17749</th>\n      <td>Black Music Tells You Everything You Need to K...</td>\n      <td>Roy Wood Jr.</td>\n      <td>3</td>\n      <td>Erin James</td>\n      <td>Then leave my dear friend. Youve been free for...</td>\n    </tr>\n    <tr>\n      <th>17750</th>\n      <td>Black Music Tells You Everything You Need to K...</td>\n      <td>Roy Wood Jr.</td>\n      <td>0</td>\n      <td>I'm black So I'm slow</td>\n      <td>We didn't create the blue's!... We didn't crea...</td>\n    </tr>\n    <tr>\n      <th>17751</th>\n      <td>Black Music Tells You Everything You Need to K...</td>\n      <td>Roy Wood Jr.</td>\n      <td>2</td>\n      <td>ralph salotto</td>\n      <td>Now that you mention it he's right, the Blues ...</td>\n    </tr>\n    <tr>\n      <th>17752</th>\n      <td>Black Music Tells You Everything You Need to K...</td>\n      <td>Roy Wood Jr.</td>\n      <td>0</td>\n      <td>Garbanzo Beans</td>\n      <td>Far more black people have migrated to the US ...</td>\n    </tr>\n  </tbody>\n</table>\n<p>17753 rows × 5 columns</p>\n</div>"
     },
     "metadata": {},
     "execution_count": 66
    }
   ],
   "source": [
    "# merge two df by \"title\"\n",
    "df = df_webapage.merge(grouped_df, left_on='Title', right_on='Title')\n",
    "df = df[['Title','Comedian','Thumbsup','Name','Comment']]\n",
    "df.to_pickle('./scrape_result_80_with_comedians.pkl')\n",
    "df"
   ]
  },
  {
   "cell_type": "markdown",
   "metadata": {},
   "source": [
    "# User-Comedian Matrix"
   ]
  },
  {
   "cell_type": "code",
   "execution_count": 67,
   "metadata": {},
   "outputs": [
    {
     "output_type": "execute_result",
     "data": {
      "text/plain": [
       "                        Name      Comedian\n",
       "0                   Kenza B.  Ramy Youssef\n",
       "1                     LMivha  Ramy Youssef\n",
       "2              Marissa Urias  Ramy Youssef\n",
       "3                 Riaz Uddin  Ramy Youssef\n",
       "4              Shannon dobbs  Ramy Youssef\n",
       "...                      ...           ...\n",
       "17748             357 Magnum  Roy Wood Jr.\n",
       "17749             Erin James  Roy Wood Jr.\n",
       "17750  I'm black So I'm slow  Roy Wood Jr.\n",
       "17751          ralph salotto  Roy Wood Jr.\n",
       "17752         Garbanzo Beans  Roy Wood Jr.\n",
       "\n",
       "[17753 rows x 2 columns]"
      ],
      "text/html": "<div>\n<style scoped>\n    .dataframe tbody tr th:only-of-type {\n        vertical-align: middle;\n    }\n\n    .dataframe tbody tr th {\n        vertical-align: top;\n    }\n\n    .dataframe thead th {\n        text-align: right;\n    }\n</style>\n<table border=\"1\" class=\"dataframe\">\n  <thead>\n    <tr style=\"text-align: right;\">\n      <th></th>\n      <th>Name</th>\n      <th>Comedian</th>\n    </tr>\n  </thead>\n  <tbody>\n    <tr>\n      <th>0</th>\n      <td>Kenza B.</td>\n      <td>Ramy Youssef</td>\n    </tr>\n    <tr>\n      <th>1</th>\n      <td>LMivha</td>\n      <td>Ramy Youssef</td>\n    </tr>\n    <tr>\n      <th>2</th>\n      <td>Marissa Urias</td>\n      <td>Ramy Youssef</td>\n    </tr>\n    <tr>\n      <th>3</th>\n      <td>Riaz Uddin</td>\n      <td>Ramy Youssef</td>\n    </tr>\n    <tr>\n      <th>4</th>\n      <td>Shannon dobbs</td>\n      <td>Ramy Youssef</td>\n    </tr>\n    <tr>\n      <th>...</th>\n      <td>...</td>\n      <td>...</td>\n    </tr>\n    <tr>\n      <th>17748</th>\n      <td>357 Magnum</td>\n      <td>Roy Wood Jr.</td>\n    </tr>\n    <tr>\n      <th>17749</th>\n      <td>Erin James</td>\n      <td>Roy Wood Jr.</td>\n    </tr>\n    <tr>\n      <th>17750</th>\n      <td>I'm black So I'm slow</td>\n      <td>Roy Wood Jr.</td>\n    </tr>\n    <tr>\n      <th>17751</th>\n      <td>ralph salotto</td>\n      <td>Roy Wood Jr.</td>\n    </tr>\n    <tr>\n      <th>17752</th>\n      <td>Garbanzo Beans</td>\n      <td>Roy Wood Jr.</td>\n    </tr>\n  </tbody>\n</table>\n<p>17753 rows × 2 columns</p>\n</div>"
     },
     "metadata": {},
     "execution_count": 67
    }
   ],
   "source": [
    "df_clean = df[['Name', 'Comedian']]\n",
    "df_clean"
   ]
  },
  {
   "cell_type": "code",
   "execution_count": 69,
   "metadata": {},
   "outputs": [
    {
     "output_type": "execute_result",
     "data": {
      "text/plain": [
       "                  Comedian\n",
       "Name                      \n",
       "whitepride1004          31\n",
       "Sumukh                   7\n",
       "Michael                  6\n",
       "Green Envy               6\n",
       "Audrey New               6\n",
       "...                    ...\n",
       "Cynthia Copland          3\n",
       "solidsports12            3\n",
       "Michael Pipkin           3\n",
       "J L                      3\n",
       "Meagan Woolstrum         3\n",
       "\n",
       "[80 rows x 1 columns]"
      ],
      "text/html": "<div>\n<style scoped>\n    .dataframe tbody tr th:only-of-type {\n        vertical-align: middle;\n    }\n\n    .dataframe tbody tr th {\n        vertical-align: top;\n    }\n\n    .dataframe thead th {\n        text-align: right;\n    }\n</style>\n<table border=\"1\" class=\"dataframe\">\n  <thead>\n    <tr style=\"text-align: right;\">\n      <th></th>\n      <th>Comedian</th>\n    </tr>\n    <tr>\n      <th>Name</th>\n      <th></th>\n    </tr>\n  </thead>\n  <tbody>\n    <tr>\n      <th>whitepride1004</th>\n      <td>31</td>\n    </tr>\n    <tr>\n      <th>Sumukh</th>\n      <td>7</td>\n    </tr>\n    <tr>\n      <th>Michael</th>\n      <td>6</td>\n    </tr>\n    <tr>\n      <th>Green Envy</th>\n      <td>6</td>\n    </tr>\n    <tr>\n      <th>Audrey New</th>\n      <td>6</td>\n    </tr>\n    <tr>\n      <th>...</th>\n      <td>...</td>\n    </tr>\n    <tr>\n      <th>Cynthia Copland</th>\n      <td>3</td>\n    </tr>\n    <tr>\n      <th>solidsports12</th>\n      <td>3</td>\n    </tr>\n    <tr>\n      <th>Michael Pipkin</th>\n      <td>3</td>\n    </tr>\n    <tr>\n      <th>J L</th>\n      <td>3</td>\n    </tr>\n    <tr>\n      <th>Meagan Woolstrum</th>\n      <td>3</td>\n    </tr>\n  </tbody>\n</table>\n<p>80 rows × 1 columns</p>\n</div>"
     },
     "metadata": {},
     "execution_count": 69
    }
   ],
   "source": [
    "df_clean.groupby('Name').count().sort_values(by='Comedian', ascending=False).head(80)"
   ]
  },
  {
   "source": [
    "### Only pick the users who have commented three different comedians"
   ],
   "cell_type": "markdown",
   "metadata": {}
  },
  {
   "cell_type": "code",
   "execution_count": 73,
   "metadata": {},
   "outputs": [
    {
     "output_type": "execute_result",
     "data": {
      "text/plain": [
       "                    Comedian  duplicate\n",
       "Name                                   \n",
       "Sumukh                     6          6\n",
       "Adam Szasz                 5          5\n",
       "Green Envy                 5          5\n",
       "Whyinem                    5          5\n",
       "matthew styles             5          5\n",
       "...                      ...        ...\n",
       "S G                        3          3\n",
       "Michael Sorrentino         3          3\n",
       "Chris young                3          3\n",
       "ADEDOTUN AKANDE            3          3\n",
       "Alex                       3          3\n",
       "\n",
       "[79 rows x 2 columns]"
      ],
      "text/html": "<div>\n<style scoped>\n    .dataframe tbody tr th:only-of-type {\n        vertical-align: middle;\n    }\n\n    .dataframe tbody tr th {\n        vertical-align: top;\n    }\n\n    .dataframe thead th {\n        text-align: right;\n    }\n</style>\n<table border=\"1\" class=\"dataframe\">\n  <thead>\n    <tr style=\"text-align: right;\">\n      <th></th>\n      <th>Comedian</th>\n      <th>duplicate</th>\n    </tr>\n    <tr>\n      <th>Name</th>\n      <th></th>\n      <th></th>\n    </tr>\n  </thead>\n  <tbody>\n    <tr>\n      <th>Sumukh</th>\n      <td>6</td>\n      <td>6</td>\n    </tr>\n    <tr>\n      <th>Adam Szasz</th>\n      <td>5</td>\n      <td>5</td>\n    </tr>\n    <tr>\n      <th>Green Envy</th>\n      <td>5</td>\n      <td>5</td>\n    </tr>\n    <tr>\n      <th>Whyinem</th>\n      <td>5</td>\n      <td>5</td>\n    </tr>\n    <tr>\n      <th>matthew styles</th>\n      <td>5</td>\n      <td>5</td>\n    </tr>\n    <tr>\n      <th>...</th>\n      <td>...</td>\n      <td>...</td>\n    </tr>\n    <tr>\n      <th>S G</th>\n      <td>3</td>\n      <td>3</td>\n    </tr>\n    <tr>\n      <th>Michael Sorrentino</th>\n      <td>3</td>\n      <td>3</td>\n    </tr>\n    <tr>\n      <th>Chris young</th>\n      <td>3</td>\n      <td>3</td>\n    </tr>\n    <tr>\n      <th>ADEDOTUN AKANDE</th>\n      <td>3</td>\n      <td>3</td>\n    </tr>\n    <tr>\n      <th>Alex</th>\n      <td>3</td>\n      <td>3</td>\n    </tr>\n  </tbody>\n</table>\n<p>79 rows × 2 columns</p>\n</div>"
     },
     "metadata": {},
     "execution_count": 73
    }
   ],
   "source": [
    "df_clean['duplicate'] = df_clean.duplicated()\n",
    "df_clean = df_clean[~df_clean['duplicate']]\n",
    "df_clean.groupby('Name').count().sort_values(by='Comedian', ascending=False).head(79)"
   ]
  },
  {
   "cell_type": "code",
   "execution_count": 74,
   "metadata": {},
   "outputs": [
    {
     "output_type": "execute_result",
     "data": {
      "text/plain": [
       "Index(['Sumukh', 'Adam Szasz', 'Green Envy', 'Whyinem', 'matthew styles',\n",
       "       'Michael', 'Ian Crouch', 'Xfirex Xbites', 'Panos kanos', 'Papa Grounds',\n",
       "       'Tyrone Frye', 'Wuft Chan', 'P V', 'John Smith', 'Jennifer Bates',\n",
       "       'Michiko Manalang', 'Claudia Solomon', 'EaST CoAsT MaCHete',\n",
       "       'BabyChainGang', 'Cynthia Copland', 'Mike bee', 'Real Talk', 'R. A.',\n",
       "       'Cleveland Maker', 'Anton Nym', 'A', 'Michael Pipkin', 'J',\n",
       "       'xirsamoht x', 'Remedy', 'John Paul Lafferty', 'A B', 'That Guy',\n",
       "       'Niko', 'yew 2oob', 'A M', 'A Z', 'Kurt Sudheim', 'Sam', 'black bird',\n",
       "       'Mike Jones', 'Anna markandan', 'Lydia Waweru-Morgan', 'Kevin Smith',\n",
       "       'R B', 'L K', 'Jay Jay', 'Bonafide Slacker', 'Andrew Wiggin',\n",
       "       'Vikram Singh', 'Tommaso Urbisci',\n",
       "       'Comedy Central Stand-Up\\n\\n\\n\\n      \\n    Comedy Central Stand-Up',\n",
       "       'brainflash1', 'Stacy Melanson', 'Allison Linner', 'John Doe',\n",
       "       'Christopher', 'K M', 'Tragoudistros.MPH', 'Audrey New', 'J C',\n",
       "       'James Bond', 'CamTheDestroyer', 'g', 'Glenn Davey',\n",
       "       'Mattastic Mattattack', 'Dee Cohen', 'Meagan Woolstrum', 'Peter E',\n",
       "       'Rob', 'Michelle McFarland', 'Ethan Hayden', 'dan lowe', 'Bi- Han',\n",
       "       'S G', 'Michael Sorrentino', 'Chris young', 'ADEDOTUN AKANDE', 'Alex'],\n",
       "      dtype='object', name='Name')"
      ]
     },
     "metadata": {},
     "execution_count": 74
    }
   ],
   "source": [
    "# Select the top 79 users \n",
    "df_clean.groupby('Name').count().sort_values(by='Comedian', ascending=False).head(79).index"
   ]
  },
  {
   "cell_type": "code",
   "execution_count": 75,
   "metadata": {},
   "outputs": [
    {
     "output_type": "execute_result",
     "data": {
      "text/plain": [
       "                                                   Title  \\\n",
       "0      Ramy Youssef: Feelings (2019) | Why Do They Ma...   \n",
       "1      Ramy Youssef: Feelings (2019) | Why Do They Ma...   \n",
       "2      Ramy Youssef: Feelings (2019) | Why Do They Ma...   \n",
       "3      Ramy Youssef: Feelings (2019) | Why Do They Ma...   \n",
       "4      Ramy Youssef: Feelings (2019) | Why Do They Ma...   \n",
       "...                                                  ...   \n",
       "17748  Black Music Tells You Everything You Need to K...   \n",
       "17749  Black Music Tells You Everything You Need to K...   \n",
       "17750  Black Music Tells You Everything You Need to K...   \n",
       "17751  Black Music Tells You Everything You Need to K...   \n",
       "17752  Black Music Tells You Everything You Need to K...   \n",
       "\n",
       "                        Name  \\\n",
       "0                   Kenza B.   \n",
       "1                     LMivha   \n",
       "2              Marissa Urias   \n",
       "3                 Riaz Uddin   \n",
       "4              Shannon dobbs   \n",
       "...                      ...   \n",
       "17748             357 Magnum   \n",
       "17749             Erin James   \n",
       "17750  I'm black So I'm slow   \n",
       "17751          ralph salotto   \n",
       "17752         Garbanzo Beans   \n",
       "\n",
       "                                                 Comment  Polarity  \\\n",
       "0      He touched something really deep, first he ddn... -0.137500   \n",
       "1      How this man got his point across is absolute ...  0.200000   \n",
       "2      Wow, people in the comments really don't get t...  0.160000   \n",
       "3      This is what I tell people all the time, just ... -0.406250   \n",
       "4                            They don't ask NUNS THAT! 🙄  0.000000   \n",
       "...                                                  ...       ...   \n",
       "17748  I'm guessing he doesn't live in a colorblind w... -0.243434   \n",
       "17749  Then leave my dear friend. Youve been free for... -0.237500   \n",
       "17750  We didn't create the blue's!... We didn't crea...  0.000000   \n",
       "17751  Now that you mention it he's right, the Blues ...  0.361905   \n",
       "17752  Far more black people have migrated to the US ...  0.130952   \n",
       "\n",
       "       Subjectivity  P/N      Comedian  \n",
       "0          0.547917 -1.0  Ramy Youssef  \n",
       "1          0.900000  1.0  Ramy Youssef  \n",
       "2          0.365000  1.0  Ramy Youssef  \n",
       "3          0.793750 -1.0  Ramy Youssef  \n",
       "4          0.000000  0.0  Ramy Youssef  \n",
       "...             ...  ...           ...  \n",
       "17748      0.533333 -1.0  Roy Wood Jr.  \n",
       "17749      0.733333 -1.0  Roy Wood Jr.  \n",
       "17750      0.100000  0.0  Roy Wood Jr.  \n",
       "17751      0.511905  1.0  Roy Wood Jr.  \n",
       "17752      0.595238  1.0  Roy Wood Jr.  \n",
       "\n",
       "[17753 rows x 7 columns]"
      ],
      "text/html": "<div>\n<style scoped>\n    .dataframe tbody tr th:only-of-type {\n        vertical-align: middle;\n    }\n\n    .dataframe tbody tr th {\n        vertical-align: top;\n    }\n\n    .dataframe thead th {\n        text-align: right;\n    }\n</style>\n<table border=\"1\" class=\"dataframe\">\n  <thead>\n    <tr style=\"text-align: right;\">\n      <th></th>\n      <th>Title</th>\n      <th>Name</th>\n      <th>Comment</th>\n      <th>Polarity</th>\n      <th>Subjectivity</th>\n      <th>P/N</th>\n      <th>Comedian</th>\n    </tr>\n  </thead>\n  <tbody>\n    <tr>\n      <th>0</th>\n      <td>Ramy Youssef: Feelings (2019) | Why Do They Ma...</td>\n      <td>Kenza B.</td>\n      <td>He touched something really deep, first he ddn...</td>\n      <td>-0.137500</td>\n      <td>0.547917</td>\n      <td>-1.0</td>\n      <td>Ramy Youssef</td>\n    </tr>\n    <tr>\n      <th>1</th>\n      <td>Ramy Youssef: Feelings (2019) | Why Do They Ma...</td>\n      <td>LMivha</td>\n      <td>How this man got his point across is absolute ...</td>\n      <td>0.200000</td>\n      <td>0.900000</td>\n      <td>1.0</td>\n      <td>Ramy Youssef</td>\n    </tr>\n    <tr>\n      <th>2</th>\n      <td>Ramy Youssef: Feelings (2019) | Why Do They Ma...</td>\n      <td>Marissa Urias</td>\n      <td>Wow, people in the comments really don't get t...</td>\n      <td>0.160000</td>\n      <td>0.365000</td>\n      <td>1.0</td>\n      <td>Ramy Youssef</td>\n    </tr>\n    <tr>\n      <th>3</th>\n      <td>Ramy Youssef: Feelings (2019) | Why Do They Ma...</td>\n      <td>Riaz Uddin</td>\n      <td>This is what I tell people all the time, just ...</td>\n      <td>-0.406250</td>\n      <td>0.793750</td>\n      <td>-1.0</td>\n      <td>Ramy Youssef</td>\n    </tr>\n    <tr>\n      <th>4</th>\n      <td>Ramy Youssef: Feelings (2019) | Why Do They Ma...</td>\n      <td>Shannon dobbs</td>\n      <td>They don't ask NUNS THAT! 🙄</td>\n      <td>0.000000</td>\n      <td>0.000000</td>\n      <td>0.0</td>\n      <td>Ramy Youssef</td>\n    </tr>\n    <tr>\n      <th>...</th>\n      <td>...</td>\n      <td>...</td>\n      <td>...</td>\n      <td>...</td>\n      <td>...</td>\n      <td>...</td>\n      <td>...</td>\n    </tr>\n    <tr>\n      <th>17748</th>\n      <td>Black Music Tells You Everything You Need to K...</td>\n      <td>357 Magnum</td>\n      <td>I'm guessing he doesn't live in a colorblind w...</td>\n      <td>-0.243434</td>\n      <td>0.533333</td>\n      <td>-1.0</td>\n      <td>Roy Wood Jr.</td>\n    </tr>\n    <tr>\n      <th>17749</th>\n      <td>Black Music Tells You Everything You Need to K...</td>\n      <td>Erin James</td>\n      <td>Then leave my dear friend. Youve been free for...</td>\n      <td>-0.237500</td>\n      <td>0.733333</td>\n      <td>-1.0</td>\n      <td>Roy Wood Jr.</td>\n    </tr>\n    <tr>\n      <th>17750</th>\n      <td>Black Music Tells You Everything You Need to K...</td>\n      <td>I'm black So I'm slow</td>\n      <td>We didn't create the blue's!... We didn't crea...</td>\n      <td>0.000000</td>\n      <td>0.100000</td>\n      <td>0.0</td>\n      <td>Roy Wood Jr.</td>\n    </tr>\n    <tr>\n      <th>17751</th>\n      <td>Black Music Tells You Everything You Need to K...</td>\n      <td>ralph salotto</td>\n      <td>Now that you mention it he's right, the Blues ...</td>\n      <td>0.361905</td>\n      <td>0.511905</td>\n      <td>1.0</td>\n      <td>Roy Wood Jr.</td>\n    </tr>\n    <tr>\n      <th>17752</th>\n      <td>Black Music Tells You Everything You Need to K...</td>\n      <td>Garbanzo Beans</td>\n      <td>Far more black people have migrated to the US ...</td>\n      <td>0.130952</td>\n      <td>0.595238</td>\n      <td>1.0</td>\n      <td>Roy Wood Jr.</td>\n    </tr>\n  </tbody>\n</table>\n<p>17753 rows × 7 columns</p>\n</div>"
     },
     "metadata": {},
     "execution_count": 75
    }
   ],
   "source": [
    "df_score_data = data_SA.merge(grouped_df, left_on='Title', right_on='Title')\n",
    "df_score_data"
   ]
  },
  {
   "cell_type": "code",
   "execution_count": 76,
   "metadata": {},
   "outputs": [
    {
     "output_type": "execute_result",
     "data": {
      "text/plain": [
       "               Comedian                             Name  Polarity  \\\n",
       "0           Amy Schumer  02. Vernita Green Beatrix KiDDo  0.000000   \n",
       "1           Amy Schumer                    100cincinnati -0.291667   \n",
       "2           Amy Schumer                       @wordzgirl  0.145429   \n",
       "3           Amy Schumer                                A  0.875000   \n",
       "4           Amy Schumer                A Diet Called Sεx  0.000000   \n",
       "...                 ...                              ...       ...   \n",
       "17136  Whitney Cummings                         yew 2oob  0.800000   \n",
       "17137  Whitney Cummings                  zhanna davidova  0.000000   \n",
       "17138  Whitney Cummings                         zja42188  0.156250   \n",
       "17139  Whitney Cummings                           のぢGrey  0.800000   \n",
       "17140  Whitney Cummings                王 アテム空白Le Chiffre  0.000000   \n",
       "\n",
       "       Subjectivity  P/N  \n",
       "0          0.000000  0.0  \n",
       "1          0.541667 -1.0  \n",
       "2          0.624579  1.0  \n",
       "3          0.900000  1.0  \n",
       "4          0.000000  0.0  \n",
       "...             ...  ...  \n",
       "17136      0.750000  1.0  \n",
       "17137      0.000000  0.0  \n",
       "17138      0.666667  1.0  \n",
       "17139      1.000000  1.0  \n",
       "17140      0.000000  0.0  \n",
       "\n",
       "[17141 rows x 5 columns]"
      ],
      "text/html": "<div>\n<style scoped>\n    .dataframe tbody tr th:only-of-type {\n        vertical-align: middle;\n    }\n\n    .dataframe tbody tr th {\n        vertical-align: top;\n    }\n\n    .dataframe thead th {\n        text-align: right;\n    }\n</style>\n<table border=\"1\" class=\"dataframe\">\n  <thead>\n    <tr style=\"text-align: right;\">\n      <th></th>\n      <th>Comedian</th>\n      <th>Name</th>\n      <th>Polarity</th>\n      <th>Subjectivity</th>\n      <th>P/N</th>\n    </tr>\n  </thead>\n  <tbody>\n    <tr>\n      <th>0</th>\n      <td>Amy Schumer</td>\n      <td>02. Vernita Green Beatrix KiDDo</td>\n      <td>0.000000</td>\n      <td>0.000000</td>\n      <td>0.0</td>\n    </tr>\n    <tr>\n      <th>1</th>\n      <td>Amy Schumer</td>\n      <td>100cincinnati</td>\n      <td>-0.291667</td>\n      <td>0.541667</td>\n      <td>-1.0</td>\n    </tr>\n    <tr>\n      <th>2</th>\n      <td>Amy Schumer</td>\n      <td>@wordzgirl</td>\n      <td>0.145429</td>\n      <td>0.624579</td>\n      <td>1.0</td>\n    </tr>\n    <tr>\n      <th>3</th>\n      <td>Amy Schumer</td>\n      <td>A</td>\n      <td>0.875000</td>\n      <td>0.900000</td>\n      <td>1.0</td>\n    </tr>\n    <tr>\n      <th>4</th>\n      <td>Amy Schumer</td>\n      <td>A Diet Called Sεx</td>\n      <td>0.000000</td>\n      <td>0.000000</td>\n      <td>0.0</td>\n    </tr>\n    <tr>\n      <th>...</th>\n      <td>...</td>\n      <td>...</td>\n      <td>...</td>\n      <td>...</td>\n      <td>...</td>\n    </tr>\n    <tr>\n      <th>17136</th>\n      <td>Whitney Cummings</td>\n      <td>yew 2oob</td>\n      <td>0.800000</td>\n      <td>0.750000</td>\n      <td>1.0</td>\n    </tr>\n    <tr>\n      <th>17137</th>\n      <td>Whitney Cummings</td>\n      <td>zhanna davidova</td>\n      <td>0.000000</td>\n      <td>0.000000</td>\n      <td>0.0</td>\n    </tr>\n    <tr>\n      <th>17138</th>\n      <td>Whitney Cummings</td>\n      <td>zja42188</td>\n      <td>0.156250</td>\n      <td>0.666667</td>\n      <td>1.0</td>\n    </tr>\n    <tr>\n      <th>17139</th>\n      <td>Whitney Cummings</td>\n      <td>のぢGrey</td>\n      <td>0.800000</td>\n      <td>1.000000</td>\n      <td>1.0</td>\n    </tr>\n    <tr>\n      <th>17140</th>\n      <td>Whitney Cummings</td>\n      <td>王 アテム空白Le Chiffre</td>\n      <td>0.000000</td>\n      <td>0.000000</td>\n      <td>0.0</td>\n    </tr>\n  </tbody>\n</table>\n<p>17141 rows × 5 columns</p>\n</div>"
     },
     "metadata": {},
     "execution_count": 76
    }
   ],
   "source": [
    "df_avg_score = df_score_data.groupby(['Comedian','Name'], as_index=False).mean()\n",
    "df_avg_score\n",
    "# test = df_score_data.groupby(['Comedian','Name'], as_index=False).mean()\n",
    "# test[test['P/N']<0.9].sort_values(by='P/N', ascending=False)"
   ]
  },
  {
   "cell_type": "markdown",
   "metadata": {},
   "source": [
    "## [Find which comedian have most appearance in different 79 users]"
   ]
  },
  {
   "cell_type": "code",
   "execution_count": 77,
   "metadata": {},
   "outputs": [
    {
     "output_type": "execute_result",
     "data": {
      "text/plain": [
       "['Sumukh',\n",
       " 'Adam Szasz',\n",
       " 'Green Envy',\n",
       " 'Whyinem',\n",
       " 'matthew styles',\n",
       " 'Michael',\n",
       " 'Ian Crouch',\n",
       " 'Xfirex Xbites',\n",
       " 'Panos kanos',\n",
       " 'Papa Grounds',\n",
       " 'Tyrone Frye',\n",
       " 'Wuft Chan',\n",
       " 'P V',\n",
       " 'John Smith',\n",
       " 'Jennifer Bates',\n",
       " 'Michiko Manalang',\n",
       " 'Claudia Solomon',\n",
       " 'EaST CoAsT MaCHete',\n",
       " 'BabyChainGang',\n",
       " 'Cynthia Copland',\n",
       " 'Mike bee',\n",
       " 'Real Talk',\n",
       " 'R. A.',\n",
       " 'Cleveland Maker',\n",
       " 'Anton Nym',\n",
       " 'A',\n",
       " 'Michael Pipkin',\n",
       " 'J',\n",
       " 'xirsamoht x',\n",
       " 'Remedy',\n",
       " 'John Paul Lafferty',\n",
       " 'A B',\n",
       " 'That Guy',\n",
       " 'Niko',\n",
       " 'yew 2oob',\n",
       " 'A M',\n",
       " 'A Z',\n",
       " 'Kurt Sudheim',\n",
       " 'Sam',\n",
       " 'black bird',\n",
       " 'Mike Jones',\n",
       " 'Anna markandan',\n",
       " 'Lydia Waweru-Morgan',\n",
       " 'Kevin Smith',\n",
       " 'R B',\n",
       " 'L K',\n",
       " 'Jay Jay',\n",
       " 'Bonafide Slacker',\n",
       " 'Andrew Wiggin',\n",
       " 'Vikram Singh',\n",
       " 'Tommaso Urbisci',\n",
       " 'Comedy Central Stand-Up\\n\\n\\n\\n      \\n    Comedy Central Stand-Up',\n",
       " 'brainflash1',\n",
       " 'Stacy Melanson',\n",
       " 'Allison Linner',\n",
       " 'John Doe',\n",
       " 'Christopher',\n",
       " 'K M',\n",
       " 'Tragoudistros.MPH',\n",
       " 'Audrey New',\n",
       " 'J C',\n",
       " 'James Bond',\n",
       " 'CamTheDestroyer',\n",
       " 'g',\n",
       " 'Glenn Davey',\n",
       " 'Mattastic Mattattack',\n",
       " 'Dee Cohen',\n",
       " 'Meagan Woolstrum',\n",
       " 'Peter E',\n",
       " 'Rob',\n",
       " 'Michelle McFarland',\n",
       " 'Ethan Hayden',\n",
       " 'dan lowe',\n",
       " 'Bi- Han',\n",
       " 'S G',\n",
       " 'Michael Sorrentino',\n",
       " 'Chris young',\n",
       " 'ADEDOTUN AKANDE',\n",
       " 'Alex']"
      ]
     },
     "metadata": {},
     "execution_count": 77
    }
   ],
   "source": [
    "df_clean = df[['Name', 'Comedian']]\n",
    "df_clean['duplicate'] = df_clean.duplicated()\n",
    "df_clean = df_clean[~df_clean['duplicate']]\n",
    "users_top79 = df_clean.groupby('Name',as_index=False).count().sort_values(by='Comedian', ascending=False).head(79)['Name']\n",
    "list(users_top79)"
   ]
  },
  {
   "cell_type": "code",
   "execution_count": 78,
   "metadata": {},
   "outputs": [
    {
     "output_type": "stream",
     "name": "stdout",
     "text": [
      "40\n"
     ]
    },
    {
     "output_type": "execute_result",
     "data": {
      "text/plain": [
       "                      Name          Comedian  duplicate\n",
       "247                    A B      Ramy Youssef      False\n",
       "289        ADEDOTUN AKANDE     Andy Woodhull      False\n",
       "312              Anton Nym     Andy Woodhull      False\n",
       "324    Lydia Waweru-Morgan     Andy Woodhull      False\n",
       "340         Jennifer Bates     Andy Woodhull      False\n",
       "...                    ...               ...        ...\n",
       "17179              Peter E  Whitney Cummings      False\n",
       "17229             yew 2oob  Whitney Cummings      False\n",
       "17430         Papa Grounds      Roy Wood Jr.      False\n",
       "17614          Tyrone Frye      Roy Wood Jr.      False\n",
       "17709              Michael      Roy Wood Jr.      False\n",
       "\n",
       "[260 rows x 3 columns]"
      ],
      "text/html": "<div>\n<style scoped>\n    .dataframe tbody tr th:only-of-type {\n        vertical-align: middle;\n    }\n\n    .dataframe tbody tr th {\n        vertical-align: top;\n    }\n\n    .dataframe thead th {\n        text-align: right;\n    }\n</style>\n<table border=\"1\" class=\"dataframe\">\n  <thead>\n    <tr style=\"text-align: right;\">\n      <th></th>\n      <th>Name</th>\n      <th>Comedian</th>\n      <th>duplicate</th>\n    </tr>\n  </thead>\n  <tbody>\n    <tr>\n      <th>247</th>\n      <td>A B</td>\n      <td>Ramy Youssef</td>\n      <td>False</td>\n    </tr>\n    <tr>\n      <th>289</th>\n      <td>ADEDOTUN AKANDE</td>\n      <td>Andy Woodhull</td>\n      <td>False</td>\n    </tr>\n    <tr>\n      <th>312</th>\n      <td>Anton Nym</td>\n      <td>Andy Woodhull</td>\n      <td>False</td>\n    </tr>\n    <tr>\n      <th>324</th>\n      <td>Lydia Waweru-Morgan</td>\n      <td>Andy Woodhull</td>\n      <td>False</td>\n    </tr>\n    <tr>\n      <th>340</th>\n      <td>Jennifer Bates</td>\n      <td>Andy Woodhull</td>\n      <td>False</td>\n    </tr>\n    <tr>\n      <th>...</th>\n      <td>...</td>\n      <td>...</td>\n      <td>...</td>\n    </tr>\n    <tr>\n      <th>17179</th>\n      <td>Peter E</td>\n      <td>Whitney Cummings</td>\n      <td>False</td>\n    </tr>\n    <tr>\n      <th>17229</th>\n      <td>yew 2oob</td>\n      <td>Whitney Cummings</td>\n      <td>False</td>\n    </tr>\n    <tr>\n      <th>17430</th>\n      <td>Papa Grounds</td>\n      <td>Roy Wood Jr.</td>\n      <td>False</td>\n    </tr>\n    <tr>\n      <th>17614</th>\n      <td>Tyrone Frye</td>\n      <td>Roy Wood Jr.</td>\n      <td>False</td>\n    </tr>\n    <tr>\n      <th>17709</th>\n      <td>Michael</td>\n      <td>Roy Wood Jr.</td>\n      <td>False</td>\n    </tr>\n  </tbody>\n</table>\n<p>260 rows × 3 columns</p>\n</div>"
     },
     "metadata": {},
     "execution_count": 78
    }
   ],
   "source": [
    "only = df_clean[\"Name\"].isin(list(users_top79)) \n",
    "df_clean2 = df_clean[only]\n",
    "print(len(df_clean2['Comedian'].unique()))\n",
    "df_clean2"
   ]
  },
  {
   "cell_type": "code",
   "execution_count": 80,
   "metadata": {},
   "outputs": [
    {
     "output_type": "execute_result",
     "data": {
      "text/plain": [
       "                                                   Ramy Youssef Andy Woodhull  \\\n",
       "A B                                                         NaN           NaN   \n",
       "ADEDOTUN AKANDE                                             NaN           NaN   \n",
       "Anton Nym                                                   NaN           NaN   \n",
       "Lydia Waweru-Morgan                                         NaN           NaN   \n",
       "Jennifer Bates                                              NaN           NaN   \n",
       "...                                                         ...           ...   \n",
       "CamTheDestroyer                                             NaN           NaN   \n",
       "Jay Jay                                                     NaN           NaN   \n",
       "Cynthia Copland                                             NaN           NaN   \n",
       "Comedy Central Stand-Up\\n\\n\\n\\n      \\n    Come...          NaN           NaN   \n",
       "Michelle McFarland                                          NaN           NaN   \n",
       "\n",
       "                                                   Amy Schumer Arsenio Hall  \\\n",
       "A B                                                        NaN          NaN   \n",
       "ADEDOTUN AKANDE                                            NaN          NaN   \n",
       "Anton Nym                                                  NaN          NaN   \n",
       "Lydia Waweru-Morgan                                        NaN          NaN   \n",
       "Jennifer Bates                                             NaN          NaN   \n",
       "...                                                        ...          ...   \n",
       "CamTheDestroyer                                            NaN          NaN   \n",
       "Jay Jay                                                    NaN          NaN   \n",
       "Cynthia Copland                                            NaN          NaN   \n",
       "Comedy Central Stand-Up\\n\\n\\n\\n      \\n    Come...         NaN          NaN   \n",
       "Michelle McFarland                                         NaN          NaN   \n",
       "\n",
       "                                                   Aziz Ansari Bert Kreischer  \\\n",
       "A B                                                        NaN            NaN   \n",
       "ADEDOTUN AKANDE                                            NaN            NaN   \n",
       "Anton Nym                                                  NaN            NaN   \n",
       "Lydia Waweru-Morgan                                        NaN            NaN   \n",
       "Jennifer Bates                                             NaN            NaN   \n",
       "...                                                        ...            ...   \n",
       "CamTheDestroyer                                            NaN            NaN   \n",
       "Jay Jay                                                    NaN            NaN   \n",
       "Cynthia Copland                                            NaN            NaN   \n",
       "Comedy Central Stand-Up\\n\\n\\n\\n      \\n    Come...         NaN            NaN   \n",
       "Michelle McFarland                                         NaN            NaN   \n",
       "\n",
       "                                                   Bill Burr Chris D'Elia  \\\n",
       "A B                                                      NaN          NaN   \n",
       "ADEDOTUN AKANDE                                          NaN          NaN   \n",
       "Anton Nym                                                NaN          NaN   \n",
       "Lydia Waweru-Morgan                                      NaN          NaN   \n",
       "Jennifer Bates                                           NaN          NaN   \n",
       "...                                                      ...          ...   \n",
       "CamTheDestroyer                                          NaN          NaN   \n",
       "Jay Jay                                                  NaN          NaN   \n",
       "Cynthia Copland                                          NaN          NaN   \n",
       "Comedy Central Stand-Up\\n\\n\\n\\n      \\n    Come...       NaN          NaN   \n",
       "Michelle McFarland                                       NaN          NaN   \n",
       "\n",
       "                                                   Chris Rock Dave Chappelle  \\\n",
       "A B                                                       NaN            NaN   \n",
       "ADEDOTUN AKANDE                                           NaN            NaN   \n",
       "Anton Nym                                                 NaN            NaN   \n",
       "Lydia Waweru-Morgan                                       NaN            NaN   \n",
       "Jennifer Bates                                            NaN            NaN   \n",
       "...                                                       ...            ...   \n",
       "CamTheDestroyer                                           NaN            NaN   \n",
       "Jay Jay                                                   NaN            NaN   \n",
       "Cynthia Copland                                           NaN            NaN   \n",
       "Comedy Central Stand-Up\\n\\n\\n\\n      \\n    Come...        NaN            NaN   \n",
       "Michelle McFarland                                        NaN            NaN   \n",
       "\n",
       "                                                    ... Ronny Chieng  \\\n",
       "A B                                                 ...          NaN   \n",
       "ADEDOTUN AKANDE                                     ...          NaN   \n",
       "Anton Nym                                           ...          NaN   \n",
       "Lydia Waweru-Morgan                                 ...          NaN   \n",
       "Jennifer Bates                                      ...          NaN   \n",
       "...                                                 ...          ...   \n",
       "CamTheDestroyer                                     ...          NaN   \n",
       "Jay Jay                                             ...          NaN   \n",
       "Cynthia Copland                                     ...          NaN   \n",
       "Comedy Central Stand-Up\\n\\n\\n\\n      \\n    Come...  ...          NaN   \n",
       "Michelle McFarland                                  ...          NaN   \n",
       "\n",
       "                                                   Roy Wood Jr.  \\\n",
       "A B                                                         NaN   \n",
       "ADEDOTUN AKANDE                                             NaN   \n",
       "Anton Nym                                                   NaN   \n",
       "Lydia Waweru-Morgan                                         NaN   \n",
       "Jennifer Bates                                              NaN   \n",
       "...                                                         ...   \n",
       "CamTheDestroyer                                             NaN   \n",
       "Jay Jay                                                     NaN   \n",
       "Cynthia Copland                                             NaN   \n",
       "Comedy Central Stand-Up\\n\\n\\n\\n      \\n    Come...          NaN   \n",
       "Michelle McFarland                                          NaN   \n",
       "\n",
       "                                                   Russell Peters  \\\n",
       "A B                                                           NaN   \n",
       "ADEDOTUN AKANDE                                               NaN   \n",
       "Anton Nym                                                     NaN   \n",
       "Lydia Waweru-Morgan                                           NaN   \n",
       "Jennifer Bates                                                NaN   \n",
       "...                                                           ...   \n",
       "CamTheDestroyer                                               NaN   \n",
       "Jay Jay                                                       NaN   \n",
       "Cynthia Copland                                               NaN   \n",
       "Comedy Central Stand-Up\\n\\n\\n\\n      \\n    Come...            NaN   \n",
       "Michelle McFarland                                            NaN   \n",
       "\n",
       "                                                   Sebastian Maniscalco  \\\n",
       "A B                                                                 NaN   \n",
       "ADEDOTUN AKANDE                                                     NaN   \n",
       "Anton Nym                                                           NaN   \n",
       "Lydia Waweru-Morgan                                                 NaN   \n",
       "Jennifer Bates                                                      NaN   \n",
       "...                                                                 ...   \n",
       "CamTheDestroyer                                                     NaN   \n",
       "Jay Jay                                                             NaN   \n",
       "Cynthia Copland                                                     NaN   \n",
       "Comedy Central Stand-Up\\n\\n\\n\\n      \\n    Come...                  NaN   \n",
       "Michelle McFarland                                                  NaN   \n",
       "\n",
       "                                                   Tiffany Haddish Tom Segura  \\\n",
       "A B                                                            NaN        NaN   \n",
       "ADEDOTUN AKANDE                                                NaN        NaN   \n",
       "Anton Nym                                                      NaN        NaN   \n",
       "Lydia Waweru-Morgan                                            NaN        NaN   \n",
       "Jennifer Bates                                                 NaN        NaN   \n",
       "...                                                            ...        ...   \n",
       "CamTheDestroyer                                                NaN        NaN   \n",
       "Jay Jay                                                        NaN        NaN   \n",
       "Cynthia Copland                                                NaN        NaN   \n",
       "Comedy Central Stand-Up\\n\\n\\n\\n      \\n    Come...             NaN        NaN   \n",
       "Michelle McFarland                                             NaN        NaN   \n",
       "\n",
       "                                                   Trevor Noah Urzila Carlson  \\\n",
       "A B                                                        NaN            NaN   \n",
       "ADEDOTUN AKANDE                                            NaN            NaN   \n",
       "Anton Nym                                                  NaN            NaN   \n",
       "Lydia Waweru-Morgan                                        NaN            NaN   \n",
       "Jennifer Bates                                             NaN            NaN   \n",
       "...                                                        ...            ...   \n",
       "CamTheDestroyer                                            NaN            NaN   \n",
       "Jay Jay                                                    NaN            NaN   \n",
       "Cynthia Copland                                            NaN            NaN   \n",
       "Comedy Central Stand-Up\\n\\n\\n\\n      \\n    Come...         NaN            NaN   \n",
       "Michelle McFarland                                         NaN            NaN   \n",
       "\n",
       "                                                   Vir Das Whitney Cummings  \n",
       "A B                                                    NaN              NaN  \n",
       "ADEDOTUN AKANDE                                        NaN              NaN  \n",
       "Anton Nym                                              NaN              NaN  \n",
       "Lydia Waweru-Morgan                                    NaN              NaN  \n",
       "Jennifer Bates                                         NaN              NaN  \n",
       "...                                                    ...              ...  \n",
       "CamTheDestroyer                                        NaN              NaN  \n",
       "Jay Jay                                                NaN              NaN  \n",
       "Cynthia Copland                                        NaN              NaN  \n",
       "Comedy Central Stand-Up\\n\\n\\n\\n      \\n    Come...     NaN              NaN  \n",
       "Michelle McFarland                                     NaN              NaN  \n",
       "\n",
       "[79 rows x 40 columns]"
      ],
      "text/html": "<div>\n<style scoped>\n    .dataframe tbody tr th:only-of-type {\n        vertical-align: middle;\n    }\n\n    .dataframe tbody tr th {\n        vertical-align: top;\n    }\n\n    .dataframe thead th {\n        text-align: right;\n    }\n</style>\n<table border=\"1\" class=\"dataframe\">\n  <thead>\n    <tr style=\"text-align: right;\">\n      <th></th>\n      <th>Ramy Youssef</th>\n      <th>Andy Woodhull</th>\n      <th>Amy Schumer</th>\n      <th>Arsenio Hall</th>\n      <th>Aziz Ansari</th>\n      <th>Bert Kreischer</th>\n      <th>Bill Burr</th>\n      <th>Chris D'Elia</th>\n      <th>Chris Rock</th>\n      <th>Dave Chappelle</th>\n      <th>...</th>\n      <th>Ronny Chieng</th>\n      <th>Roy Wood Jr.</th>\n      <th>Russell Peters</th>\n      <th>Sebastian Maniscalco</th>\n      <th>Tiffany Haddish</th>\n      <th>Tom Segura</th>\n      <th>Trevor Noah</th>\n      <th>Urzila Carlson</th>\n      <th>Vir Das</th>\n      <th>Whitney Cummings</th>\n    </tr>\n  </thead>\n  <tbody>\n    <tr>\n      <th>A B</th>\n      <td>NaN</td>\n      <td>NaN</td>\n      <td>NaN</td>\n      <td>NaN</td>\n      <td>NaN</td>\n      <td>NaN</td>\n      <td>NaN</td>\n      <td>NaN</td>\n      <td>NaN</td>\n      <td>NaN</td>\n      <td>...</td>\n      <td>NaN</td>\n      <td>NaN</td>\n      <td>NaN</td>\n      <td>NaN</td>\n      <td>NaN</td>\n      <td>NaN</td>\n      <td>NaN</td>\n      <td>NaN</td>\n      <td>NaN</td>\n      <td>NaN</td>\n    </tr>\n    <tr>\n      <th>ADEDOTUN AKANDE</th>\n      <td>NaN</td>\n      <td>NaN</td>\n      <td>NaN</td>\n      <td>NaN</td>\n      <td>NaN</td>\n      <td>NaN</td>\n      <td>NaN</td>\n      <td>NaN</td>\n      <td>NaN</td>\n      <td>NaN</td>\n      <td>...</td>\n      <td>NaN</td>\n      <td>NaN</td>\n      <td>NaN</td>\n      <td>NaN</td>\n      <td>NaN</td>\n      <td>NaN</td>\n      <td>NaN</td>\n      <td>NaN</td>\n      <td>NaN</td>\n      <td>NaN</td>\n    </tr>\n    <tr>\n      <th>Anton Nym</th>\n      <td>NaN</td>\n      <td>NaN</td>\n      <td>NaN</td>\n      <td>NaN</td>\n      <td>NaN</td>\n      <td>NaN</td>\n      <td>NaN</td>\n      <td>NaN</td>\n      <td>NaN</td>\n      <td>NaN</td>\n      <td>...</td>\n      <td>NaN</td>\n      <td>NaN</td>\n      <td>NaN</td>\n      <td>NaN</td>\n      <td>NaN</td>\n      <td>NaN</td>\n      <td>NaN</td>\n      <td>NaN</td>\n      <td>NaN</td>\n      <td>NaN</td>\n    </tr>\n    <tr>\n      <th>Lydia Waweru-Morgan</th>\n      <td>NaN</td>\n      <td>NaN</td>\n      <td>NaN</td>\n      <td>NaN</td>\n      <td>NaN</td>\n      <td>NaN</td>\n      <td>NaN</td>\n      <td>NaN</td>\n      <td>NaN</td>\n      <td>NaN</td>\n      <td>...</td>\n      <td>NaN</td>\n      <td>NaN</td>\n      <td>NaN</td>\n      <td>NaN</td>\n      <td>NaN</td>\n      <td>NaN</td>\n      <td>NaN</td>\n      <td>NaN</td>\n      <td>NaN</td>\n      <td>NaN</td>\n    </tr>\n    <tr>\n      <th>Jennifer Bates</th>\n      <td>NaN</td>\n      <td>NaN</td>\n      <td>NaN</td>\n      <td>NaN</td>\n      <td>NaN</td>\n      <td>NaN</td>\n      <td>NaN</td>\n      <td>NaN</td>\n      <td>NaN</td>\n      <td>NaN</td>\n      <td>...</td>\n      <td>NaN</td>\n      <td>NaN</td>\n      <td>NaN</td>\n      <td>NaN</td>\n      <td>NaN</td>\n      <td>NaN</td>\n      <td>NaN</td>\n      <td>NaN</td>\n      <td>NaN</td>\n      <td>NaN</td>\n    </tr>\n    <tr>\n      <th>...</th>\n      <td>...</td>\n      <td>...</td>\n      <td>...</td>\n      <td>...</td>\n      <td>...</td>\n      <td>...</td>\n      <td>...</td>\n      <td>...</td>\n      <td>...</td>\n      <td>...</td>\n      <td>...</td>\n      <td>...</td>\n      <td>...</td>\n      <td>...</td>\n      <td>...</td>\n      <td>...</td>\n      <td>...</td>\n      <td>...</td>\n      <td>...</td>\n      <td>...</td>\n      <td>...</td>\n    </tr>\n    <tr>\n      <th>CamTheDestroyer</th>\n      <td>NaN</td>\n      <td>NaN</td>\n      <td>NaN</td>\n      <td>NaN</td>\n      <td>NaN</td>\n      <td>NaN</td>\n      <td>NaN</td>\n      <td>NaN</td>\n      <td>NaN</td>\n      <td>NaN</td>\n      <td>...</td>\n      <td>NaN</td>\n      <td>NaN</td>\n      <td>NaN</td>\n      <td>NaN</td>\n      <td>NaN</td>\n      <td>NaN</td>\n      <td>NaN</td>\n      <td>NaN</td>\n      <td>NaN</td>\n      <td>NaN</td>\n    </tr>\n    <tr>\n      <th>Jay Jay</th>\n      <td>NaN</td>\n      <td>NaN</td>\n      <td>NaN</td>\n      <td>NaN</td>\n      <td>NaN</td>\n      <td>NaN</td>\n      <td>NaN</td>\n      <td>NaN</td>\n      <td>NaN</td>\n      <td>NaN</td>\n      <td>...</td>\n      <td>NaN</td>\n      <td>NaN</td>\n      <td>NaN</td>\n      <td>NaN</td>\n      <td>NaN</td>\n      <td>NaN</td>\n      <td>NaN</td>\n      <td>NaN</td>\n      <td>NaN</td>\n      <td>NaN</td>\n    </tr>\n    <tr>\n      <th>Cynthia Copland</th>\n      <td>NaN</td>\n      <td>NaN</td>\n      <td>NaN</td>\n      <td>NaN</td>\n      <td>NaN</td>\n      <td>NaN</td>\n      <td>NaN</td>\n      <td>NaN</td>\n      <td>NaN</td>\n      <td>NaN</td>\n      <td>...</td>\n      <td>NaN</td>\n      <td>NaN</td>\n      <td>NaN</td>\n      <td>NaN</td>\n      <td>NaN</td>\n      <td>NaN</td>\n      <td>NaN</td>\n      <td>NaN</td>\n      <td>NaN</td>\n      <td>NaN</td>\n    </tr>\n    <tr>\n      <th>Comedy Central Stand-Up\\n\\n\\n\\n      \\n    Comedy Central Stand-Up</th>\n      <td>NaN</td>\n      <td>NaN</td>\n      <td>NaN</td>\n      <td>NaN</td>\n      <td>NaN</td>\n      <td>NaN</td>\n      <td>NaN</td>\n      <td>NaN</td>\n      <td>NaN</td>\n      <td>NaN</td>\n      <td>...</td>\n      <td>NaN</td>\n      <td>NaN</td>\n      <td>NaN</td>\n      <td>NaN</td>\n      <td>NaN</td>\n      <td>NaN</td>\n      <td>NaN</td>\n      <td>NaN</td>\n      <td>NaN</td>\n      <td>NaN</td>\n    </tr>\n    <tr>\n      <th>Michelle McFarland</th>\n      <td>NaN</td>\n      <td>NaN</td>\n      <td>NaN</td>\n      <td>NaN</td>\n      <td>NaN</td>\n      <td>NaN</td>\n      <td>NaN</td>\n      <td>NaN</td>\n      <td>NaN</td>\n      <td>NaN</td>\n      <td>...</td>\n      <td>NaN</td>\n      <td>NaN</td>\n      <td>NaN</td>\n      <td>NaN</td>\n      <td>NaN</td>\n      <td>NaN</td>\n      <td>NaN</td>\n      <td>NaN</td>\n      <td>NaN</td>\n      <td>NaN</td>\n    </tr>\n  </tbody>\n</table>\n<p>79 rows × 40 columns</p>\n</div>"
     },
     "metadata": {},
     "execution_count": 80
    }
   ],
   "source": [
    "df_UCM = pd.DataFrame('NaN', index=df_clean2['Name'].unique(), columns=df_clean2['Comedian'].unique())\n",
    "df_UCM"
   ]
  },
  {
   "cell_type": "code",
   "execution_count": 86,
   "metadata": {},
   "outputs": [
    {
     "output_type": "execute_result",
     "data": {
      "text/plain": [
       "               Comedian                Name  Polarity  Subjectivity  P/N\n",
       "3           Amy Schumer                   A  0.875000      0.900000  1.0\n",
       "235         Amy Schumer              Sumukh  0.100000      0.300000  1.0\n",
       "388       Andy Woodhull     ADEDOTUN AKANDE  0.875000      0.600000  1.0\n",
       "393       Andy Woodhull           Anton Nym  0.680990      0.681667  1.0\n",
       "440       Andy Woodhull        Ethan Hayden  0.291667      0.508333  1.0\n",
       "...                 ...                 ...       ...           ...  ...\n",
       "16758  Whitney Cummings          John Smith  0.214286      0.500000  1.0\n",
       "16836  Whitney Cummings  Michael Sorrentino  0.000000      0.000000  0.0\n",
       "16845  Whitney Cummings            Mike bee  0.550000      0.500000  1.0\n",
       "16887  Whitney Cummings             Peter E  0.000000      0.950000  0.0\n",
       "17136  Whitney Cummings            yew 2oob  0.800000      0.750000  1.0\n",
       "\n",
       "[260 rows x 5 columns]"
      ],
      "text/html": "<div>\n<style scoped>\n    .dataframe tbody tr th:only-of-type {\n        vertical-align: middle;\n    }\n\n    .dataframe tbody tr th {\n        vertical-align: top;\n    }\n\n    .dataframe thead th {\n        text-align: right;\n    }\n</style>\n<table border=\"1\" class=\"dataframe\">\n  <thead>\n    <tr style=\"text-align: right;\">\n      <th></th>\n      <th>Comedian</th>\n      <th>Name</th>\n      <th>Polarity</th>\n      <th>Subjectivity</th>\n      <th>P/N</th>\n    </tr>\n  </thead>\n  <tbody>\n    <tr>\n      <th>3</th>\n      <td>Amy Schumer</td>\n      <td>A</td>\n      <td>0.875000</td>\n      <td>0.900000</td>\n      <td>1.0</td>\n    </tr>\n    <tr>\n      <th>235</th>\n      <td>Amy Schumer</td>\n      <td>Sumukh</td>\n      <td>0.100000</td>\n      <td>0.300000</td>\n      <td>1.0</td>\n    </tr>\n    <tr>\n      <th>388</th>\n      <td>Andy Woodhull</td>\n      <td>ADEDOTUN AKANDE</td>\n      <td>0.875000</td>\n      <td>0.600000</td>\n      <td>1.0</td>\n    </tr>\n    <tr>\n      <th>393</th>\n      <td>Andy Woodhull</td>\n      <td>Anton Nym</td>\n      <td>0.680990</td>\n      <td>0.681667</td>\n      <td>1.0</td>\n    </tr>\n    <tr>\n      <th>440</th>\n      <td>Andy Woodhull</td>\n      <td>Ethan Hayden</td>\n      <td>0.291667</td>\n      <td>0.508333</td>\n      <td>1.0</td>\n    </tr>\n    <tr>\n      <th>...</th>\n      <td>...</td>\n      <td>...</td>\n      <td>...</td>\n      <td>...</td>\n      <td>...</td>\n    </tr>\n    <tr>\n      <th>16758</th>\n      <td>Whitney Cummings</td>\n      <td>John Smith</td>\n      <td>0.214286</td>\n      <td>0.500000</td>\n      <td>1.0</td>\n    </tr>\n    <tr>\n      <th>16836</th>\n      <td>Whitney Cummings</td>\n      <td>Michael Sorrentino</td>\n      <td>0.000000</td>\n      <td>0.000000</td>\n      <td>0.0</td>\n    </tr>\n    <tr>\n      <th>16845</th>\n      <td>Whitney Cummings</td>\n      <td>Mike bee</td>\n      <td>0.550000</td>\n      <td>0.500000</td>\n      <td>1.0</td>\n    </tr>\n    <tr>\n      <th>16887</th>\n      <td>Whitney Cummings</td>\n      <td>Peter E</td>\n      <td>0.000000</td>\n      <td>0.950000</td>\n      <td>0.0</td>\n    </tr>\n    <tr>\n      <th>17136</th>\n      <td>Whitney Cummings</td>\n      <td>yew 2oob</td>\n      <td>0.800000</td>\n      <td>0.750000</td>\n      <td>1.0</td>\n    </tr>\n  </tbody>\n</table>\n<p>260 rows × 5 columns</p>\n</div>"
     },
     "metadata": {},
     "execution_count": 86
    }
   ],
   "source": [
    "# retain the data rows only with users_top79\n",
    "user_filter = df_avg_score['Name'].isin(users_top79)\n",
    "df_avg_score_top79users_and_top40comedians = df_avg_score[user_filter]\n",
    "df_avg_score_top79users_and_top40comedians"
   ]
  },
  {
   "cell_type": "code",
   "execution_count": 87,
   "metadata": {},
   "outputs": [],
   "source": [
    "# dddd = df_avg_score_top80users_and_top41comedians.groupby('Name').agg('count')\n",
    "# dddd.sort_values(by='Comedian', ascending=False)[:20]"
   ]
  },
  {
   "cell_type": "code",
   "execution_count": 88,
   "metadata": {},
   "outputs": [],
   "source": [
    "# comedian_top41 = list(df_clean2['Comedian'].unique())\n",
    "# comedian_filter = df_avg_score['Comedian'].isin(comedian_top41)\n",
    "# df_avg_score[comedian_filter]"
   ]
  },
  {
   "cell_type": "markdown",
   "metadata": {},
   "source": [
    "# df_UCM with the average P/N score"
   ]
  },
  {
   "cell_type": "code",
   "execution_count": 89,
   "metadata": {},
   "outputs": [
    {
     "output_type": "execute_result",
     "data": {
      "text/plain": [
       "                                                   Ramy Youssef Andy Woodhull  \\\n",
       "A B                                                           1           NaN   \n",
       "ADEDOTUN AKANDE                                             NaN             1   \n",
       "Anton Nym                                                   NaN             1   \n",
       "Lydia Waweru-Morgan                                         NaN            -1   \n",
       "Jennifer Bates                                              NaN             1   \n",
       "...                                                         ...           ...   \n",
       "CamTheDestroyer                                             NaN           NaN   \n",
       "Jay Jay                                                     NaN           NaN   \n",
       "Cynthia Copland                                             NaN           NaN   \n",
       "Comedy Central Stand-Up\\n\\n\\n\\n      \\n    Come...          NaN           NaN   \n",
       "Michelle McFarland                                          NaN           NaN   \n",
       "\n",
       "                                                   Amy Schumer Arsenio Hall  \\\n",
       "A B                                                        NaN          NaN   \n",
       "ADEDOTUN AKANDE                                            NaN          NaN   \n",
       "Anton Nym                                                  NaN          NaN   \n",
       "Lydia Waweru-Morgan                                        NaN            1   \n",
       "Jennifer Bates                                             NaN          NaN   \n",
       "...                                                        ...          ...   \n",
       "CamTheDestroyer                                            NaN          NaN   \n",
       "Jay Jay                                                    NaN          NaN   \n",
       "Cynthia Copland                                            NaN          NaN   \n",
       "Comedy Central Stand-Up\\n\\n\\n\\n      \\n    Come...         NaN          NaN   \n",
       "Michelle McFarland                                         NaN          NaN   \n",
       "\n",
       "                                                   Aziz Ansari Bert Kreischer  \\\n",
       "A B                                                        NaN            NaN   \n",
       "ADEDOTUN AKANDE                                            NaN            NaN   \n",
       "Anton Nym                                                  NaN              0   \n",
       "Lydia Waweru-Morgan                                        NaN              1   \n",
       "Jennifer Bates                                               0            NaN   \n",
       "...                                                        ...            ...   \n",
       "CamTheDestroyer                                            NaN            NaN   \n",
       "Jay Jay                                                    NaN            NaN   \n",
       "Cynthia Copland                                            NaN            NaN   \n",
       "Comedy Central Stand-Up\\n\\n\\n\\n      \\n    Come...         NaN            NaN   \n",
       "Michelle McFarland                                         NaN            NaN   \n",
       "\n",
       "                                                   Bill Burr Chris D'Elia  \\\n",
       "A B                                                      NaN            0   \n",
       "ADEDOTUN AKANDE                                          NaN          NaN   \n",
       "Anton Nym                                                NaN          NaN   \n",
       "Lydia Waweru-Morgan                                      NaN          NaN   \n",
       "Jennifer Bates                                           NaN          NaN   \n",
       "...                                                      ...          ...   \n",
       "CamTheDestroyer                                          NaN          NaN   \n",
       "Jay Jay                                                  NaN          NaN   \n",
       "Cynthia Copland                                          NaN          NaN   \n",
       "Comedy Central Stand-Up\\n\\n\\n\\n      \\n    Come...       NaN          NaN   \n",
       "Michelle McFarland                                       NaN          NaN   \n",
       "\n",
       "                                                   Chris Rock Dave Chappelle  \\\n",
       "A B                                                       NaN            NaN   \n",
       "ADEDOTUN AKANDE                                           NaN            NaN   \n",
       "Anton Nym                                                   0            NaN   \n",
       "Lydia Waweru-Morgan                                       NaN            NaN   \n",
       "Jennifer Bates                                            NaN            NaN   \n",
       "...                                                       ...            ...   \n",
       "CamTheDestroyer                                           NaN            NaN   \n",
       "Jay Jay                                                   NaN            NaN   \n",
       "Cynthia Copland                                           NaN            NaN   \n",
       "Comedy Central Stand-Up\\n\\n\\n\\n      \\n    Come...        NaN            NaN   \n",
       "Michelle McFarland                                        NaN            NaN   \n",
       "\n",
       "                                                    ... Ronny Chieng  \\\n",
       "A B                                                 ...          NaN   \n",
       "ADEDOTUN AKANDE                                     ...          NaN   \n",
       "Anton Nym                                           ...          NaN   \n",
       "Lydia Waweru-Morgan                                 ...          NaN   \n",
       "Jennifer Bates                                      ...          NaN   \n",
       "...                                                 ...          ...   \n",
       "CamTheDestroyer                                     ...            1   \n",
       "Jay Jay                                             ...            1   \n",
       "Cynthia Copland                                     ...          NaN   \n",
       "Comedy Central Stand-Up\\n\\n\\n\\n      \\n    Come...  ...          NaN   \n",
       "Michelle McFarland                                  ...          NaN   \n",
       "\n",
       "                                                   Roy Wood Jr.  \\\n",
       "A B                                                         NaN   \n",
       "ADEDOTUN AKANDE                                               1   \n",
       "Anton Nym                                                   NaN   \n",
       "Lydia Waweru-Morgan                                         NaN   \n",
       "Jennifer Bates                                              NaN   \n",
       "...                                                         ...   \n",
       "CamTheDestroyer                                             NaN   \n",
       "Jay Jay                                                     NaN   \n",
       "Cynthia Copland                                             NaN   \n",
       "Comedy Central Stand-Up\\n\\n\\n\\n      \\n    Come...            1   \n",
       "Michelle McFarland                                          NaN   \n",
       "\n",
       "                                                   Russell Peters  \\\n",
       "A B                                                           NaN   \n",
       "ADEDOTUN AKANDE                                               NaN   \n",
       "Anton Nym                                                     NaN   \n",
       "Lydia Waweru-Morgan                                           NaN   \n",
       "Jennifer Bates                                                NaN   \n",
       "...                                                           ...   \n",
       "CamTheDestroyer                                               NaN   \n",
       "Jay Jay                                                       NaN   \n",
       "Cynthia Copland                                               NaN   \n",
       "Comedy Central Stand-Up\\n\\n\\n\\n      \\n    Come...            NaN   \n",
       "Michelle McFarland                                            NaN   \n",
       "\n",
       "                                                   Sebastian Maniscalco  \\\n",
       "A B                                                                 NaN   \n",
       "ADEDOTUN AKANDE                                                      -1   \n",
       "Anton Nym                                                           NaN   \n",
       "Lydia Waweru-Morgan                                                 NaN   \n",
       "Jennifer Bates                                                      NaN   \n",
       "...                                                                 ...   \n",
       "CamTheDestroyer                                                     NaN   \n",
       "Jay Jay                                                             NaN   \n",
       "Cynthia Copland                                                     NaN   \n",
       "Comedy Central Stand-Up\\n\\n\\n\\n      \\n    Come...                  NaN   \n",
       "Michelle McFarland                                                  NaN   \n",
       "\n",
       "                                                   Tiffany Haddish Tom Segura  \\\n",
       "A B                                                            NaN        NaN   \n",
       "ADEDOTUN AKANDE                                                NaN        NaN   \n",
       "Anton Nym                                                      NaN        NaN   \n",
       "Lydia Waweru-Morgan                                            NaN        NaN   \n",
       "Jennifer Bates                                                 NaN        NaN   \n",
       "...                                                            ...        ...   \n",
       "CamTheDestroyer                                                NaN        NaN   \n",
       "Jay Jay                                                        NaN          1   \n",
       "Cynthia Copland                                                 -1        NaN   \n",
       "Comedy Central Stand-Up\\n\\n\\n\\n      \\n    Come...             NaN        NaN   \n",
       "Michelle McFarland                                               0        NaN   \n",
       "\n",
       "                                                   Trevor Noah Urzila Carlson  \\\n",
       "A B                                                        NaN            NaN   \n",
       "ADEDOTUN AKANDE                                            NaN            NaN   \n",
       "Anton Nym                                                  NaN            NaN   \n",
       "Lydia Waweru-Morgan                                        NaN            NaN   \n",
       "Jennifer Bates                                             NaN            NaN   \n",
       "...                                                        ...            ...   \n",
       "CamTheDestroyer                                            NaN            NaN   \n",
       "Jay Jay                                                    NaN            NaN   \n",
       "Cynthia Copland                                            NaN            NaN   \n",
       "Comedy Central Stand-Up\\n\\n\\n\\n      \\n    Come...         NaN            NaN   \n",
       "Michelle McFarland                                         NaN              1   \n",
       "\n",
       "                                                   Vir Das Whitney Cummings  \n",
       "A B                                                      0              NaN  \n",
       "ADEDOTUN AKANDE                                        NaN              NaN  \n",
       "Anton Nym                                              NaN              NaN  \n",
       "Lydia Waweru-Morgan                                    NaN              NaN  \n",
       "Jennifer Bates                                         NaN              NaN  \n",
       "...                                                    ...              ...  \n",
       "CamTheDestroyer                                        NaN              NaN  \n",
       "Jay Jay                                                NaN              NaN  \n",
       "Cynthia Copland                                        NaN              NaN  \n",
       "Comedy Central Stand-Up\\n\\n\\n\\n      \\n    Come...     NaN                1  \n",
       "Michelle McFarland                                       1              NaN  \n",
       "\n",
       "[79 rows x 40 columns]"
      ],
      "text/html": "<div>\n<style scoped>\n    .dataframe tbody tr th:only-of-type {\n        vertical-align: middle;\n    }\n\n    .dataframe tbody tr th {\n        vertical-align: top;\n    }\n\n    .dataframe thead th {\n        text-align: right;\n    }\n</style>\n<table border=\"1\" class=\"dataframe\">\n  <thead>\n    <tr style=\"text-align: right;\">\n      <th></th>\n      <th>Ramy Youssef</th>\n      <th>Andy Woodhull</th>\n      <th>Amy Schumer</th>\n      <th>Arsenio Hall</th>\n      <th>Aziz Ansari</th>\n      <th>Bert Kreischer</th>\n      <th>Bill Burr</th>\n      <th>Chris D'Elia</th>\n      <th>Chris Rock</th>\n      <th>Dave Chappelle</th>\n      <th>...</th>\n      <th>Ronny Chieng</th>\n      <th>Roy Wood Jr.</th>\n      <th>Russell Peters</th>\n      <th>Sebastian Maniscalco</th>\n      <th>Tiffany Haddish</th>\n      <th>Tom Segura</th>\n      <th>Trevor Noah</th>\n      <th>Urzila Carlson</th>\n      <th>Vir Das</th>\n      <th>Whitney Cummings</th>\n    </tr>\n  </thead>\n  <tbody>\n    <tr>\n      <th>A B</th>\n      <td>1</td>\n      <td>NaN</td>\n      <td>NaN</td>\n      <td>NaN</td>\n      <td>NaN</td>\n      <td>NaN</td>\n      <td>NaN</td>\n      <td>0</td>\n      <td>NaN</td>\n      <td>NaN</td>\n      <td>...</td>\n      <td>NaN</td>\n      <td>NaN</td>\n      <td>NaN</td>\n      <td>NaN</td>\n      <td>NaN</td>\n      <td>NaN</td>\n      <td>NaN</td>\n      <td>NaN</td>\n      <td>0</td>\n      <td>NaN</td>\n    </tr>\n    <tr>\n      <th>ADEDOTUN AKANDE</th>\n      <td>NaN</td>\n      <td>1</td>\n      <td>NaN</td>\n      <td>NaN</td>\n      <td>NaN</td>\n      <td>NaN</td>\n      <td>NaN</td>\n      <td>NaN</td>\n      <td>NaN</td>\n      <td>NaN</td>\n      <td>...</td>\n      <td>NaN</td>\n      <td>1</td>\n      <td>NaN</td>\n      <td>-1</td>\n      <td>NaN</td>\n      <td>NaN</td>\n      <td>NaN</td>\n      <td>NaN</td>\n      <td>NaN</td>\n      <td>NaN</td>\n    </tr>\n    <tr>\n      <th>Anton Nym</th>\n      <td>NaN</td>\n      <td>1</td>\n      <td>NaN</td>\n      <td>NaN</td>\n      <td>NaN</td>\n      <td>0</td>\n      <td>NaN</td>\n      <td>NaN</td>\n      <td>0</td>\n      <td>NaN</td>\n      <td>...</td>\n      <td>NaN</td>\n      <td>NaN</td>\n      <td>NaN</td>\n      <td>NaN</td>\n      <td>NaN</td>\n      <td>NaN</td>\n      <td>NaN</td>\n      <td>NaN</td>\n      <td>NaN</td>\n      <td>NaN</td>\n    </tr>\n    <tr>\n      <th>Lydia Waweru-Morgan</th>\n      <td>NaN</td>\n      <td>-1</td>\n      <td>NaN</td>\n      <td>1</td>\n      <td>NaN</td>\n      <td>1</td>\n      <td>NaN</td>\n      <td>NaN</td>\n      <td>NaN</td>\n      <td>NaN</td>\n      <td>...</td>\n      <td>NaN</td>\n      <td>NaN</td>\n      <td>NaN</td>\n      <td>NaN</td>\n      <td>NaN</td>\n      <td>NaN</td>\n      <td>NaN</td>\n      <td>NaN</td>\n      <td>NaN</td>\n      <td>NaN</td>\n    </tr>\n    <tr>\n      <th>Jennifer Bates</th>\n      <td>NaN</td>\n      <td>1</td>\n      <td>NaN</td>\n      <td>NaN</td>\n      <td>0</td>\n      <td>NaN</td>\n      <td>NaN</td>\n      <td>NaN</td>\n      <td>NaN</td>\n      <td>NaN</td>\n      <td>...</td>\n      <td>NaN</td>\n      <td>NaN</td>\n      <td>NaN</td>\n      <td>NaN</td>\n      <td>NaN</td>\n      <td>NaN</td>\n      <td>NaN</td>\n      <td>NaN</td>\n      <td>NaN</td>\n      <td>NaN</td>\n    </tr>\n    <tr>\n      <th>...</th>\n      <td>...</td>\n      <td>...</td>\n      <td>...</td>\n      <td>...</td>\n      <td>...</td>\n      <td>...</td>\n      <td>...</td>\n      <td>...</td>\n      <td>...</td>\n      <td>...</td>\n      <td>...</td>\n      <td>...</td>\n      <td>...</td>\n      <td>...</td>\n      <td>...</td>\n      <td>...</td>\n      <td>...</td>\n      <td>...</td>\n      <td>...</td>\n      <td>...</td>\n      <td>...</td>\n    </tr>\n    <tr>\n      <th>CamTheDestroyer</th>\n      <td>NaN</td>\n      <td>NaN</td>\n      <td>NaN</td>\n      <td>NaN</td>\n      <td>NaN</td>\n      <td>NaN</td>\n      <td>NaN</td>\n      <td>NaN</td>\n      <td>NaN</td>\n      <td>NaN</td>\n      <td>...</td>\n      <td>1</td>\n      <td>NaN</td>\n      <td>NaN</td>\n      <td>NaN</td>\n      <td>NaN</td>\n      <td>NaN</td>\n      <td>NaN</td>\n      <td>NaN</td>\n      <td>NaN</td>\n      <td>NaN</td>\n    </tr>\n    <tr>\n      <th>Jay Jay</th>\n      <td>NaN</td>\n      <td>NaN</td>\n      <td>NaN</td>\n      <td>NaN</td>\n      <td>NaN</td>\n      <td>NaN</td>\n      <td>NaN</td>\n      <td>NaN</td>\n      <td>NaN</td>\n      <td>NaN</td>\n      <td>...</td>\n      <td>1</td>\n      <td>NaN</td>\n      <td>NaN</td>\n      <td>NaN</td>\n      <td>NaN</td>\n      <td>1</td>\n      <td>NaN</td>\n      <td>NaN</td>\n      <td>NaN</td>\n      <td>NaN</td>\n    </tr>\n    <tr>\n      <th>Cynthia Copland</th>\n      <td>NaN</td>\n      <td>NaN</td>\n      <td>NaN</td>\n      <td>NaN</td>\n      <td>NaN</td>\n      <td>NaN</td>\n      <td>NaN</td>\n      <td>NaN</td>\n      <td>NaN</td>\n      <td>NaN</td>\n      <td>...</td>\n      <td>NaN</td>\n      <td>NaN</td>\n      <td>NaN</td>\n      <td>NaN</td>\n      <td>-1</td>\n      <td>NaN</td>\n      <td>NaN</td>\n      <td>NaN</td>\n      <td>NaN</td>\n      <td>NaN</td>\n    </tr>\n    <tr>\n      <th>Comedy Central Stand-Up\\n\\n\\n\\n      \\n    Comedy Central Stand-Up</th>\n      <td>NaN</td>\n      <td>NaN</td>\n      <td>NaN</td>\n      <td>NaN</td>\n      <td>NaN</td>\n      <td>NaN</td>\n      <td>NaN</td>\n      <td>NaN</td>\n      <td>NaN</td>\n      <td>NaN</td>\n      <td>...</td>\n      <td>NaN</td>\n      <td>1</td>\n      <td>NaN</td>\n      <td>NaN</td>\n      <td>NaN</td>\n      <td>NaN</td>\n      <td>NaN</td>\n      <td>NaN</td>\n      <td>NaN</td>\n      <td>1</td>\n    </tr>\n    <tr>\n      <th>Michelle McFarland</th>\n      <td>NaN</td>\n      <td>NaN</td>\n      <td>NaN</td>\n      <td>NaN</td>\n      <td>NaN</td>\n      <td>NaN</td>\n      <td>NaN</td>\n      <td>NaN</td>\n      <td>NaN</td>\n      <td>NaN</td>\n      <td>...</td>\n      <td>NaN</td>\n      <td>NaN</td>\n      <td>NaN</td>\n      <td>NaN</td>\n      <td>0</td>\n      <td>NaN</td>\n      <td>NaN</td>\n      <td>1</td>\n      <td>1</td>\n      <td>NaN</td>\n    </tr>\n  </tbody>\n</table>\n<p>79 rows × 40 columns</p>\n</div>"
     },
     "metadata": {},
     "execution_count": 89
    }
   ],
   "source": [
    "# df_UCM with the average P/N score\n",
    "user_name = df_avg_score_top79users_and_top40comedians['Name']\n",
    "comedian_name = df_avg_score_top79users_and_top40comedians['Comedian']\n",
    "score = df_avg_score_top79users_and_top40comedians['P/N']\n",
    "for u,c,s in zip(user_name,comedian_name,score):\n",
    "    df_UCM.loc[u, c] = s\n",
    "df_UCM.to_pickle('./user_comedian_matrix_withPN.pkl')\n",
    "df_UCM"
   ]
  },
  {
   "cell_type": "code",
   "execution_count": null,
   "metadata": {},
   "outputs": [],
   "source": []
  },
  {
   "cell_type": "markdown",
   "metadata": {},
   "source": [
    "# df_UCM with the average original polarity score"
   ]
  },
  {
   "cell_type": "code",
   "execution_count": 90,
   "metadata": {},
   "outputs": [
    {
     "output_type": "execute_result",
     "data": {
      "text/plain": [
       "                                                   Ramy Youssef Andy Woodhull  \\\n",
       "A B                                                    0.191429           NaN   \n",
       "ADEDOTUN AKANDE                                             NaN         0.875   \n",
       "Anton Nym                                                   NaN       0.68099   \n",
       "Lydia Waweru-Morgan                                         NaN       -0.2375   \n",
       "Jennifer Bates                                              NaN      0.671875   \n",
       "...                                                         ...           ...   \n",
       "CamTheDestroyer                                             NaN           NaN   \n",
       "Jay Jay                                                     NaN           NaN   \n",
       "Cynthia Copland                                             NaN           NaN   \n",
       "Comedy Central Stand-Up\\n\\n\\n\\n      \\n    Come...          NaN           NaN   \n",
       "Michelle McFarland                                          NaN           NaN   \n",
       "\n",
       "                                                   Amy Schumer Arsenio Hall  \\\n",
       "A B                                                        NaN          NaN   \n",
       "ADEDOTUN AKANDE                                            NaN          NaN   \n",
       "Anton Nym                                                  NaN          NaN   \n",
       "Lydia Waweru-Morgan                                        NaN         0.65   \n",
       "Jennifer Bates                                             NaN          NaN   \n",
       "...                                                        ...          ...   \n",
       "CamTheDestroyer                                            NaN          NaN   \n",
       "Jay Jay                                                    NaN          NaN   \n",
       "Cynthia Copland                                            NaN          NaN   \n",
       "Comedy Central Stand-Up\\n\\n\\n\\n      \\n    Come...         NaN          NaN   \n",
       "Michelle McFarland                                         NaN          NaN   \n",
       "\n",
       "                                                   Aziz Ansari Bert Kreischer  \\\n",
       "A B                                                        NaN            NaN   \n",
       "ADEDOTUN AKANDE                                            NaN            NaN   \n",
       "Anton Nym                                                  NaN              0   \n",
       "Lydia Waweru-Morgan                                        NaN       0.488281   \n",
       "Jennifer Bates                                               0            NaN   \n",
       "...                                                        ...            ...   \n",
       "CamTheDestroyer                                            NaN            NaN   \n",
       "Jay Jay                                                    NaN            NaN   \n",
       "Cynthia Copland                                            NaN            NaN   \n",
       "Comedy Central Stand-Up\\n\\n\\n\\n      \\n    Come...         NaN            NaN   \n",
       "Michelle McFarland                                         NaN            NaN   \n",
       "\n",
       "                                                   Bill Burr Chris D'Elia  \\\n",
       "A B                                                      NaN            0   \n",
       "ADEDOTUN AKANDE                                          NaN          NaN   \n",
       "Anton Nym                                                NaN          NaN   \n",
       "Lydia Waweru-Morgan                                      NaN          NaN   \n",
       "Jennifer Bates                                           NaN          NaN   \n",
       "...                                                      ...          ...   \n",
       "CamTheDestroyer                                          NaN          NaN   \n",
       "Jay Jay                                                  NaN          NaN   \n",
       "Cynthia Copland                                          NaN          NaN   \n",
       "Comedy Central Stand-Up\\n\\n\\n\\n      \\n    Come...       NaN          NaN   \n",
       "Michelle McFarland                                       NaN          NaN   \n",
       "\n",
       "                                                   Chris Rock Dave Chappelle  \\\n",
       "A B                                                       NaN            NaN   \n",
       "ADEDOTUN AKANDE                                           NaN            NaN   \n",
       "Anton Nym                                                   0            NaN   \n",
       "Lydia Waweru-Morgan                                       NaN            NaN   \n",
       "Jennifer Bates                                            NaN            NaN   \n",
       "...                                                       ...            ...   \n",
       "CamTheDestroyer                                           NaN            NaN   \n",
       "Jay Jay                                                   NaN            NaN   \n",
       "Cynthia Copland                                           NaN            NaN   \n",
       "Comedy Central Stand-Up\\n\\n\\n\\n      \\n    Come...        NaN            NaN   \n",
       "Michelle McFarland                                        NaN            NaN   \n",
       "\n",
       "                                                    ... Ronny Chieng  \\\n",
       "A B                                                 ...          NaN   \n",
       "ADEDOTUN AKANDE                                     ...          NaN   \n",
       "Anton Nym                                           ...          NaN   \n",
       "Lydia Waweru-Morgan                                 ...          NaN   \n",
       "Jennifer Bates                                      ...          NaN   \n",
       "...                                                 ...          ...   \n",
       "CamTheDestroyer                                     ...    0.0333333   \n",
       "Jay Jay                                             ...        0.155   \n",
       "Cynthia Copland                                     ...          NaN   \n",
       "Comedy Central Stand-Up\\n\\n\\n\\n      \\n    Come...  ...          NaN   \n",
       "Michelle McFarland                                  ...          NaN   \n",
       "\n",
       "                                                   Roy Wood Jr.  \\\n",
       "A B                                                         NaN   \n",
       "ADEDOTUN AKANDE                                             0.4   \n",
       "Anton Nym                                                   NaN   \n",
       "Lydia Waweru-Morgan                                         NaN   \n",
       "Jennifer Bates                                              NaN   \n",
       "...                                                         ...   \n",
       "CamTheDestroyer                                             NaN   \n",
       "Jay Jay                                                     NaN   \n",
       "Cynthia Copland                                             NaN   \n",
       "Comedy Central Stand-Up\\n\\n\\n\\n      \\n    Come...     0.268182   \n",
       "Michelle McFarland                                          NaN   \n",
       "\n",
       "                                                   Russell Peters  \\\n",
       "A B                                                           NaN   \n",
       "ADEDOTUN AKANDE                                               NaN   \n",
       "Anton Nym                                                     NaN   \n",
       "Lydia Waweru-Morgan                                           NaN   \n",
       "Jennifer Bates                                                NaN   \n",
       "...                                                           ...   \n",
       "CamTheDestroyer                                               NaN   \n",
       "Jay Jay                                                       NaN   \n",
       "Cynthia Copland                                               NaN   \n",
       "Comedy Central Stand-Up\\n\\n\\n\\n      \\n    Come...            NaN   \n",
       "Michelle McFarland                                            NaN   \n",
       "\n",
       "                                                   Sebastian Maniscalco  \\\n",
       "A B                                                                 NaN   \n",
       "ADEDOTUN AKANDE                                                 -0.1625   \n",
       "Anton Nym                                                           NaN   \n",
       "Lydia Waweru-Morgan                                                 NaN   \n",
       "Jennifer Bates                                                      NaN   \n",
       "...                                                                 ...   \n",
       "CamTheDestroyer                                                     NaN   \n",
       "Jay Jay                                                             NaN   \n",
       "Cynthia Copland                                                     NaN   \n",
       "Comedy Central Stand-Up\\n\\n\\n\\n      \\n    Come...                  NaN   \n",
       "Michelle McFarland                                                  NaN   \n",
       "\n",
       "                                                   Tiffany Haddish Tom Segura  \\\n",
       "A B                                                            NaN        NaN   \n",
       "ADEDOTUN AKANDE                                                NaN        NaN   \n",
       "Anton Nym                                                      NaN        NaN   \n",
       "Lydia Waweru-Morgan                                            NaN        NaN   \n",
       "Jennifer Bates                                                 NaN        NaN   \n",
       "...                                                            ...        ...   \n",
       "CamTheDestroyer                                                NaN        NaN   \n",
       "Jay Jay                                                        NaN        0.8   \n",
       "Cynthia Copland                                               -0.3        NaN   \n",
       "Comedy Central Stand-Up\\n\\n\\n\\n      \\n    Come...             NaN        NaN   \n",
       "Michelle McFarland                                               0        NaN   \n",
       "\n",
       "                                                   Trevor Noah Urzila Carlson  \\\n",
       "A B                                                        NaN            NaN   \n",
       "ADEDOTUN AKANDE                                            NaN            NaN   \n",
       "Anton Nym                                                  NaN            NaN   \n",
       "Lydia Waweru-Morgan                                        NaN            NaN   \n",
       "Jennifer Bates                                             NaN            NaN   \n",
       "...                                                        ...            ...   \n",
       "CamTheDestroyer                                            NaN            NaN   \n",
       "Jay Jay                                                    NaN            NaN   \n",
       "Cynthia Copland                                            NaN            NaN   \n",
       "Comedy Central Stand-Up\\n\\n\\n\\n      \\n    Come...         NaN            NaN   \n",
       "Michelle McFarland                                         NaN              1   \n",
       "\n",
       "                                                     Vir Das Whitney Cummings  \n",
       "A B                                                        0              NaN  \n",
       "ADEDOTUN AKANDE                                          NaN              NaN  \n",
       "Anton Nym                                                NaN              NaN  \n",
       "Lydia Waweru-Morgan                                      NaN              NaN  \n",
       "Jennifer Bates                                           NaN              NaN  \n",
       "...                                                      ...              ...  \n",
       "CamTheDestroyer                                          NaN              NaN  \n",
       "Jay Jay                                                  NaN              NaN  \n",
       "Cynthia Copland                                          NaN              NaN  \n",
       "Comedy Central Stand-Up\\n\\n\\n\\n      \\n    Come...       NaN              0.5  \n",
       "Michelle McFarland                                  0.446429              NaN  \n",
       "\n",
       "[79 rows x 40 columns]"
      ],
      "text/html": "<div>\n<style scoped>\n    .dataframe tbody tr th:only-of-type {\n        vertical-align: middle;\n    }\n\n    .dataframe tbody tr th {\n        vertical-align: top;\n    }\n\n    .dataframe thead th {\n        text-align: right;\n    }\n</style>\n<table border=\"1\" class=\"dataframe\">\n  <thead>\n    <tr style=\"text-align: right;\">\n      <th></th>\n      <th>Ramy Youssef</th>\n      <th>Andy Woodhull</th>\n      <th>Amy Schumer</th>\n      <th>Arsenio Hall</th>\n      <th>Aziz Ansari</th>\n      <th>Bert Kreischer</th>\n      <th>Bill Burr</th>\n      <th>Chris D'Elia</th>\n      <th>Chris Rock</th>\n      <th>Dave Chappelle</th>\n      <th>...</th>\n      <th>Ronny Chieng</th>\n      <th>Roy Wood Jr.</th>\n      <th>Russell Peters</th>\n      <th>Sebastian Maniscalco</th>\n      <th>Tiffany Haddish</th>\n      <th>Tom Segura</th>\n      <th>Trevor Noah</th>\n      <th>Urzila Carlson</th>\n      <th>Vir Das</th>\n      <th>Whitney Cummings</th>\n    </tr>\n  </thead>\n  <tbody>\n    <tr>\n      <th>A B</th>\n      <td>0.191429</td>\n      <td>NaN</td>\n      <td>NaN</td>\n      <td>NaN</td>\n      <td>NaN</td>\n      <td>NaN</td>\n      <td>NaN</td>\n      <td>0</td>\n      <td>NaN</td>\n      <td>NaN</td>\n      <td>...</td>\n      <td>NaN</td>\n      <td>NaN</td>\n      <td>NaN</td>\n      <td>NaN</td>\n      <td>NaN</td>\n      <td>NaN</td>\n      <td>NaN</td>\n      <td>NaN</td>\n      <td>0</td>\n      <td>NaN</td>\n    </tr>\n    <tr>\n      <th>ADEDOTUN AKANDE</th>\n      <td>NaN</td>\n      <td>0.875</td>\n      <td>NaN</td>\n      <td>NaN</td>\n      <td>NaN</td>\n      <td>NaN</td>\n      <td>NaN</td>\n      <td>NaN</td>\n      <td>NaN</td>\n      <td>NaN</td>\n      <td>...</td>\n      <td>NaN</td>\n      <td>0.4</td>\n      <td>NaN</td>\n      <td>-0.1625</td>\n      <td>NaN</td>\n      <td>NaN</td>\n      <td>NaN</td>\n      <td>NaN</td>\n      <td>NaN</td>\n      <td>NaN</td>\n    </tr>\n    <tr>\n      <th>Anton Nym</th>\n      <td>NaN</td>\n      <td>0.68099</td>\n      <td>NaN</td>\n      <td>NaN</td>\n      <td>NaN</td>\n      <td>0</td>\n      <td>NaN</td>\n      <td>NaN</td>\n      <td>0</td>\n      <td>NaN</td>\n      <td>...</td>\n      <td>NaN</td>\n      <td>NaN</td>\n      <td>NaN</td>\n      <td>NaN</td>\n      <td>NaN</td>\n      <td>NaN</td>\n      <td>NaN</td>\n      <td>NaN</td>\n      <td>NaN</td>\n      <td>NaN</td>\n    </tr>\n    <tr>\n      <th>Lydia Waweru-Morgan</th>\n      <td>NaN</td>\n      <td>-0.2375</td>\n      <td>NaN</td>\n      <td>0.65</td>\n      <td>NaN</td>\n      <td>0.488281</td>\n      <td>NaN</td>\n      <td>NaN</td>\n      <td>NaN</td>\n      <td>NaN</td>\n      <td>...</td>\n      <td>NaN</td>\n      <td>NaN</td>\n      <td>NaN</td>\n      <td>NaN</td>\n      <td>NaN</td>\n      <td>NaN</td>\n      <td>NaN</td>\n      <td>NaN</td>\n      <td>NaN</td>\n      <td>NaN</td>\n    </tr>\n    <tr>\n      <th>Jennifer Bates</th>\n      <td>NaN</td>\n      <td>0.671875</td>\n      <td>NaN</td>\n      <td>NaN</td>\n      <td>0</td>\n      <td>NaN</td>\n      <td>NaN</td>\n      <td>NaN</td>\n      <td>NaN</td>\n      <td>NaN</td>\n      <td>...</td>\n      <td>NaN</td>\n      <td>NaN</td>\n      <td>NaN</td>\n      <td>NaN</td>\n      <td>NaN</td>\n      <td>NaN</td>\n      <td>NaN</td>\n      <td>NaN</td>\n      <td>NaN</td>\n      <td>NaN</td>\n    </tr>\n    <tr>\n      <th>...</th>\n      <td>...</td>\n      <td>...</td>\n      <td>...</td>\n      <td>...</td>\n      <td>...</td>\n      <td>...</td>\n      <td>...</td>\n      <td>...</td>\n      <td>...</td>\n      <td>...</td>\n      <td>...</td>\n      <td>...</td>\n      <td>...</td>\n      <td>...</td>\n      <td>...</td>\n      <td>...</td>\n      <td>...</td>\n      <td>...</td>\n      <td>...</td>\n      <td>...</td>\n      <td>...</td>\n    </tr>\n    <tr>\n      <th>CamTheDestroyer</th>\n      <td>NaN</td>\n      <td>NaN</td>\n      <td>NaN</td>\n      <td>NaN</td>\n      <td>NaN</td>\n      <td>NaN</td>\n      <td>NaN</td>\n      <td>NaN</td>\n      <td>NaN</td>\n      <td>NaN</td>\n      <td>...</td>\n      <td>0.0333333</td>\n      <td>NaN</td>\n      <td>NaN</td>\n      <td>NaN</td>\n      <td>NaN</td>\n      <td>NaN</td>\n      <td>NaN</td>\n      <td>NaN</td>\n      <td>NaN</td>\n      <td>NaN</td>\n    </tr>\n    <tr>\n      <th>Jay Jay</th>\n      <td>NaN</td>\n      <td>NaN</td>\n      <td>NaN</td>\n      <td>NaN</td>\n      <td>NaN</td>\n      <td>NaN</td>\n      <td>NaN</td>\n      <td>NaN</td>\n      <td>NaN</td>\n      <td>NaN</td>\n      <td>...</td>\n      <td>0.155</td>\n      <td>NaN</td>\n      <td>NaN</td>\n      <td>NaN</td>\n      <td>NaN</td>\n      <td>0.8</td>\n      <td>NaN</td>\n      <td>NaN</td>\n      <td>NaN</td>\n      <td>NaN</td>\n    </tr>\n    <tr>\n      <th>Cynthia Copland</th>\n      <td>NaN</td>\n      <td>NaN</td>\n      <td>NaN</td>\n      <td>NaN</td>\n      <td>NaN</td>\n      <td>NaN</td>\n      <td>NaN</td>\n      <td>NaN</td>\n      <td>NaN</td>\n      <td>NaN</td>\n      <td>...</td>\n      <td>NaN</td>\n      <td>NaN</td>\n      <td>NaN</td>\n      <td>NaN</td>\n      <td>-0.3</td>\n      <td>NaN</td>\n      <td>NaN</td>\n      <td>NaN</td>\n      <td>NaN</td>\n      <td>NaN</td>\n    </tr>\n    <tr>\n      <th>Comedy Central Stand-Up\\n\\n\\n\\n      \\n    Comedy Central Stand-Up</th>\n      <td>NaN</td>\n      <td>NaN</td>\n      <td>NaN</td>\n      <td>NaN</td>\n      <td>NaN</td>\n      <td>NaN</td>\n      <td>NaN</td>\n      <td>NaN</td>\n      <td>NaN</td>\n      <td>NaN</td>\n      <td>...</td>\n      <td>NaN</td>\n      <td>0.268182</td>\n      <td>NaN</td>\n      <td>NaN</td>\n      <td>NaN</td>\n      <td>NaN</td>\n      <td>NaN</td>\n      <td>NaN</td>\n      <td>NaN</td>\n      <td>0.5</td>\n    </tr>\n    <tr>\n      <th>Michelle McFarland</th>\n      <td>NaN</td>\n      <td>NaN</td>\n      <td>NaN</td>\n      <td>NaN</td>\n      <td>NaN</td>\n      <td>NaN</td>\n      <td>NaN</td>\n      <td>NaN</td>\n      <td>NaN</td>\n      <td>NaN</td>\n      <td>...</td>\n      <td>NaN</td>\n      <td>NaN</td>\n      <td>NaN</td>\n      <td>NaN</td>\n      <td>0</td>\n      <td>NaN</td>\n      <td>NaN</td>\n      <td>1</td>\n      <td>0.446429</td>\n      <td>NaN</td>\n    </tr>\n  </tbody>\n</table>\n<p>79 rows × 40 columns</p>\n</div>"
     },
     "metadata": {},
     "execution_count": 90
    }
   ],
   "source": [
    "# df_UCM with the average Polarity score\n",
    "user_name = df_avg_score_top79users_and_top40comedians['Name']\n",
    "comedian_name = df_avg_score_top79users_and_top40comedians['Comedian']\n",
    "score = df_avg_score_top79users_and_top40comedians['Polarity']\n",
    "for u,c,s in zip(user_name,comedian_name,score):\n",
    "    df_UCM.loc[u, c] = s\n",
    "df_UCM.to_pickle('./user_comedian_matrix_OriginalPolarity.pkl')\n",
    "df_UCM    "
   ]
  },
  {
   "cell_type": "code",
   "execution_count": null,
   "metadata": {},
   "outputs": [],
   "source": []
  },
  {
   "cell_type": "code",
   "execution_count": 1,
   "metadata": {},
   "outputs": [
    {
     "output_type": "error",
     "ename": "NameError",
     "evalue": "name 'pd' is not defined",
     "traceback": [
      "\u001b[0;31m---------------------------------------------------------------------------\u001b[0m",
      "\u001b[0;31mNameError\u001b[0m                                 Traceback (most recent call last)",
      "\u001b[0;32m<ipython-input-1-62edc09da89e>\u001b[0m in \u001b[0;36m<module>\u001b[0;34m\u001b[0m\n\u001b[0;32m----> 1\u001b[0;31m \u001b[0mtest\u001b[0m \u001b[0;34m=\u001b[0m \u001b[0mpd\u001b[0m\u001b[0;34m.\u001b[0m\u001b[0mread_pickle\u001b[0m\u001b[0;34m(\u001b[0m\u001b[0;34m'./user_comedian_matrix_OriginalPolarity.pkl'\u001b[0m\u001b[0;34m)\u001b[0m\u001b[0;34m\u001b[0m\u001b[0;34m\u001b[0m\u001b[0m\n\u001b[0m\u001b[1;32m      2\u001b[0m \u001b[0mtest\u001b[0m\u001b[0;34m\u001b[0m\u001b[0;34m\u001b[0m\u001b[0m\n",
      "\u001b[0;31mNameError\u001b[0m: name 'pd' is not defined"
     ]
    }
   ],
   "source": [
    "test = pd.read_pickle('./user_comedian_matrix_OriginalPolarity.pkl')\n",
    "test"
   ]
  },
  {
   "cell_type": "code",
   "execution_count": null,
   "metadata": {},
   "outputs": [],
   "source": []
  }
 ],
 "metadata": {
  "kernelspec": {
   "display_name": "Python 3",
   "language": "python",
   "name": "python3"
  },
  "language_info": {
   "codemirror_mode": {
    "name": "ipython",
    "version": 3
   },
   "file_extension": ".py",
   "mimetype": "text/x-python",
   "name": "python",
   "nbconvert_exporter": "python",
   "pygments_lexer": "ipython3",
   "version": "3.6.8-final"
  }
 },
 "nbformat": 4,
 "nbformat_minor": 2
}