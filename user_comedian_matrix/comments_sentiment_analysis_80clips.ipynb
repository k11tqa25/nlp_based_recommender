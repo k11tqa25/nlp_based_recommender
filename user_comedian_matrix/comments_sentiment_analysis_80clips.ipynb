{
 "cells": [
  {
   "cell_type": "code",
   "execution_count": 45,
   "metadata": {},
   "outputs": [
    {
     "name": "stdout",
     "output_type": "stream",
     "text": "Collecting openpyxl\n  Downloading openpyxl-3.0.5-py2.py3-none-any.whl (242 kB)\n\u001b[K     |████████████████████████████████| 242 kB 1.6 MB/s \n\u001b[?25hCollecting jdcal\n  Using cached jdcal-1.4.1-py2.py3-none-any.whl (9.5 kB)\nCollecting et-xmlfile\n  Using cached et_xmlfile-1.0.1.tar.gz (8.4 kB)\nBuilding wheels for collected packages: et-xmlfile\n  Building wheel for et-xmlfile (setup.py) ... \u001b[?25ldone\n\u001b[?25h  Created wheel for et-xmlfile: filename=et_xmlfile-1.0.1-py3-none-any.whl size=8914 sha256=b5d00ba7b1120013699ee4be58983fc733e111b468057f5d9db4105f9ecd2064\n  Stored in directory: /Users/leo/Library/Caches/pip/wheels/ef/92/e0/956c00decf3091294b8800d9104f6169a1adacfaafd122ed42\nSuccessfully built et-xmlfile\nInstalling collected packages: jdcal, et-xmlfile, openpyxl\nSuccessfully installed et-xmlfile-1.0.1 jdcal-1.4.1 openpyxl-3.0.5\n"
    }
   ],
   "source": [
    "# ! pip3 install xlrd\n",
    "# ! pip3 install textblob\n",
    "! pip3 install openpyxl"
   ]
  },
  {
   "cell_type": "code",
   "execution_count": 135,
   "metadata": {},
   "outputs": [],
   "source": [
    "import numpy as np\n",
    "import pandas as pd\n",
    "import matplotlib.pyplot as plt\n",
    "from textblob import TextBlob as tb # Sentiment analysis"
   ]
  },
  {
   "cell_type": "code",
   "execution_count": 136,
   "metadata": {},
   "outputs": [],
   "source": [
    "# print(tb('black').sentiment.polarity)\n",
    "# print(tb('Welcome to the new Comedy Central Stand-Up YouTube channel! Hit subscribe for new, exclusive stand-up videos every week.').sentiment.polarity)"
   ]
  },
  {
   "cell_type": "code",
   "execution_count": 137,
   "metadata": {},
   "outputs": [],
   "source": [
    "df_webapage = pd.read_pickle('./scrape_result_80.pkl')"
   ]
  },
  {
   "cell_type": "code",
   "execution_count": 138,
   "metadata": {},
   "outputs": [],
   "source": [
    "# dd = df_webapage\n",
    "# dd['idx'] = dd['Name'].str.find('Central') \n",
    "# dd2 = dd[dd['idx']!=-1]\n",
    "# dd2"
   ]
  },
  {
   "cell_type": "code",
   "execution_count": 139,
   "metadata": {},
   "outputs": [
    {
     "data": {
      "text/html": "<div>\n<style scoped>\n    .dataframe tbody tr th:only-of-type {\n        vertical-align: middle;\n    }\n\n    .dataframe tbody tr th {\n        vertical-align: top;\n    }\n\n    .dataframe thead th {\n        text-align: right;\n    }\n</style>\n<table border=\"1\" class=\"dataframe\">\n  <thead>\n    <tr style=\"text-align: right;\">\n      <th></th>\n      <th>count</th>\n    </tr>\n    <tr>\n      <th>Name</th>\n      <th></th>\n    </tr>\n  </thead>\n  <tbody>\n    <tr>\n      <th>whitepride1004</th>\n      <td>31</td>\n    </tr>\n    <tr>\n      <th>Sumukh</th>\n      <td>7</td>\n    </tr>\n    <tr>\n      <th>Michael</th>\n      <td>6</td>\n    </tr>\n    <tr>\n      <th>Green Envy</th>\n      <td>6</td>\n    </tr>\n    <tr>\n      <th>Audrey New</th>\n      <td>6</td>\n    </tr>\n    <tr>\n      <th>...</th>\n      <td>...</td>\n    </tr>\n    <tr>\n      <th>Bi- Han</th>\n      <td>3</td>\n    </tr>\n    <tr>\n      <th>Lydia Waweru-Morgan</th>\n      <td>3</td>\n    </tr>\n    <tr>\n      <th>James Bond</th>\n      <td>3</td>\n    </tr>\n    <tr>\n      <th>ADEDOTUN AKANDE</th>\n      <td>3</td>\n    </tr>\n    <tr>\n      <th>Xitsundzuxo Himina</th>\n      <td>3</td>\n    </tr>\n  </tbody>\n</table>\n<p>100 rows × 1 columns</p>\n</div>",
      "text/plain": "                     count\nName                      \nwhitepride1004          31\nSumukh                   7\nMichael                  6\nGreen Envy               6\nAudrey New               6\n...                    ...\nBi- Han                  3\nLydia Waweru-Morgan      3\nJames Bond               3\nADEDOTUN AKANDE          3\nXitsundzuxo Himina       3\n\n[100 rows x 1 columns]"
     },
     "execution_count": 139,
     "metadata": {},
     "output_type": "execute_result"
    }
   ],
   "source": [
    "df_name = df_webapage.groupby([\"Name\"], sort=True).agg(['count']).Title.sort_values('count', ascending=False)\n",
    "df_name.head(100)"
   ]
  },
  {
   "cell_type": "code",
   "execution_count": 140,
   "metadata": {},
   "outputs": [
    {
     "data": {
      "text/html": "<div>\n<style scoped>\n    .dataframe tbody tr th:only-of-type {\n        vertical-align: middle;\n    }\n\n    .dataframe tbody tr th {\n        vertical-align: top;\n    }\n\n    .dataframe thead th {\n        text-align: right;\n    }\n</style>\n<table border=\"1\" class=\"dataframe\">\n  <thead>\n    <tr style=\"text-align: right;\">\n      <th></th>\n      <th>Title</th>\n      <th>Name</th>\n      <th>Comment</th>\n      <th>Polarity</th>\n      <th>Subjectivity</th>\n    </tr>\n  </thead>\n  <tbody>\n    <tr>\n      <th>0</th>\n      <td>Ramy Youssef: Feelings (2019) | Why Do They Ma...</td>\n      <td>Kenza B.</td>\n      <td>He touched something really deep, first he ddn...</td>\n      <td>-0.137500</td>\n      <td>0.547917</td>\n    </tr>\n    <tr>\n      <th>1</th>\n      <td>Ramy Youssef: Feelings (2019) | Why Do They Ma...</td>\n      <td>LMivha</td>\n      <td>How this man got his point across is absolute ...</td>\n      <td>0.200000</td>\n      <td>0.900000</td>\n    </tr>\n    <tr>\n      <th>2</th>\n      <td>Ramy Youssef: Feelings (2019) | Why Do They Ma...</td>\n      <td>Marissa Urias</td>\n      <td>Wow, people in the comments really don't get t...</td>\n      <td>0.160000</td>\n      <td>0.365000</td>\n    </tr>\n    <tr>\n      <th>3</th>\n      <td>Ramy Youssef: Feelings (2019) | Why Do They Ma...</td>\n      <td>Riaz Uddin</td>\n      <td>This is what I tell people all the time, just ...</td>\n      <td>-0.406250</td>\n      <td>0.793750</td>\n    </tr>\n    <tr>\n      <th>4</th>\n      <td>Ramy Youssef: Feelings (2019) | Why Do They Ma...</td>\n      <td>Shannon dobbs</td>\n      <td>They don't ask NUNS THAT! 🙄</td>\n      <td>0.000000</td>\n      <td>0.000000</td>\n    </tr>\n    <tr>\n      <th>...</th>\n      <td>...</td>\n      <td>...</td>\n      <td>...</td>\n      <td>...</td>\n      <td>...</td>\n    </tr>\n    <tr>\n      <th>17748</th>\n      <td>Black Music Tells You Everything You Need to K...</td>\n      <td>357 Magnum</td>\n      <td>I'm guessing he doesn't live in a colorblind w...</td>\n      <td>-0.243434</td>\n      <td>0.533333</td>\n    </tr>\n    <tr>\n      <th>17749</th>\n      <td>Black Music Tells You Everything You Need to K...</td>\n      <td>Erin James</td>\n      <td>Then leave my dear friend. Youve been free for...</td>\n      <td>-0.237500</td>\n      <td>0.733333</td>\n    </tr>\n    <tr>\n      <th>17750</th>\n      <td>Black Music Tells You Everything You Need to K...</td>\n      <td>I'm black So I'm slow</td>\n      <td>We didn't create the blue's!... We didn't crea...</td>\n      <td>0.000000</td>\n      <td>0.100000</td>\n    </tr>\n    <tr>\n      <th>17751</th>\n      <td>Black Music Tells You Everything You Need to K...</td>\n      <td>ralph salotto</td>\n      <td>Now that you mention it he's right, the Blues ...</td>\n      <td>0.361905</td>\n      <td>0.511905</td>\n    </tr>\n    <tr>\n      <th>17752</th>\n      <td>Black Music Tells You Everything You Need to K...</td>\n      <td>Garbanzo Beans</td>\n      <td>Far more black people have migrated to the US ...</td>\n      <td>0.130952</td>\n      <td>0.595238</td>\n    </tr>\n  </tbody>\n</table>\n<p>17753 rows × 5 columns</p>\n</div>",
      "text/plain": "                                                   Title  \\\n0      Ramy Youssef: Feelings (2019) | Why Do They Ma...   \n1      Ramy Youssef: Feelings (2019) | Why Do They Ma...   \n2      Ramy Youssef: Feelings (2019) | Why Do They Ma...   \n3      Ramy Youssef: Feelings (2019) | Why Do They Ma...   \n4      Ramy Youssef: Feelings (2019) | Why Do They Ma...   \n...                                                  ...   \n17748  Black Music Tells You Everything You Need to K...   \n17749  Black Music Tells You Everything You Need to K...   \n17750  Black Music Tells You Everything You Need to K...   \n17751  Black Music Tells You Everything You Need to K...   \n17752  Black Music Tells You Everything You Need to K...   \n\n                        Name  \\\n0                   Kenza B.   \n1                     LMivha   \n2              Marissa Urias   \n3                 Riaz Uddin   \n4              Shannon dobbs   \n...                      ...   \n17748             357 Magnum   \n17749             Erin James   \n17750  I'm black So I'm slow   \n17751          ralph salotto   \n17752         Garbanzo Beans   \n\n                                                 Comment  Polarity  \\\n0      He touched something really deep, first he ddn... -0.137500   \n1      How this man got his point across is absolute ...  0.200000   \n2      Wow, people in the comments really don't get t...  0.160000   \n3      This is what I tell people all the time, just ... -0.406250   \n4                            They don't ask NUNS THAT! 🙄  0.000000   \n...                                                  ...       ...   \n17748  I'm guessing he doesn't live in a colorblind w... -0.243434   \n17749  Then leave my dear friend. Youve been free for... -0.237500   \n17750  We didn't create the blue's!... We didn't crea...  0.000000   \n17751  Now that you mention it he's right, the Blues ...  0.361905   \n17752  Far more black people have migrated to the US ...  0.130952   \n\n       Subjectivity  \n0          0.547917  \n1          0.900000  \n2          0.365000  \n3          0.793750  \n4          0.000000  \n...             ...  \n17748      0.533333  \n17749      0.733333  \n17750      0.100000  \n17751      0.511905  \n17752      0.595238  \n\n[17753 rows x 5 columns]"
     },
     "execution_count": 140,
     "metadata": {},
     "output_type": "execute_result"
    }
   ],
   "source": [
    "pol = lambda x: tb(x).sentiment.polarity\n",
    "sub = lambda x: tb(x).sentiment.subjectivity\n",
    "\n",
    "data_SA = pd.DataFrame()\n",
    "data_SA['Title'] = df_webapage['Title']\n",
    "data_SA['Name'] = df_webapage['Name']\n",
    "data_SA['Comment'] = df_webapage['Comment']\n",
    "data_SA['Polarity'] = df_webapage['Comment'].apply(pol)\n",
    "data_SA['Subjectivity'] = df_webapage['Comment'].apply(sub)\n",
    "data_SA"
   ]
  },
  {
   "cell_type": "code",
   "execution_count": 141,
   "metadata": {},
   "outputs": [],
   "source": [
    "# data_SA['Comment'][17750]"
   ]
  },
  {
   "cell_type": "code",
   "execution_count": 197,
   "metadata": {},
   "outputs": [
    {
     "data": {
      "text/html": "<div>\n<style scoped>\n    .dataframe tbody tr th:only-of-type {\n        vertical-align: middle;\n    }\n\n    .dataframe tbody tr th {\n        vertical-align: top;\n    }\n\n    .dataframe thead th {\n        text-align: right;\n    }\n</style>\n<table border=\"1\" class=\"dataframe\">\n  <thead>\n    <tr style=\"text-align: right;\">\n      <th></th>\n      <th>Title</th>\n      <th>Name</th>\n      <th>Comment</th>\n      <th>Polarity</th>\n      <th>Subjectivity</th>\n      <th>P/N</th>\n    </tr>\n  </thead>\n  <tbody>\n    <tr>\n      <th>0</th>\n      <td>Ramy Youssef: Feelings (2019) | Why Do They Ma...</td>\n      <td>Kenza B.</td>\n      <td>He touched something really deep, first he ddn...</td>\n      <td>-0.137500</td>\n      <td>0.547917</td>\n      <td>-1.0</td>\n    </tr>\n    <tr>\n      <th>1</th>\n      <td>Ramy Youssef: Feelings (2019) | Why Do They Ma...</td>\n      <td>LMivha</td>\n      <td>How this man got his point across is absolute ...</td>\n      <td>0.200000</td>\n      <td>0.900000</td>\n      <td>1.0</td>\n    </tr>\n    <tr>\n      <th>2</th>\n      <td>Ramy Youssef: Feelings (2019) | Why Do They Ma...</td>\n      <td>Marissa Urias</td>\n      <td>Wow, people in the comments really don't get t...</td>\n      <td>0.160000</td>\n      <td>0.365000</td>\n      <td>1.0</td>\n    </tr>\n    <tr>\n      <th>3</th>\n      <td>Ramy Youssef: Feelings (2019) | Why Do They Ma...</td>\n      <td>Riaz Uddin</td>\n      <td>This is what I tell people all the time, just ...</td>\n      <td>-0.406250</td>\n      <td>0.793750</td>\n      <td>-1.0</td>\n    </tr>\n    <tr>\n      <th>4</th>\n      <td>Ramy Youssef: Feelings (2019) | Why Do They Ma...</td>\n      <td>Shannon dobbs</td>\n      <td>They don't ask NUNS THAT! 🙄</td>\n      <td>0.000000</td>\n      <td>0.000000</td>\n      <td>0.0</td>\n    </tr>\n    <tr>\n      <th>...</th>\n      <td>...</td>\n      <td>...</td>\n      <td>...</td>\n      <td>...</td>\n      <td>...</td>\n      <td>...</td>\n    </tr>\n    <tr>\n      <th>17748</th>\n      <td>Black Music Tells You Everything You Need to K...</td>\n      <td>357 Magnum</td>\n      <td>I'm guessing he doesn't live in a colorblind w...</td>\n      <td>-0.243434</td>\n      <td>0.533333</td>\n      <td>-1.0</td>\n    </tr>\n    <tr>\n      <th>17749</th>\n      <td>Black Music Tells You Everything You Need to K...</td>\n      <td>Erin James</td>\n      <td>Then leave my dear friend. Youve been free for...</td>\n      <td>-0.237500</td>\n      <td>0.733333</td>\n      <td>-1.0</td>\n    </tr>\n    <tr>\n      <th>17750</th>\n      <td>Black Music Tells You Everything You Need to K...</td>\n      <td>I'm black So I'm slow</td>\n      <td>We didn't create the blue's!... We didn't crea...</td>\n      <td>0.000000</td>\n      <td>0.100000</td>\n      <td>0.0</td>\n    </tr>\n    <tr>\n      <th>17751</th>\n      <td>Black Music Tells You Everything You Need to K...</td>\n      <td>ralph salotto</td>\n      <td>Now that you mention it he's right, the Blues ...</td>\n      <td>0.361905</td>\n      <td>0.511905</td>\n      <td>1.0</td>\n    </tr>\n    <tr>\n      <th>17752</th>\n      <td>Black Music Tells You Everything You Need to K...</td>\n      <td>Garbanzo Beans</td>\n      <td>Far more black people have migrated to the US ...</td>\n      <td>0.130952</td>\n      <td>0.595238</td>\n      <td>1.0</td>\n    </tr>\n  </tbody>\n</table>\n<p>17753 rows × 6 columns</p>\n</div>",
      "text/plain": "                                                   Title  \\\n0      Ramy Youssef: Feelings (2019) | Why Do They Ma...   \n1      Ramy Youssef: Feelings (2019) | Why Do They Ma...   \n2      Ramy Youssef: Feelings (2019) | Why Do They Ma...   \n3      Ramy Youssef: Feelings (2019) | Why Do They Ma...   \n4      Ramy Youssef: Feelings (2019) | Why Do They Ma...   \n...                                                  ...   \n17748  Black Music Tells You Everything You Need to K...   \n17749  Black Music Tells You Everything You Need to K...   \n17750  Black Music Tells You Everything You Need to K...   \n17751  Black Music Tells You Everything You Need to K...   \n17752  Black Music Tells You Everything You Need to K...   \n\n                        Name  \\\n0                   Kenza B.   \n1                     LMivha   \n2              Marissa Urias   \n3                 Riaz Uddin   \n4              Shannon dobbs   \n...                      ...   \n17748             357 Magnum   \n17749             Erin James   \n17750  I'm black So I'm slow   \n17751          ralph salotto   \n17752         Garbanzo Beans   \n\n                                                 Comment  Polarity  \\\n0      He touched something really deep, first he ddn... -0.137500   \n1      How this man got his point across is absolute ...  0.200000   \n2      Wow, people in the comments really don't get t...  0.160000   \n3      This is what I tell people all the time, just ... -0.406250   \n4                            They don't ask NUNS THAT! 🙄  0.000000   \n...                                                  ...       ...   \n17748  I'm guessing he doesn't live in a colorblind w... -0.243434   \n17749  Then leave my dear friend. Youve been free for... -0.237500   \n17750  We didn't create the blue's!... We didn't crea...  0.000000   \n17751  Now that you mention it he's right, the Blues ...  0.361905   \n17752  Far more black people have migrated to the US ...  0.130952   \n\n       Subjectivity  P/N  \n0          0.547917 -1.0  \n1          0.900000  1.0  \n2          0.365000  1.0  \n3          0.793750 -1.0  \n4          0.000000  0.0  \n...             ...  ...  \n17748      0.533333 -1.0  \n17749      0.733333 -1.0  \n17750      0.100000  0.0  \n17751      0.511905  1.0  \n17752      0.595238  1.0  \n\n[17753 rows x 6 columns]"
     },
     "execution_count": 197,
     "metadata": {},
     "output_type": "execute_result"
    }
   ],
   "source": [
    "PorN = lambda x: x*0 if x==0 else (x*(1/x) if x>0 else x*(-1/x))\n",
    "data_SA['P/N'] = data_SA['Polarity'].apply(PorN)\n",
    "data_SA"
   ]
  },
  {
   "cell_type": "code",
   "execution_count": null,
   "metadata": {},
   "outputs": [],
   "source": []
  },
  {
   "cell_type": "code",
   "execution_count": null,
   "metadata": {},
   "outputs": [],
   "source": []
  },
  {
   "cell_type": "code",
   "execution_count": 56,
   "metadata": {},
   "outputs": [],
   "source": [
    "# data_SA[data_SA['P/N']==1].groupby(['Title']).count()"
   ]
  },
  {
   "cell_type": "code",
   "execution_count": 143,
   "metadata": {},
   "outputs": [],
   "source": [
    "# data_SA[data_SA['P/N']==-1].groupby(['Title']).count().head()"
   ]
  },
  {
   "cell_type": "code",
   "execution_count": 82,
   "metadata": {},
   "outputs": [],
   "source": [
    "# res = data_SA[['Title','P/N']].groupby(['Title']).sum()\n",
    "# res"
   ]
  },
  {
   "cell_type": "code",
   "execution_count": 83,
   "metadata": {},
   "outputs": [],
   "source": [
    "# res[res['P/N']>0]"
   ]
  },
  {
   "cell_type": "code",
   "execution_count": 144,
   "metadata": {},
   "outputs": [],
   "source": [
    "# data_SA[data_SA['P/N']==0].groupby(['Title']).count()"
   ]
  },
  {
   "cell_type": "code",
   "execution_count": 145,
   "metadata": {},
   "outputs": [],
   "source": [
    "# data_SA[data_SA['P/N']==0]['Comment'][17750]"
   ]
  },
  {
   "cell_type": "code",
   "execution_count": null,
   "metadata": {},
   "outputs": [],
   "source": []
  },
  {
   "cell_type": "markdown",
   "metadata": {},
   "source": [
    " "
   ]
  },
  {
   "cell_type": "markdown",
   "metadata": {},
   "source": [
    "# Group data"
   ]
  },
  {
   "cell_type": "code",
   "execution_count": 220,
   "metadata": {},
   "outputs": [
    {
     "data": {
      "text/html": "<div>\n<style scoped>\n    .dataframe tbody tr th:only-of-type {\n        vertical-align: middle;\n    }\n\n    .dataframe tbody tr th {\n        vertical-align: top;\n    }\n\n    .dataframe thead th {\n        text-align: right;\n    }\n</style>\n<table border=\"1\" class=\"dataframe\">\n  <thead>\n    <tr style=\"text-align: right;\">\n      <th></th>\n      <th>Who?</th>\n      <th>Comedian</th>\n      <th>Title</th>\n      <th>Link of the transcript</th>\n      <th>Transcript (CONTENT!!!!)</th>\n      <th>Video link</th>\n      <th>Unnamed: 6</th>\n      <th>note</th>\n      <th>Unnamed: 8</th>\n      <th>Unnamed: 9</th>\n    </tr>\n  </thead>\n  <tbody>\n    <tr>\n      <th>0</th>\n      <td>Leo</td>\n      <td>Kevin Hart</td>\n      <td>Lying Will Ruin Your Life</td>\n      <td>https://www.wattpad.com/362679778-kevin-hart-l...</td>\n      <td>Lying will ruin your life. Lying will ruin you...</td>\n      <td>https://www.youtube.com/watch?v=EPoOBF8-Tvs&amp;ab...</td>\n      <td>NaN</td>\n      <td>NaN</td>\n      <td>NaN</td>\n      <td>https://genius.com/Kevin-hart-let-me-explain-t...</td>\n    </tr>\n  </tbody>\n</table>\n</div>",
      "text/plain": "  Who?    Comedian                      Title  \\\n0  Leo  Kevin Hart  Lying Will Ruin Your Life   \n\n                              Link of the transcript  \\\n0  https://www.wattpad.com/362679778-kevin-hart-l...   \n\n                            Transcript (CONTENT!!!!)  \\\n0  Lying will ruin your life. Lying will ruin you...   \n\n                                          Video link  Unnamed: 6  note   \\\n0  https://www.youtube.com/watch?v=EPoOBF8-Tvs&ab...         NaN    NaN   \n\n   Unnamed: 8                                         Unnamed: 9  \n0         NaN  https://genius.com/Kevin-hart-let-me-explain-t...  "
     },
     "execution_count": 220,
     "metadata": {},
     "output_type": "execute_result"
    }
   ],
   "source": [
    "df_dataSource = pd.read_excel('DataSource_80clips.xlsx')\n",
    "df_titleWithComedian = pd.read_excel('Title&Comedian.xlsx')\n",
    "\n",
    "Tit_func = lambda x: x.title()\n",
    "df_titleWithComedian['Comedian'] = df_titleWithComedian['Comedian'].apply(Tit_func)\n",
    "comedians_name = df_titleWithComedian['Comedian'].apply(Tit_func)\n",
    "\n",
    "df_dataSource[:1]"
   ]
  },
  {
   "cell_type": "code",
   "execution_count": 221,
   "metadata": {},
   "outputs": [],
   "source": [
    "dd2 = df_dataSource.sort_values(by='Comedian')\n",
    "dd2.to_csv('ahsifuho.csv')"
   ]
  },
  {
   "cell_type": "code",
   "execution_count": 222,
   "metadata": {},
   "outputs": [
    {
     "name": "stdout",
     "output_type": "stream",
     "text": "42\n"
    }
   ],
   "source": [
    "dd = df_titleWithComedian.sort_values(by='Comedian')\n",
    "print(len(dd['Comedian'].unique()))\n",
    "# list(dd['Comedian'].unique())\n",
    "dd.to_csv('dd.csv')"
   ]
  },
  {
   "cell_type": "code",
   "execution_count": 224,
   "metadata": {},
   "outputs": [],
   "source": [
    "# len(set(list(map(lambda x: x.lower().strip(), list(df_dataSource['Comedian'].unique())))))"
   ]
  },
  {
   "cell_type": "code",
   "execution_count": 225,
   "metadata": {},
   "outputs": [
    {
     "data": {
      "text/html": "<div>\n<style scoped>\n    .dataframe tbody tr th:only-of-type {\n        vertical-align: middle;\n    }\n\n    .dataframe tbody tr th {\n        vertical-align: top;\n    }\n\n    .dataframe thead th {\n        text-align: right;\n    }\n</style>\n<table border=\"1\" class=\"dataframe\">\n  <thead>\n    <tr style=\"text-align: right;\">\n      <th></th>\n      <th>Title</th>\n      <th>Comedian</th>\n    </tr>\n  </thead>\n  <tbody>\n    <tr>\n      <th>0</th>\n      <td>\"3 Girls? We Don't Have Time\" | Pete Davidson SMD</td>\n      <td>Pete Davidson</td>\n    </tr>\n    <tr>\n      <th>1</th>\n      <td>\"Don't Lose Your Accent / Learning Accents\" - ...</td>\n      <td>Trevor Noah</td>\n    </tr>\n    <tr>\n      <th>2</th>\n      <td>\"Flying Into America\" - Trevor Noah - (Lost In...</td>\n      <td>Trevor Noah</td>\n    </tr>\n    <tr>\n      <th>3</th>\n      <td>\"Lost Keys\" | Jo Koy : Lights Out</td>\n      <td>Jo Koy</td>\n    </tr>\n    <tr>\n      <th>4</th>\n      <td>\"Rice is Rice\" | Jo Koy : Live from Seattle</td>\n      <td>Jo Koy</td>\n    </tr>\n    <tr>\n      <th>...</th>\n      <td>...</td>\n      <td>...</td>\n    </tr>\n    <tr>\n      <th>75</th>\n      <td>When You're Late To Everything. Andy Woodhull</td>\n      <td>Andy Woodhull</td>\n    </tr>\n    <tr>\n      <th>76</th>\n      <td>Whitney Cummings - I Love You - Marriage &amp; Sex</td>\n      <td>Whitney Cummings</td>\n    </tr>\n    <tr>\n      <th>77</th>\n      <td>Whitney Cummings | I'm Your Girlfriend: Women ...</td>\n      <td>Whitney Cummings</td>\n    </tr>\n    <tr>\n      <th>78</th>\n      <td>Why Arsenio Checks His Phone Before His Wife C...</td>\n      <td>Arsenio Hall</td>\n    </tr>\n    <tr>\n      <th>79</th>\n      <td>Why Asians Are Good At Math - Jimmy O. Yang</td>\n      <td>Jimmy O. Yang</td>\n    </tr>\n  </tbody>\n</table>\n<p>80 rows × 2 columns</p>\n</div>",
      "text/plain": "                                                Title          Comedian\n0   \"3 Girls? We Don't Have Time\" | Pete Davidson SMD     Pete Davidson\n1   \"Don't Lose Your Accent / Learning Accents\" - ...       Trevor Noah\n2   \"Flying Into America\" - Trevor Noah - (Lost In...       Trevor Noah\n3                   \"Lost Keys\" | Jo Koy : Lights Out            Jo Koy\n4         \"Rice is Rice\" | Jo Koy : Live from Seattle            Jo Koy\n..                                                ...               ...\n75      When You're Late To Everything. Andy Woodhull     Andy Woodhull\n76     Whitney Cummings - I Love You - Marriage & Sex  Whitney Cummings\n77  Whitney Cummings | I'm Your Girlfriend: Women ...  Whitney Cummings\n78  Why Arsenio Checks His Phone Before His Wife C...      Arsenio Hall\n79        Why Asians Are Good At Math - Jimmy O. Yang     Jimmy O. Yang\n\n[80 rows x 2 columns]"
     },
     "execution_count": 225,
     "metadata": {},
     "output_type": "execute_result"
    }
   ],
   "source": [
    "grouped_df = df_webapage.groupby(\"Title\", as_index=False).count()\n",
    "grouped_df = grouped_df.drop(['Thumbsup','Name','Comment'], axis=1)\n",
    "\n",
    "grouped_df['Comedian'] = comedians_name\n",
    "grouped_df"
   ]
  },
  {
   "cell_type": "code",
   "execution_count": 226,
   "metadata": {},
   "outputs": [
    {
     "data": {
      "text/html": "<div>\n<style scoped>\n    .dataframe tbody tr th:only-of-type {\n        vertical-align: middle;\n    }\n\n    .dataframe tbody tr th {\n        vertical-align: top;\n    }\n\n    .dataframe thead th {\n        text-align: right;\n    }\n</style>\n<table border=\"1\" class=\"dataframe\">\n  <thead>\n    <tr style=\"text-align: right;\">\n      <th></th>\n      <th>Title</th>\n      <th>Comedian</th>\n      <th>Thumbsup</th>\n      <th>Name</th>\n      <th>Comment</th>\n    </tr>\n  </thead>\n  <tbody>\n    <tr>\n      <th>0</th>\n      <td>Ramy Youssef: Feelings (2019) | Why Do They Ma...</td>\n      <td>Ramy Youssef</td>\n      <td>2400</td>\n      <td>Kenza B.</td>\n      <td>He touched something really deep, first he ddn...</td>\n    </tr>\n    <tr>\n      <th>1</th>\n      <td>Ramy Youssef: Feelings (2019) | Why Do They Ma...</td>\n      <td>Ramy Youssef</td>\n      <td>1500</td>\n      <td>LMivha</td>\n      <td>How this man got his point across is absolute ...</td>\n    </tr>\n    <tr>\n      <th>2</th>\n      <td>Ramy Youssef: Feelings (2019) | Why Do They Ma...</td>\n      <td>Ramy Youssef</td>\n      <td>1200</td>\n      <td>Marissa Urias</td>\n      <td>Wow, people in the comments really don't get t...</td>\n    </tr>\n    <tr>\n      <th>3</th>\n      <td>Ramy Youssef: Feelings (2019) | Why Do They Ma...</td>\n      <td>Ramy Youssef</td>\n      <td>909</td>\n      <td>Riaz Uddin</td>\n      <td>This is what I tell people all the time, just ...</td>\n    </tr>\n    <tr>\n      <th>4</th>\n      <td>Ramy Youssef: Feelings (2019) | Why Do They Ma...</td>\n      <td>Ramy Youssef</td>\n      <td>837</td>\n      <td>Shannon dobbs</td>\n      <td>They don't ask NUNS THAT! 🙄</td>\n    </tr>\n    <tr>\n      <th>...</th>\n      <td>...</td>\n      <td>...</td>\n      <td>...</td>\n      <td>...</td>\n      <td>...</td>\n    </tr>\n    <tr>\n      <th>17748</th>\n      <td>Black Music Tells You Everything You Need to K...</td>\n      <td>Roy Wood Jr.</td>\n      <td>0</td>\n      <td>357 Magnum</td>\n      <td>I'm guessing he doesn't live in a colorblind w...</td>\n    </tr>\n    <tr>\n      <th>17749</th>\n      <td>Black Music Tells You Everything You Need to K...</td>\n      <td>Roy Wood Jr.</td>\n      <td>3</td>\n      <td>Erin James</td>\n      <td>Then leave my dear friend. Youve been free for...</td>\n    </tr>\n    <tr>\n      <th>17750</th>\n      <td>Black Music Tells You Everything You Need to K...</td>\n      <td>Roy Wood Jr.</td>\n      <td>0</td>\n      <td>I'm black So I'm slow</td>\n      <td>We didn't create the blue's!... We didn't crea...</td>\n    </tr>\n    <tr>\n      <th>17751</th>\n      <td>Black Music Tells You Everything You Need to K...</td>\n      <td>Roy Wood Jr.</td>\n      <td>2</td>\n      <td>ralph salotto</td>\n      <td>Now that you mention it he's right, the Blues ...</td>\n    </tr>\n    <tr>\n      <th>17752</th>\n      <td>Black Music Tells You Everything You Need to K...</td>\n      <td>Roy Wood Jr.</td>\n      <td>0</td>\n      <td>Garbanzo Beans</td>\n      <td>Far more black people have migrated to the US ...</td>\n    </tr>\n  </tbody>\n</table>\n<p>17753 rows × 5 columns</p>\n</div>",
      "text/plain": "                                                   Title      Comedian  \\\n0      Ramy Youssef: Feelings (2019) | Why Do They Ma...  Ramy Youssef   \n1      Ramy Youssef: Feelings (2019) | Why Do They Ma...  Ramy Youssef   \n2      Ramy Youssef: Feelings (2019) | Why Do They Ma...  Ramy Youssef   \n3      Ramy Youssef: Feelings (2019) | Why Do They Ma...  Ramy Youssef   \n4      Ramy Youssef: Feelings (2019) | Why Do They Ma...  Ramy Youssef   \n...                                                  ...           ...   \n17748  Black Music Tells You Everything You Need to K...  Roy Wood Jr.   \n17749  Black Music Tells You Everything You Need to K...  Roy Wood Jr.   \n17750  Black Music Tells You Everything You Need to K...  Roy Wood Jr.   \n17751  Black Music Tells You Everything You Need to K...  Roy Wood Jr.   \n17752  Black Music Tells You Everything You Need to K...  Roy Wood Jr.   \n\n      Thumbsup                   Name  \\\n0         2400               Kenza B.   \n1         1500                 LMivha   \n2         1200          Marissa Urias   \n3          909             Riaz Uddin   \n4          837          Shannon dobbs   \n...        ...                    ...   \n17748        0             357 Magnum   \n17749        3             Erin James   \n17750        0  I'm black So I'm slow   \n17751        2          ralph salotto   \n17752        0         Garbanzo Beans   \n\n                                                 Comment  \n0      He touched something really deep, first he ddn...  \n1      How this man got his point across is absolute ...  \n2      Wow, people in the comments really don't get t...  \n3      This is what I tell people all the time, just ...  \n4                            They don't ask NUNS THAT! 🙄  \n...                                                  ...  \n17748  I'm guessing he doesn't live in a colorblind w...  \n17749  Then leave my dear friend. Youve been free for...  \n17750  We didn't create the blue's!... We didn't crea...  \n17751  Now that you mention it he's right, the Blues ...  \n17752  Far more black people have migrated to the US ...  \n\n[17753 rows x 5 columns]"
     },
     "execution_count": 226,
     "metadata": {},
     "output_type": "execute_result"
    }
   ],
   "source": [
    "# merge two df by \"title\"\n",
    "df = df_webapage.merge(grouped_df, left_on='Title', right_on='Title')\n",
    "df = df[['Title','Comedian','Thumbsup','Name','Comment']]\n",
    "df.to_pickle('./scrape_result_80_with_comedians.pkl')\n",
    "df"
   ]
  },
  {
   "cell_type": "code",
   "execution_count": 175,
   "metadata": {},
   "outputs": [],
   "source": [
    "# df[df['Comedian']=='Oj Simpson']"
   ]
  },
  {
   "cell_type": "markdown",
   "metadata": {},
   "source": [
    "# User-Comedian Matrix"
   ]
  },
  {
   "cell_type": "code",
   "execution_count": 227,
   "metadata": {},
   "outputs": [
    {
     "data": {
      "text/html": "<div>\n<style scoped>\n    .dataframe tbody tr th:only-of-type {\n        vertical-align: middle;\n    }\n\n    .dataframe tbody tr th {\n        vertical-align: top;\n    }\n\n    .dataframe thead th {\n        text-align: right;\n    }\n</style>\n<table border=\"1\" class=\"dataframe\">\n  <thead>\n    <tr style=\"text-align: right;\">\n      <th></th>\n      <th>Name</th>\n      <th>Comedian</th>\n    </tr>\n  </thead>\n  <tbody>\n    <tr>\n      <th>0</th>\n      <td>Kenza B.</td>\n      <td>Ramy Youssef</td>\n    </tr>\n    <tr>\n      <th>1</th>\n      <td>LMivha</td>\n      <td>Ramy Youssef</td>\n    </tr>\n    <tr>\n      <th>2</th>\n      <td>Marissa Urias</td>\n      <td>Ramy Youssef</td>\n    </tr>\n    <tr>\n      <th>3</th>\n      <td>Riaz Uddin</td>\n      <td>Ramy Youssef</td>\n    </tr>\n    <tr>\n      <th>4</th>\n      <td>Shannon dobbs</td>\n      <td>Ramy Youssef</td>\n    </tr>\n    <tr>\n      <th>...</th>\n      <td>...</td>\n      <td>...</td>\n    </tr>\n    <tr>\n      <th>17748</th>\n      <td>357 Magnum</td>\n      <td>Roy Wood Jr.</td>\n    </tr>\n    <tr>\n      <th>17749</th>\n      <td>Erin James</td>\n      <td>Roy Wood Jr.</td>\n    </tr>\n    <tr>\n      <th>17750</th>\n      <td>I'm black So I'm slow</td>\n      <td>Roy Wood Jr.</td>\n    </tr>\n    <tr>\n      <th>17751</th>\n      <td>ralph salotto</td>\n      <td>Roy Wood Jr.</td>\n    </tr>\n    <tr>\n      <th>17752</th>\n      <td>Garbanzo Beans</td>\n      <td>Roy Wood Jr.</td>\n    </tr>\n  </tbody>\n</table>\n<p>17753 rows × 2 columns</p>\n</div>",
      "text/plain": "                        Name      Comedian\n0                   Kenza B.  Ramy Youssef\n1                     LMivha  Ramy Youssef\n2              Marissa Urias  Ramy Youssef\n3                 Riaz Uddin  Ramy Youssef\n4              Shannon dobbs  Ramy Youssef\n...                      ...           ...\n17748             357 Magnum  Roy Wood Jr.\n17749             Erin James  Roy Wood Jr.\n17750  I'm black So I'm slow  Roy Wood Jr.\n17751          ralph salotto  Roy Wood Jr.\n17752         Garbanzo Beans  Roy Wood Jr.\n\n[17753 rows x 2 columns]"
     },
     "execution_count": 227,
     "metadata": {},
     "output_type": "execute_result"
    }
   ],
   "source": [
    "df_clean = df[['Name', 'Comedian']]\n",
    "df_clean"
   ]
  },
  {
   "cell_type": "code",
   "execution_count": 232,
   "metadata": {},
   "outputs": [
    {
     "data": {
      "text/html": "<div>\n<style scoped>\n    .dataframe tbody tr th:only-of-type {\n        vertical-align: middle;\n    }\n\n    .dataframe tbody tr th {\n        vertical-align: top;\n    }\n\n    .dataframe thead th {\n        text-align: right;\n    }\n</style>\n<table border=\"1\" class=\"dataframe\">\n  <thead>\n    <tr style=\"text-align: right;\">\n      <th></th>\n      <th>Comedian</th>\n      <th>duplicate</th>\n    </tr>\n    <tr>\n      <th>Name</th>\n      <th></th>\n      <th></th>\n    </tr>\n  </thead>\n  <tbody>\n    <tr>\n      <th>Sumukh</th>\n      <td>6</td>\n      <td>6</td>\n    </tr>\n    <tr>\n      <th>Adam Szasz</th>\n      <td>5</td>\n      <td>5</td>\n    </tr>\n    <tr>\n      <th>Green Envy</th>\n      <td>5</td>\n      <td>5</td>\n    </tr>\n    <tr>\n      <th>Whyinem</th>\n      <td>5</td>\n      <td>5</td>\n    </tr>\n    <tr>\n      <th>matthew styles</th>\n      <td>5</td>\n      <td>5</td>\n    </tr>\n    <tr>\n      <th>...</th>\n      <td>...</td>\n      <td>...</td>\n    </tr>\n    <tr>\n      <th>JUDALATION gamestrodamous</th>\n      <td>2</td>\n      <td>2</td>\n    </tr>\n    <tr>\n      <th>Lowkey Arki</th>\n      <td>2</td>\n      <td>2</td>\n    </tr>\n    <tr>\n      <th>William Latson</th>\n      <td>2</td>\n      <td>2</td>\n    </tr>\n    <tr>\n      <th>M M</th>\n      <td>2</td>\n      <td>2</td>\n    </tr>\n    <tr>\n      <th>opeyemi uthman</th>\n      <td>2</td>\n      <td>2</td>\n    </tr>\n  </tbody>\n</table>\n<p>90 rows × 2 columns</p>\n</div>",
      "text/plain": "                           Comedian  duplicate\nName                                          \nSumukh                            6          6\nAdam Szasz                        5          5\nGreen Envy                        5          5\nWhyinem                           5          5\nmatthew styles                    5          5\n...                             ...        ...\nJUDALATION gamestrodamous         2          2\nLowkey Arki                       2          2\nWilliam Latson                    2          2\nM M                               2          2\nopeyemi uthman                    2          2\n\n[90 rows x 2 columns]"
     },
     "execution_count": 232,
     "metadata": {},
     "output_type": "execute_result"
    }
   ],
   "source": [
    "df_clean.groupby('Name').count().sort_values(by='Comedian', ascending=False).head(90)"
   ]
  },
  {
   "cell_type": "code",
   "execution_count": 233,
   "metadata": {},
   "outputs": [
    {
     "data": {
      "text/html": "<div>\n<style scoped>\n    .dataframe tbody tr th:only-of-type {\n        vertical-align: middle;\n    }\n\n    .dataframe tbody tr th {\n        vertical-align: top;\n    }\n\n    .dataframe thead th {\n        text-align: right;\n    }\n</style>\n<table border=\"1\" class=\"dataframe\">\n  <thead>\n    <tr style=\"text-align: right;\">\n      <th></th>\n      <th>Title</th>\n      <th>Name</th>\n      <th>Comment</th>\n      <th>Polarity</th>\n      <th>Subjectivity</th>\n      <th>P/N</th>\n    </tr>\n  </thead>\n  <tbody>\n    <tr>\n      <th>5376</th>\n      <td>Jim Jefferies Couldn't Do This Joke in Kansas ...</td>\n      <td>Lxlno</td>\n      <td>\"Who clicked on the vid and came straight to c...</td>\n      <td>0.178788</td>\n      <td>0.351515</td>\n      <td>1.0</td>\n    </tr>\n    <tr>\n      <th>5450</th>\n      <td>Jim Jefferies Refuses the Whole Lotion Routine...</td>\n      <td>Lxlno</td>\n      <td>\"Who clicked on the vid and came straight to c...</td>\n      <td>0.178788</td>\n      <td>0.351515</td>\n      <td>1.0</td>\n    </tr>\n    <tr>\n      <th>6126</th>\n      <td>Joe Rogan Explains How Men Are Like Cats | Net...</td>\n      <td>Lxlno</td>\n      <td>\"Who clicked on the vid and came straight to c...</td>\n      <td>0.178788</td>\n      <td>0.351515</td>\n      <td>1.0</td>\n    </tr>\n  </tbody>\n</table>\n</div>",
      "text/plain": "                                                  Title   Name  \\\n5376  Jim Jefferies Couldn't Do This Joke in Kansas ...  Lxlno   \n5450  Jim Jefferies Refuses the Whole Lotion Routine...  Lxlno   \n6126  Joe Rogan Explains How Men Are Like Cats | Net...  Lxlno   \n\n                                                Comment  Polarity  \\\n5376  \"Who clicked on the vid and came straight to c...  0.178788   \n5450  \"Who clicked on the vid and came straight to c...  0.178788   \n6126  \"Who clicked on the vid and came straight to c...  0.178788   \n\n      Subjectivity  P/N  \n5376      0.351515  1.0  \n5450      0.351515  1.0  \n6126      0.351515  1.0  "
     },
     "execution_count": 233,
     "metadata": {},
     "output_type": "execute_result"
    }
   ],
   "source": [
    "data_SA[data_SA['Name'] == 'Lxlno'] "
   ]
  },
  {
   "cell_type": "code",
   "execution_count": 235,
   "metadata": {},
   "outputs": [
    {
     "data": {
      "text/html": "<div>\n<style scoped>\n    .dataframe tbody tr th:only-of-type {\n        vertical-align: middle;\n    }\n\n    .dataframe tbody tr th {\n        vertical-align: top;\n    }\n\n    .dataframe thead th {\n        text-align: right;\n    }\n</style>\n<table border=\"1\" class=\"dataframe\">\n  <thead>\n    <tr style=\"text-align: right;\">\n      <th></th>\n      <th>Comedian</th>\n      <th>duplicate</th>\n    </tr>\n    <tr>\n      <th>Name</th>\n      <th></th>\n      <th></th>\n    </tr>\n  </thead>\n  <tbody>\n    <tr>\n      <th>Sumukh</th>\n      <td>6</td>\n      <td>6</td>\n    </tr>\n    <tr>\n      <th>Adam Szasz</th>\n      <td>5</td>\n      <td>5</td>\n    </tr>\n    <tr>\n      <th>Green Envy</th>\n      <td>5</td>\n      <td>5</td>\n    </tr>\n    <tr>\n      <th>Whyinem</th>\n      <td>5</td>\n      <td>5</td>\n    </tr>\n    <tr>\n      <th>matthew styles</th>\n      <td>5</td>\n      <td>5</td>\n    </tr>\n    <tr>\n      <th>...</th>\n      <td>...</td>\n      <td>...</td>\n    </tr>\n    <tr>\n      <th>Michael Sorrentino</th>\n      <td>3</td>\n      <td>3</td>\n    </tr>\n    <tr>\n      <th>Chris young</th>\n      <td>3</td>\n      <td>3</td>\n    </tr>\n    <tr>\n      <th>ADEDOTUN AKANDE</th>\n      <td>3</td>\n      <td>3</td>\n    </tr>\n    <tr>\n      <th>Alex</th>\n      <td>3</td>\n      <td>3</td>\n    </tr>\n    <tr>\n      <th>M S</th>\n      <td>2</td>\n      <td>2</td>\n    </tr>\n  </tbody>\n</table>\n<p>80 rows × 2 columns</p>\n</div>",
      "text/plain": "                    Comedian  duplicate\nName                                   \nSumukh                     6          6\nAdam Szasz                 5          5\nGreen Envy                 5          5\nWhyinem                    5          5\nmatthew styles             5          5\n...                      ...        ...\nMichael Sorrentino         3          3\nChris young                3          3\nADEDOTUN AKANDE            3          3\nAlex                       3          3\nM S                        2          2\n\n[80 rows x 2 columns]"
     },
     "execution_count": 235,
     "metadata": {},
     "output_type": "execute_result"
    }
   ],
   "source": [
    "df_clean['duplicate'] = df_clean.duplicated()\n",
    "df_clean = df_clean[~df_clean['duplicate']]\n",
    "df_clean.groupby('Name').count().sort_values(by='Comedian', ascending=False).head(80)"
   ]
  },
  {
   "cell_type": "code",
   "execution_count": 180,
   "metadata": {},
   "outputs": [],
   "source": [
    "# data_SA[data_SA['Name'] == 'Kurt Sudheim']"
   ]
  },
  {
   "cell_type": "code",
   "execution_count": 236,
   "metadata": {},
   "outputs": [
    {
     "data": {
      "text/plain": "Index(['Sumukh', 'Adam Szasz', 'Green Envy', 'Whyinem', 'matthew styles',\n       'Michael', 'Ian Crouch', 'Xfirex Xbites', 'Panos kanos', 'Papa Grounds',\n       'Tyrone Frye', 'Wuft Chan', 'P V', 'John Smith', 'Jennifer Bates',\n       'Michiko Manalang', 'Claudia Solomon', 'EaST CoAsT MaCHete',\n       'BabyChainGang', 'Cynthia Copland', 'Mike bee', 'Real Talk', 'R. A.',\n       'Cleveland Maker', 'Anton Nym', 'A', 'Michael Pipkin', 'J',\n       'xirsamoht x', 'Remedy', 'John Paul Lafferty', 'A B', 'That Guy',\n       'Niko', 'yew 2oob', 'A M', 'A Z', 'Kurt Sudheim', 'Sam', 'black bird',\n       'Mike Jones', 'Anna markandan', 'Lydia Waweru-Morgan', 'Kevin Smith',\n       'R B', 'L K', 'Jay Jay', 'Bonafide Slacker', 'Andrew Wiggin',\n       'Vikram Singh', 'Tommaso Urbisci',\n       'Comedy Central Stand-Up\\n\\n\\n\\n      \\n    Comedy Central Stand-Up',\n       'brainflash1', 'Stacy Melanson', 'Allison Linner', 'John Doe',\n       'Christopher', 'K M', 'Tragoudistros.MPH', 'Audrey New', 'J C',\n       'James Bond', 'CamTheDestroyer', 'g', 'Glenn Davey',\n       'Mattastic Mattattack', 'Dee Cohen', 'Meagan Woolstrum', 'Peter E',\n       'Rob', 'Michelle McFarland', 'Ethan Hayden', 'dan lowe', 'Bi- Han',\n       'S G', 'Michael Sorrentino', 'Chris young', 'ADEDOTUN AKANDE', 'Alex',\n       'M S'],\n      dtype='object', name='Name')"
     },
     "execution_count": 236,
     "metadata": {},
     "output_type": "execute_result"
    }
   ],
   "source": [
    "# Select the top 80 users \n",
    "df_clean.groupby('Name').count().sort_values(by='Comedian', ascending=False).head(80).index\n"
   ]
  },
  {
   "cell_type": "code",
   "execution_count": 182,
   "metadata": {},
   "outputs": [],
   "source": [
    "# unique_comedians = list(set(df_clean.Comedian))\n",
    "# len(list(set(df_clean.Comedian)))"
   ]
  },
  {
   "cell_type": "code",
   "execution_count": 183,
   "metadata": {},
   "outputs": [],
   "source": [
    "# df_ucm = pd.DataFrame(0, index=users_top80appear, columns=unique_comedians)\n",
    "# df_ucm"
   ]
  },
  {
   "cell_type": "code",
   "execution_count": 237,
   "metadata": {},
   "outputs": [
    {
     "data": {
      "text/html": "<div>\n<style scoped>\n    .dataframe tbody tr th:only-of-type {\n        vertical-align: middle;\n    }\n\n    .dataframe tbody tr th {\n        vertical-align: top;\n    }\n\n    .dataframe thead th {\n        text-align: right;\n    }\n</style>\n<table border=\"1\" class=\"dataframe\">\n  <thead>\n    <tr style=\"text-align: right;\">\n      <th></th>\n      <th>Title</th>\n      <th>Name</th>\n      <th>Comment</th>\n      <th>Polarity</th>\n      <th>Subjectivity</th>\n      <th>P/N</th>\n      <th>Comedian</th>\n    </tr>\n  </thead>\n  <tbody>\n    <tr>\n      <th>0</th>\n      <td>Ramy Youssef: Feelings (2019) | Why Do They Ma...</td>\n      <td>Kenza B.</td>\n      <td>He touched something really deep, first he ddn...</td>\n      <td>-0.137500</td>\n      <td>0.547917</td>\n      <td>-1.0</td>\n      <td>Ramy Youssef</td>\n    </tr>\n    <tr>\n      <th>1</th>\n      <td>Ramy Youssef: Feelings (2019) | Why Do They Ma...</td>\n      <td>LMivha</td>\n      <td>How this man got his point across is absolute ...</td>\n      <td>0.200000</td>\n      <td>0.900000</td>\n      <td>1.0</td>\n      <td>Ramy Youssef</td>\n    </tr>\n    <tr>\n      <th>2</th>\n      <td>Ramy Youssef: Feelings (2019) | Why Do They Ma...</td>\n      <td>Marissa Urias</td>\n      <td>Wow, people in the comments really don't get t...</td>\n      <td>0.160000</td>\n      <td>0.365000</td>\n      <td>1.0</td>\n      <td>Ramy Youssef</td>\n    </tr>\n    <tr>\n      <th>3</th>\n      <td>Ramy Youssef: Feelings (2019) | Why Do They Ma...</td>\n      <td>Riaz Uddin</td>\n      <td>This is what I tell people all the time, just ...</td>\n      <td>-0.406250</td>\n      <td>0.793750</td>\n      <td>-1.0</td>\n      <td>Ramy Youssef</td>\n    </tr>\n    <tr>\n      <th>4</th>\n      <td>Ramy Youssef: Feelings (2019) | Why Do They Ma...</td>\n      <td>Shannon dobbs</td>\n      <td>They don't ask NUNS THAT! 🙄</td>\n      <td>0.000000</td>\n      <td>0.000000</td>\n      <td>0.0</td>\n      <td>Ramy Youssef</td>\n    </tr>\n    <tr>\n      <th>...</th>\n      <td>...</td>\n      <td>...</td>\n      <td>...</td>\n      <td>...</td>\n      <td>...</td>\n      <td>...</td>\n      <td>...</td>\n    </tr>\n    <tr>\n      <th>17748</th>\n      <td>Black Music Tells You Everything You Need to K...</td>\n      <td>357 Magnum</td>\n      <td>I'm guessing he doesn't live in a colorblind w...</td>\n      <td>-0.243434</td>\n      <td>0.533333</td>\n      <td>-1.0</td>\n      <td>Roy Wood Jr.</td>\n    </tr>\n    <tr>\n      <th>17749</th>\n      <td>Black Music Tells You Everything You Need to K...</td>\n      <td>Erin James</td>\n      <td>Then leave my dear friend. Youve been free for...</td>\n      <td>-0.237500</td>\n      <td>0.733333</td>\n      <td>-1.0</td>\n      <td>Roy Wood Jr.</td>\n    </tr>\n    <tr>\n      <th>17750</th>\n      <td>Black Music Tells You Everything You Need to K...</td>\n      <td>I'm black So I'm slow</td>\n      <td>We didn't create the blue's!... We didn't crea...</td>\n      <td>0.000000</td>\n      <td>0.100000</td>\n      <td>0.0</td>\n      <td>Roy Wood Jr.</td>\n    </tr>\n    <tr>\n      <th>17751</th>\n      <td>Black Music Tells You Everything You Need to K...</td>\n      <td>ralph salotto</td>\n      <td>Now that you mention it he's right, the Blues ...</td>\n      <td>0.361905</td>\n      <td>0.511905</td>\n      <td>1.0</td>\n      <td>Roy Wood Jr.</td>\n    </tr>\n    <tr>\n      <th>17752</th>\n      <td>Black Music Tells You Everything You Need to K...</td>\n      <td>Garbanzo Beans</td>\n      <td>Far more black people have migrated to the US ...</td>\n      <td>0.130952</td>\n      <td>0.595238</td>\n      <td>1.0</td>\n      <td>Roy Wood Jr.</td>\n    </tr>\n  </tbody>\n</table>\n<p>17753 rows × 7 columns</p>\n</div>",
      "text/plain": "                                                   Title  \\\n0      Ramy Youssef: Feelings (2019) | Why Do They Ma...   \n1      Ramy Youssef: Feelings (2019) | Why Do They Ma...   \n2      Ramy Youssef: Feelings (2019) | Why Do They Ma...   \n3      Ramy Youssef: Feelings (2019) | Why Do They Ma...   \n4      Ramy Youssef: Feelings (2019) | Why Do They Ma...   \n...                                                  ...   \n17748  Black Music Tells You Everything You Need to K...   \n17749  Black Music Tells You Everything You Need to K...   \n17750  Black Music Tells You Everything You Need to K...   \n17751  Black Music Tells You Everything You Need to K...   \n17752  Black Music Tells You Everything You Need to K...   \n\n                        Name  \\\n0                   Kenza B.   \n1                     LMivha   \n2              Marissa Urias   \n3                 Riaz Uddin   \n4              Shannon dobbs   \n...                      ...   \n17748             357 Magnum   \n17749             Erin James   \n17750  I'm black So I'm slow   \n17751          ralph salotto   \n17752         Garbanzo Beans   \n\n                                                 Comment  Polarity  \\\n0      He touched something really deep, first he ddn... -0.137500   \n1      How this man got his point across is absolute ...  0.200000   \n2      Wow, people in the comments really don't get t...  0.160000   \n3      This is what I tell people all the time, just ... -0.406250   \n4                            They don't ask NUNS THAT! 🙄  0.000000   \n...                                                  ...       ...   \n17748  I'm guessing he doesn't live in a colorblind w... -0.243434   \n17749  Then leave my dear friend. Youve been free for... -0.237500   \n17750  We didn't create the blue's!... We didn't crea...  0.000000   \n17751  Now that you mention it he's right, the Blues ...  0.361905   \n17752  Far more black people have migrated to the US ...  0.130952   \n\n       Subjectivity  P/N      Comedian  \n0          0.547917 -1.0  Ramy Youssef  \n1          0.900000  1.0  Ramy Youssef  \n2          0.365000  1.0  Ramy Youssef  \n3          0.793750 -1.0  Ramy Youssef  \n4          0.000000  0.0  Ramy Youssef  \n...             ...  ...           ...  \n17748      0.533333 -1.0  Roy Wood Jr.  \n17749      0.733333 -1.0  Roy Wood Jr.  \n17750      0.100000  0.0  Roy Wood Jr.  \n17751      0.511905  1.0  Roy Wood Jr.  \n17752      0.595238  1.0  Roy Wood Jr.  \n\n[17753 rows x 7 columns]"
     },
     "execution_count": 237,
     "metadata": {},
     "output_type": "execute_result"
    }
   ],
   "source": [
    "df_score_data = data_SA.merge(grouped_df, left_on='Title', right_on='Title')\n",
    "df_score_data"
   ]
  },
  {
   "cell_type": "code",
   "execution_count": 238,
   "metadata": {},
   "outputs": [
    {
     "data": {
      "text/html": "<div>\n<style scoped>\n    .dataframe tbody tr th:only-of-type {\n        vertical-align: middle;\n    }\n\n    .dataframe tbody tr th {\n        vertical-align: top;\n    }\n\n    .dataframe thead th {\n        text-align: right;\n    }\n</style>\n<table border=\"1\" class=\"dataframe\">\n  <thead>\n    <tr style=\"text-align: right;\">\n      <th></th>\n      <th>Comedian</th>\n      <th>Name</th>\n      <th>Polarity</th>\n      <th>Subjectivity</th>\n      <th>P/N</th>\n    </tr>\n  </thead>\n  <tbody>\n    <tr>\n      <th>0</th>\n      <td>Amy Schumer</td>\n      <td>02. Vernita Green Beatrix KiDDo</td>\n      <td>0.000000</td>\n      <td>0.000000</td>\n      <td>0.0</td>\n    </tr>\n    <tr>\n      <th>1</th>\n      <td>Amy Schumer</td>\n      <td>100cincinnati</td>\n      <td>-0.291667</td>\n      <td>0.541667</td>\n      <td>-1.0</td>\n    </tr>\n    <tr>\n      <th>2</th>\n      <td>Amy Schumer</td>\n      <td>@wordzgirl</td>\n      <td>0.145429</td>\n      <td>0.624579</td>\n      <td>1.0</td>\n    </tr>\n    <tr>\n      <th>3</th>\n      <td>Amy Schumer</td>\n      <td>A</td>\n      <td>0.875000</td>\n      <td>0.900000</td>\n      <td>1.0</td>\n    </tr>\n    <tr>\n      <th>4</th>\n      <td>Amy Schumer</td>\n      <td>A Diet Called Sεx</td>\n      <td>0.000000</td>\n      <td>0.000000</td>\n      <td>0.0</td>\n    </tr>\n    <tr>\n      <th>...</th>\n      <td>...</td>\n      <td>...</td>\n      <td>...</td>\n      <td>...</td>\n      <td>...</td>\n    </tr>\n    <tr>\n      <th>17136</th>\n      <td>Whitney Cummings</td>\n      <td>yew 2oob</td>\n      <td>0.800000</td>\n      <td>0.750000</td>\n      <td>1.0</td>\n    </tr>\n    <tr>\n      <th>17137</th>\n      <td>Whitney Cummings</td>\n      <td>zhanna davidova</td>\n      <td>0.000000</td>\n      <td>0.000000</td>\n      <td>0.0</td>\n    </tr>\n    <tr>\n      <th>17138</th>\n      <td>Whitney Cummings</td>\n      <td>zja42188</td>\n      <td>0.156250</td>\n      <td>0.666667</td>\n      <td>1.0</td>\n    </tr>\n    <tr>\n      <th>17139</th>\n      <td>Whitney Cummings</td>\n      <td>のぢGrey</td>\n      <td>0.800000</td>\n      <td>1.000000</td>\n      <td>1.0</td>\n    </tr>\n    <tr>\n      <th>17140</th>\n      <td>Whitney Cummings</td>\n      <td>王 アテム空白Le Chiffre</td>\n      <td>0.000000</td>\n      <td>0.000000</td>\n      <td>0.0</td>\n    </tr>\n  </tbody>\n</table>\n<p>17141 rows × 5 columns</p>\n</div>",
      "text/plain": "               Comedian                             Name  Polarity  \\\n0           Amy Schumer  02. Vernita Green Beatrix KiDDo  0.000000   \n1           Amy Schumer                    100cincinnati -0.291667   \n2           Amy Schumer                       @wordzgirl  0.145429   \n3           Amy Schumer                                A  0.875000   \n4           Amy Schumer                A Diet Called Sεx  0.000000   \n...                 ...                              ...       ...   \n17136  Whitney Cummings                         yew 2oob  0.800000   \n17137  Whitney Cummings                  zhanna davidova  0.000000   \n17138  Whitney Cummings                         zja42188  0.156250   \n17139  Whitney Cummings                           のぢGrey  0.800000   \n17140  Whitney Cummings                王 アテム空白Le Chiffre  0.000000   \n\n       Subjectivity  P/N  \n0          0.000000  0.0  \n1          0.541667 -1.0  \n2          0.624579  1.0  \n3          0.900000  1.0  \n4          0.000000  0.0  \n...             ...  ...  \n17136      0.750000  1.0  \n17137      0.000000  0.0  \n17138      0.666667  1.0  \n17139      1.000000  1.0  \n17140      0.000000  0.0  \n\n[17141 rows x 5 columns]"
     },
     "execution_count": 238,
     "metadata": {},
     "output_type": "execute_result"
    }
   ],
   "source": [
    "df_avg_score = df_score_data.groupby(['Comedian','Name'], as_index=False).mean()\n",
    "df_avg_score\n",
    "# test = df_score_data.groupby(['Comedian','Name'], as_index=False).mean()\n",
    "# test[test['P/N']<0.9].sort_values(by='P/N', ascending=False)"
   ]
  },
  {
   "cell_type": "code",
   "execution_count": 186,
   "metadata": {},
   "outputs": [],
   "source": [
    "# user_name = df_avg_score['Name']\n",
    "# comedian_name = df_avg_score['Comedian']\n",
    "# score = df_avg_score['P/N']\n",
    "# for u,c,s in zip(user_name,comedian_name,score):\n",
    "#     df_ucm.loc[u, c] = s\n",
    "# df_ucm    "
   ]
  },
  {
   "cell_type": "code",
   "execution_count": 54,
   "metadata": {},
   "outputs": [],
   "source": [
    "# df_ucm.to_pickle('./user_comedian_matrix.pkl')"
   ]
  },
  {
   "cell_type": "code",
   "execution_count": 53,
   "metadata": {},
   "outputs": [],
   "source": [
    "# ddd = pd.read_pickle('./user_comedian_matrix.pkl')\n",
    "# ddd"
   ]
  },
  {
   "cell_type": "code",
   "execution_count": 104,
   "metadata": {},
   "outputs": [],
   "source": [
    "# "
   ]
  },
  {
   "cell_type": "markdown",
   "metadata": {},
   "source": [
    "## [Find which comedian have most appearance in different users]"
   ]
  },
  {
   "cell_type": "code",
   "execution_count": 239,
   "metadata": {},
   "outputs": [
    {
     "data": {
      "text/plain": "['Sumukh',\n 'Adam Szasz',\n 'Green Envy',\n 'Whyinem',\n 'matthew styles',\n 'Michael',\n 'Ian Crouch',\n 'Xfirex Xbites',\n 'Panos kanos',\n 'Papa Grounds',\n 'Tyrone Frye',\n 'Wuft Chan',\n 'P V',\n 'John Smith',\n 'Jennifer Bates',\n 'Michiko Manalang',\n 'Claudia Solomon',\n 'EaST CoAsT MaCHete',\n 'BabyChainGang',\n 'Cynthia Copland',\n 'Mike bee',\n 'Real Talk',\n 'R. A.',\n 'Cleveland Maker',\n 'Anton Nym',\n 'A',\n 'Michael Pipkin',\n 'J',\n 'xirsamoht x',\n 'Remedy',\n 'John Paul Lafferty',\n 'A B',\n 'That Guy',\n 'Niko',\n 'yew 2oob',\n 'A M',\n 'A Z',\n 'Kurt Sudheim',\n 'Sam',\n 'black bird',\n 'Mike Jones',\n 'Anna markandan',\n 'Lydia Waweru-Morgan',\n 'Kevin Smith',\n 'R B',\n 'L K',\n 'Jay Jay',\n 'Bonafide Slacker',\n 'Andrew Wiggin',\n 'Vikram Singh',\n 'Tommaso Urbisci',\n 'Comedy Central Stand-Up\\n\\n\\n\\n      \\n    Comedy Central Stand-Up',\n 'brainflash1',\n 'Stacy Melanson',\n 'Allison Linner',\n 'John Doe',\n 'Christopher',\n 'K M',\n 'Tragoudistros.MPH',\n 'Audrey New',\n 'J C',\n 'James Bond',\n 'CamTheDestroyer',\n 'g',\n 'Glenn Davey',\n 'Mattastic Mattattack',\n 'Dee Cohen',\n 'Meagan Woolstrum',\n 'Peter E',\n 'Rob',\n 'Michelle McFarland',\n 'Ethan Hayden',\n 'dan lowe',\n 'Bi- Han',\n 'S G',\n 'Michael Sorrentino',\n 'Chris young',\n 'ADEDOTUN AKANDE',\n 'Alex',\n 'M S']"
     },
     "execution_count": 239,
     "metadata": {},
     "output_type": "execute_result"
    }
   ],
   "source": [
    "df_clean = df[['Name', 'Comedian']]\n",
    "df_clean['duplicate'] = df_clean.duplicated()\n",
    "df_clean = df_clean[~df_clean['duplicate']]\n",
    "users_top80 = df_clean.groupby('Name',as_index=False).count().sort_values(by='Comedian', ascending=False).head(80)['Name']\n",
    "list(users_top80)"
   ]
  },
  {
   "cell_type": "code",
   "execution_count": 240,
   "metadata": {},
   "outputs": [
    {
     "name": "stdout",
     "output_type": "stream",
     "text": "40\n"
    },
    {
     "data": {
      "text/html": "<div>\n<style scoped>\n    .dataframe tbody tr th:only-of-type {\n        vertical-align: middle;\n    }\n\n    .dataframe tbody tr th {\n        vertical-align: top;\n    }\n\n    .dataframe thead th {\n        text-align: right;\n    }\n</style>\n<table border=\"1\" class=\"dataframe\">\n  <thead>\n    <tr style=\"text-align: right;\">\n      <th></th>\n      <th>Name</th>\n      <th>Comedian</th>\n      <th>duplicate</th>\n    </tr>\n  </thead>\n  <tbody>\n    <tr>\n      <th>247</th>\n      <td>A B</td>\n      <td>Ramy Youssef</td>\n      <td>False</td>\n    </tr>\n    <tr>\n      <th>289</th>\n      <td>ADEDOTUN AKANDE</td>\n      <td>Andy Woodhull</td>\n      <td>False</td>\n    </tr>\n    <tr>\n      <th>312</th>\n      <td>Anton Nym</td>\n      <td>Andy Woodhull</td>\n      <td>False</td>\n    </tr>\n    <tr>\n      <th>324</th>\n      <td>Lydia Waweru-Morgan</td>\n      <td>Andy Woodhull</td>\n      <td>False</td>\n    </tr>\n    <tr>\n      <th>340</th>\n      <td>Jennifer Bates</td>\n      <td>Andy Woodhull</td>\n      <td>False</td>\n    </tr>\n    <tr>\n      <th>...</th>\n      <td>...</td>\n      <td>...</td>\n      <td>...</td>\n    </tr>\n    <tr>\n      <th>17179</th>\n      <td>Peter E</td>\n      <td>Whitney Cummings</td>\n      <td>False</td>\n    </tr>\n    <tr>\n      <th>17229</th>\n      <td>yew 2oob</td>\n      <td>Whitney Cummings</td>\n      <td>False</td>\n    </tr>\n    <tr>\n      <th>17430</th>\n      <td>Papa Grounds</td>\n      <td>Roy Wood Jr.</td>\n      <td>False</td>\n    </tr>\n    <tr>\n      <th>17614</th>\n      <td>Tyrone Frye</td>\n      <td>Roy Wood Jr.</td>\n      <td>False</td>\n    </tr>\n    <tr>\n      <th>17709</th>\n      <td>Michael</td>\n      <td>Roy Wood Jr.</td>\n      <td>False</td>\n    </tr>\n  </tbody>\n</table>\n<p>262 rows × 3 columns</p>\n</div>",
      "text/plain": "                      Name          Comedian  duplicate\n247                    A B      Ramy Youssef      False\n289        ADEDOTUN AKANDE     Andy Woodhull      False\n312              Anton Nym     Andy Woodhull      False\n324    Lydia Waweru-Morgan     Andy Woodhull      False\n340         Jennifer Bates     Andy Woodhull      False\n...                    ...               ...        ...\n17179              Peter E  Whitney Cummings      False\n17229             yew 2oob  Whitney Cummings      False\n17430         Papa Grounds      Roy Wood Jr.      False\n17614          Tyrone Frye      Roy Wood Jr.      False\n17709              Michael      Roy Wood Jr.      False\n\n[262 rows x 3 columns]"
     },
     "execution_count": 240,
     "metadata": {},
     "output_type": "execute_result"
    }
   ],
   "source": [
    "# df_clean[df_clean['Name'] == list(users_top80)]\n",
    "only = df_clean[\"Name\"].isin(list(users_top80)) \n",
    "df_clean2 = df_clean[only]\n",
    "print(len(df_clean2['Comedian'].unique()))\n",
    "df_clean2"
   ]
  },
  {
   "cell_type": "code",
   "execution_count": 241,
   "metadata": {},
   "outputs": [
    {
     "data": {
      "text/html": "<div>\n<style scoped>\n    .dataframe tbody tr th:only-of-type {\n        vertical-align: middle;\n    }\n\n    .dataframe tbody tr th {\n        vertical-align: top;\n    }\n\n    .dataframe thead th {\n        text-align: right;\n    }\n</style>\n<table border=\"1\" class=\"dataframe\">\n  <thead>\n    <tr style=\"text-align: right;\">\n      <th></th>\n      <th>Ramy Youssef</th>\n      <th>Andy Woodhull</th>\n      <th>Amy Schumer</th>\n      <th>Arsenio Hall</th>\n      <th>Aziz Ansari</th>\n      <th>Bert Kreischer</th>\n      <th>Bill Burr</th>\n      <th>Chris D'Elia</th>\n      <th>Chris Rock</th>\n      <th>Dave Chappelle</th>\n      <th>...</th>\n      <th>Ronny Chieng</th>\n      <th>Roy Wood Jr.</th>\n      <th>Russell Peters</th>\n      <th>Sebastian Maniscalco</th>\n      <th>Tiffany Haddish</th>\n      <th>Tom Segura</th>\n      <th>Trevor Noah</th>\n      <th>Urzila Carlson</th>\n      <th>Vir Das</th>\n      <th>Whitney Cummings</th>\n    </tr>\n  </thead>\n  <tbody>\n    <tr>\n      <th>A B</th>\n      <td>0</td>\n      <td>0</td>\n      <td>0</td>\n      <td>0</td>\n      <td>0</td>\n      <td>0</td>\n      <td>0</td>\n      <td>0</td>\n      <td>0</td>\n      <td>0</td>\n      <td>...</td>\n      <td>0</td>\n      <td>0</td>\n      <td>0</td>\n      <td>0</td>\n      <td>0</td>\n      <td>0</td>\n      <td>0</td>\n      <td>0</td>\n      <td>0</td>\n      <td>0</td>\n    </tr>\n    <tr>\n      <th>ADEDOTUN AKANDE</th>\n      <td>0</td>\n      <td>0</td>\n      <td>0</td>\n      <td>0</td>\n      <td>0</td>\n      <td>0</td>\n      <td>0</td>\n      <td>0</td>\n      <td>0</td>\n      <td>0</td>\n      <td>...</td>\n      <td>0</td>\n      <td>0</td>\n      <td>0</td>\n      <td>0</td>\n      <td>0</td>\n      <td>0</td>\n      <td>0</td>\n      <td>0</td>\n      <td>0</td>\n      <td>0</td>\n    </tr>\n    <tr>\n      <th>Anton Nym</th>\n      <td>0</td>\n      <td>0</td>\n      <td>0</td>\n      <td>0</td>\n      <td>0</td>\n      <td>0</td>\n      <td>0</td>\n      <td>0</td>\n      <td>0</td>\n      <td>0</td>\n      <td>...</td>\n      <td>0</td>\n      <td>0</td>\n      <td>0</td>\n      <td>0</td>\n      <td>0</td>\n      <td>0</td>\n      <td>0</td>\n      <td>0</td>\n      <td>0</td>\n      <td>0</td>\n    </tr>\n    <tr>\n      <th>Lydia Waweru-Morgan</th>\n      <td>0</td>\n      <td>0</td>\n      <td>0</td>\n      <td>0</td>\n      <td>0</td>\n      <td>0</td>\n      <td>0</td>\n      <td>0</td>\n      <td>0</td>\n      <td>0</td>\n      <td>...</td>\n      <td>0</td>\n      <td>0</td>\n      <td>0</td>\n      <td>0</td>\n      <td>0</td>\n      <td>0</td>\n      <td>0</td>\n      <td>0</td>\n      <td>0</td>\n      <td>0</td>\n    </tr>\n    <tr>\n      <th>Jennifer Bates</th>\n      <td>0</td>\n      <td>0</td>\n      <td>0</td>\n      <td>0</td>\n      <td>0</td>\n      <td>0</td>\n      <td>0</td>\n      <td>0</td>\n      <td>0</td>\n      <td>0</td>\n      <td>...</td>\n      <td>0</td>\n      <td>0</td>\n      <td>0</td>\n      <td>0</td>\n      <td>0</td>\n      <td>0</td>\n      <td>0</td>\n      <td>0</td>\n      <td>0</td>\n      <td>0</td>\n    </tr>\n    <tr>\n      <th>...</th>\n      <td>...</td>\n      <td>...</td>\n      <td>...</td>\n      <td>...</td>\n      <td>...</td>\n      <td>...</td>\n      <td>...</td>\n      <td>...</td>\n      <td>...</td>\n      <td>...</td>\n      <td>...</td>\n      <td>...</td>\n      <td>...</td>\n      <td>...</td>\n      <td>...</td>\n      <td>...</td>\n      <td>...</td>\n      <td>...</td>\n      <td>...</td>\n      <td>...</td>\n      <td>...</td>\n    </tr>\n    <tr>\n      <th>CamTheDestroyer</th>\n      <td>0</td>\n      <td>0</td>\n      <td>0</td>\n      <td>0</td>\n      <td>0</td>\n      <td>0</td>\n      <td>0</td>\n      <td>0</td>\n      <td>0</td>\n      <td>0</td>\n      <td>...</td>\n      <td>0</td>\n      <td>0</td>\n      <td>0</td>\n      <td>0</td>\n      <td>0</td>\n      <td>0</td>\n      <td>0</td>\n      <td>0</td>\n      <td>0</td>\n      <td>0</td>\n    </tr>\n    <tr>\n      <th>Jay Jay</th>\n      <td>0</td>\n      <td>0</td>\n      <td>0</td>\n      <td>0</td>\n      <td>0</td>\n      <td>0</td>\n      <td>0</td>\n      <td>0</td>\n      <td>0</td>\n      <td>0</td>\n      <td>...</td>\n      <td>0</td>\n      <td>0</td>\n      <td>0</td>\n      <td>0</td>\n      <td>0</td>\n      <td>0</td>\n      <td>0</td>\n      <td>0</td>\n      <td>0</td>\n      <td>0</td>\n    </tr>\n    <tr>\n      <th>Cynthia Copland</th>\n      <td>0</td>\n      <td>0</td>\n      <td>0</td>\n      <td>0</td>\n      <td>0</td>\n      <td>0</td>\n      <td>0</td>\n      <td>0</td>\n      <td>0</td>\n      <td>0</td>\n      <td>...</td>\n      <td>0</td>\n      <td>0</td>\n      <td>0</td>\n      <td>0</td>\n      <td>0</td>\n      <td>0</td>\n      <td>0</td>\n      <td>0</td>\n      <td>0</td>\n      <td>0</td>\n    </tr>\n    <tr>\n      <th>Comedy Central Stand-Up\\n\\n\\n\\n      \\n    Comedy Central Stand-Up</th>\n      <td>0</td>\n      <td>0</td>\n      <td>0</td>\n      <td>0</td>\n      <td>0</td>\n      <td>0</td>\n      <td>0</td>\n      <td>0</td>\n      <td>0</td>\n      <td>0</td>\n      <td>...</td>\n      <td>0</td>\n      <td>0</td>\n      <td>0</td>\n      <td>0</td>\n      <td>0</td>\n      <td>0</td>\n      <td>0</td>\n      <td>0</td>\n      <td>0</td>\n      <td>0</td>\n    </tr>\n    <tr>\n      <th>Michelle McFarland</th>\n      <td>0</td>\n      <td>0</td>\n      <td>0</td>\n      <td>0</td>\n      <td>0</td>\n      <td>0</td>\n      <td>0</td>\n      <td>0</td>\n      <td>0</td>\n      <td>0</td>\n      <td>...</td>\n      <td>0</td>\n      <td>0</td>\n      <td>0</td>\n      <td>0</td>\n      <td>0</td>\n      <td>0</td>\n      <td>0</td>\n      <td>0</td>\n      <td>0</td>\n      <td>0</td>\n    </tr>\n  </tbody>\n</table>\n<p>80 rows × 40 columns</p>\n</div>",
      "text/plain": "                                                    Ramy Youssef  \\\nA B                                                            0   \nADEDOTUN AKANDE                                                0   \nAnton Nym                                                      0   \nLydia Waweru-Morgan                                            0   \nJennifer Bates                                                 0   \n...                                                          ...   \nCamTheDestroyer                                                0   \nJay Jay                                                        0   \nCynthia Copland                                                0   \nComedy Central Stand-Up\\n\\n\\n\\n      \\n    Come...             0   \nMichelle McFarland                                             0   \n\n                                                    Andy Woodhull  \\\nA B                                                             0   \nADEDOTUN AKANDE                                                 0   \nAnton Nym                                                       0   \nLydia Waweru-Morgan                                             0   \nJennifer Bates                                                  0   \n...                                                           ...   \nCamTheDestroyer                                                 0   \nJay Jay                                                         0   \nCynthia Copland                                                 0   \nComedy Central Stand-Up\\n\\n\\n\\n      \\n    Come...              0   \nMichelle McFarland                                              0   \n\n                                                    Amy Schumer  Arsenio Hall  \\\nA B                                                           0             0   \nADEDOTUN AKANDE                                               0             0   \nAnton Nym                                                     0             0   \nLydia Waweru-Morgan                                           0             0   \nJennifer Bates                                                0             0   \n...                                                         ...           ...   \nCamTheDestroyer                                               0             0   \nJay Jay                                                       0             0   \nCynthia Copland                                               0             0   \nComedy Central Stand-Up\\n\\n\\n\\n      \\n    Come...            0             0   \nMichelle McFarland                                            0             0   \n\n                                                    Aziz Ansari  \\\nA B                                                           0   \nADEDOTUN AKANDE                                               0   \nAnton Nym                                                     0   \nLydia Waweru-Morgan                                           0   \nJennifer Bates                                                0   \n...                                                         ...   \nCamTheDestroyer                                               0   \nJay Jay                                                       0   \nCynthia Copland                                               0   \nComedy Central Stand-Up\\n\\n\\n\\n      \\n    Come...            0   \nMichelle McFarland                                            0   \n\n                                                    Bert Kreischer  Bill Burr  \\\nA B                                                              0          0   \nADEDOTUN AKANDE                                                  0          0   \nAnton Nym                                                        0          0   \nLydia Waweru-Morgan                                              0          0   \nJennifer Bates                                                   0          0   \n...                                                            ...        ...   \nCamTheDestroyer                                                  0          0   \nJay Jay                                                          0          0   \nCynthia Copland                                                  0          0   \nComedy Central Stand-Up\\n\\n\\n\\n      \\n    Come...               0          0   \nMichelle McFarland                                               0          0   \n\n                                                    Chris D'Elia  Chris Rock  \\\nA B                                                            0           0   \nADEDOTUN AKANDE                                                0           0   \nAnton Nym                                                      0           0   \nLydia Waweru-Morgan                                            0           0   \nJennifer Bates                                                 0           0   \n...                                                          ...         ...   \nCamTheDestroyer                                                0           0   \nJay Jay                                                        0           0   \nCynthia Copland                                                0           0   \nComedy Central Stand-Up\\n\\n\\n\\n      \\n    Come...             0           0   \nMichelle McFarland                                             0           0   \n\n                                                    Dave Chappelle  ...  \\\nA B                                                              0  ...   \nADEDOTUN AKANDE                                                  0  ...   \nAnton Nym                                                        0  ...   \nLydia Waweru-Morgan                                              0  ...   \nJennifer Bates                                                   0  ...   \n...                                                            ...  ...   \nCamTheDestroyer                                                  0  ...   \nJay Jay                                                          0  ...   \nCynthia Copland                                                  0  ...   \nComedy Central Stand-Up\\n\\n\\n\\n      \\n    Come...               0  ...   \nMichelle McFarland                                               0  ...   \n\n                                                    Ronny Chieng  \\\nA B                                                            0   \nADEDOTUN AKANDE                                                0   \nAnton Nym                                                      0   \nLydia Waweru-Morgan                                            0   \nJennifer Bates                                                 0   \n...                                                          ...   \nCamTheDestroyer                                                0   \nJay Jay                                                        0   \nCynthia Copland                                                0   \nComedy Central Stand-Up\\n\\n\\n\\n      \\n    Come...             0   \nMichelle McFarland                                             0   \n\n                                                    Roy Wood Jr.  \\\nA B                                                            0   \nADEDOTUN AKANDE                                                0   \nAnton Nym                                                      0   \nLydia Waweru-Morgan                                            0   \nJennifer Bates                                                 0   \n...                                                          ...   \nCamTheDestroyer                                                0   \nJay Jay                                                        0   \nCynthia Copland                                                0   \nComedy Central Stand-Up\\n\\n\\n\\n      \\n    Come...             0   \nMichelle McFarland                                             0   \n\n                                                    Russell Peters  \\\nA B                                                              0   \nADEDOTUN AKANDE                                                  0   \nAnton Nym                                                        0   \nLydia Waweru-Morgan                                              0   \nJennifer Bates                                                   0   \n...                                                            ...   \nCamTheDestroyer                                                  0   \nJay Jay                                                          0   \nCynthia Copland                                                  0   \nComedy Central Stand-Up\\n\\n\\n\\n      \\n    Come...               0   \nMichelle McFarland                                               0   \n\n                                                    Sebastian Maniscalco  \\\nA B                                                                    0   \nADEDOTUN AKANDE                                                        0   \nAnton Nym                                                              0   \nLydia Waweru-Morgan                                                    0   \nJennifer Bates                                                         0   \n...                                                                  ...   \nCamTheDestroyer                                                        0   \nJay Jay                                                                0   \nCynthia Copland                                                        0   \nComedy Central Stand-Up\\n\\n\\n\\n      \\n    Come...                     0   \nMichelle McFarland                                                     0   \n\n                                                    Tiffany Haddish  \\\nA B                                                               0   \nADEDOTUN AKANDE                                                   0   \nAnton Nym                                                         0   \nLydia Waweru-Morgan                                               0   \nJennifer Bates                                                    0   \n...                                                             ...   \nCamTheDestroyer                                                   0   \nJay Jay                                                           0   \nCynthia Copland                                                   0   \nComedy Central Stand-Up\\n\\n\\n\\n      \\n    Come...                0   \nMichelle McFarland                                                0   \n\n                                                    Tom Segura  Trevor Noah  \\\nA B                                                          0            0   \nADEDOTUN AKANDE                                              0            0   \nAnton Nym                                                    0            0   \nLydia Waweru-Morgan                                          0            0   \nJennifer Bates                                               0            0   \n...                                                        ...          ...   \nCamTheDestroyer                                              0            0   \nJay Jay                                                      0            0   \nCynthia Copland                                              0            0   \nComedy Central Stand-Up\\n\\n\\n\\n      \\n    Come...           0            0   \nMichelle McFarland                                           0            0   \n\n                                                    Urzila Carlson  Vir Das  \\\nA B                                                              0        0   \nADEDOTUN AKANDE                                                  0        0   \nAnton Nym                                                        0        0   \nLydia Waweru-Morgan                                              0        0   \nJennifer Bates                                                   0        0   \n...                                                            ...      ...   \nCamTheDestroyer                                                  0        0   \nJay Jay                                                          0        0   \nCynthia Copland                                                  0        0   \nComedy Central Stand-Up\\n\\n\\n\\n      \\n    Come...               0        0   \nMichelle McFarland                                               0        0   \n\n                                                    Whitney Cummings  \nA B                                                                0  \nADEDOTUN AKANDE                                                    0  \nAnton Nym                                                          0  \nLydia Waweru-Morgan                                                0  \nJennifer Bates                                                     0  \n...                                                              ...  \nCamTheDestroyer                                                    0  \nJay Jay                                                            0  \nCynthia Copland                                                    0  \nComedy Central Stand-Up\\n\\n\\n\\n      \\n    Come...                 0  \nMichelle McFarland                                                 0  \n\n[80 rows x 40 columns]"
     },
     "execution_count": 241,
     "metadata": {},
     "output_type": "execute_result"
    }
   ],
   "source": [
    "df_UCM = pd.DataFrame(0, index=df_clean2['Name'].unique(), columns=df_clean2['Comedian'].unique())\n",
    "df_UCM"
   ]
  },
  {
   "cell_type": "code",
   "execution_count": 242,
   "metadata": {},
   "outputs": [
    {
     "data": {
      "text/html": "<div>\n<style scoped>\n    .dataframe tbody tr th:only-of-type {\n        vertical-align: middle;\n    }\n\n    .dataframe tbody tr th {\n        vertical-align: top;\n    }\n\n    .dataframe thead th {\n        text-align: right;\n    }\n</style>\n<table border=\"1\" class=\"dataframe\">\n  <thead>\n    <tr style=\"text-align: right;\">\n      <th></th>\n      <th>Comedian</th>\n      <th>Name</th>\n      <th>Polarity</th>\n      <th>Subjectivity</th>\n      <th>P/N</th>\n    </tr>\n  </thead>\n  <tbody>\n    <tr>\n      <th>3</th>\n      <td>Amy Schumer</td>\n      <td>A</td>\n      <td>0.875000</td>\n      <td>0.900000</td>\n      <td>1.0</td>\n    </tr>\n    <tr>\n      <th>235</th>\n      <td>Amy Schumer</td>\n      <td>Sumukh</td>\n      <td>0.100000</td>\n      <td>0.300000</td>\n      <td>1.0</td>\n    </tr>\n    <tr>\n      <th>388</th>\n      <td>Andy Woodhull</td>\n      <td>ADEDOTUN AKANDE</td>\n      <td>0.875000</td>\n      <td>0.600000</td>\n      <td>1.0</td>\n    </tr>\n    <tr>\n      <th>393</th>\n      <td>Andy Woodhull</td>\n      <td>Anton Nym</td>\n      <td>0.680990</td>\n      <td>0.681667</td>\n      <td>1.0</td>\n    </tr>\n    <tr>\n      <th>440</th>\n      <td>Andy Woodhull</td>\n      <td>Ethan Hayden</td>\n      <td>0.291667</td>\n      <td>0.508333</td>\n      <td>1.0</td>\n    </tr>\n    <tr>\n      <th>...</th>\n      <td>...</td>\n      <td>...</td>\n      <td>...</td>\n      <td>...</td>\n      <td>...</td>\n    </tr>\n    <tr>\n      <th>16758</th>\n      <td>Whitney Cummings</td>\n      <td>John Smith</td>\n      <td>0.214286</td>\n      <td>0.500000</td>\n      <td>1.0</td>\n    </tr>\n    <tr>\n      <th>16836</th>\n      <td>Whitney Cummings</td>\n      <td>Michael Sorrentino</td>\n      <td>0.000000</td>\n      <td>0.000000</td>\n      <td>0.0</td>\n    </tr>\n    <tr>\n      <th>16845</th>\n      <td>Whitney Cummings</td>\n      <td>Mike bee</td>\n      <td>0.550000</td>\n      <td>0.500000</td>\n      <td>1.0</td>\n    </tr>\n    <tr>\n      <th>16887</th>\n      <td>Whitney Cummings</td>\n      <td>Peter E</td>\n      <td>0.000000</td>\n      <td>0.950000</td>\n      <td>0.0</td>\n    </tr>\n    <tr>\n      <th>17136</th>\n      <td>Whitney Cummings</td>\n      <td>yew 2oob</td>\n      <td>0.800000</td>\n      <td>0.750000</td>\n      <td>1.0</td>\n    </tr>\n  </tbody>\n</table>\n<p>262 rows × 5 columns</p>\n</div>",
      "text/plain": "               Comedian                Name  Polarity  Subjectivity  P/N\n3           Amy Schumer                   A  0.875000      0.900000  1.0\n235         Amy Schumer              Sumukh  0.100000      0.300000  1.0\n388       Andy Woodhull     ADEDOTUN AKANDE  0.875000      0.600000  1.0\n393       Andy Woodhull           Anton Nym  0.680990      0.681667  1.0\n440       Andy Woodhull        Ethan Hayden  0.291667      0.508333  1.0\n...                 ...                 ...       ...           ...  ...\n16758  Whitney Cummings          John Smith  0.214286      0.500000  1.0\n16836  Whitney Cummings  Michael Sorrentino  0.000000      0.000000  0.0\n16845  Whitney Cummings            Mike bee  0.550000      0.500000  1.0\n16887  Whitney Cummings             Peter E  0.000000      0.950000  0.0\n17136  Whitney Cummings            yew 2oob  0.800000      0.750000  1.0\n\n[262 rows x 5 columns]"
     },
     "execution_count": 242,
     "metadata": {},
     "output_type": "execute_result"
    }
   ],
   "source": [
    "# retain the data rows only with users_top80\n",
    "user_filter = df_avg_score['Name'].isin(users_top80)\n",
    "df_avg_score_top80users_and_top41comedians = df_avg_score[user_filter]\n",
    "df_avg_score_top80users_and_top41comedians"
   ]
  },
  {
   "cell_type": "code",
   "execution_count": 243,
   "metadata": {},
   "outputs": [],
   "source": [
    "# comedian_top41 = list(df_clean2['Comedian'].unique())\n",
    "# comedian_filter = df_avg_score['Comedian'].isin(comedian_top41)\n",
    "# df_avg_score[comedian_filter]"
   ]
  },
  {
   "cell_type": "markdown",
   "metadata": {},
   "source": [
    "# df_UCM with the average P/N score"
   ]
  },
  {
   "cell_type": "code",
   "execution_count": 244,
   "metadata": {},
   "outputs": [
    {
     "data": {
      "text/html": "<div>\n<style scoped>\n    .dataframe tbody tr th:only-of-type {\n        vertical-align: middle;\n    }\n\n    .dataframe tbody tr th {\n        vertical-align: top;\n    }\n\n    .dataframe thead th {\n        text-align: right;\n    }\n</style>\n<table border=\"1\" class=\"dataframe\">\n  <thead>\n    <tr style=\"text-align: right;\">\n      <th></th>\n      <th>Ramy Youssef</th>\n      <th>Andy Woodhull</th>\n      <th>Amy Schumer</th>\n      <th>Arsenio Hall</th>\n      <th>Aziz Ansari</th>\n      <th>Bert Kreischer</th>\n      <th>Bill Burr</th>\n      <th>Chris D'Elia</th>\n      <th>Chris Rock</th>\n      <th>Dave Chappelle</th>\n      <th>...</th>\n      <th>Ronny Chieng</th>\n      <th>Roy Wood Jr.</th>\n      <th>Russell Peters</th>\n      <th>Sebastian Maniscalco</th>\n      <th>Tiffany Haddish</th>\n      <th>Tom Segura</th>\n      <th>Trevor Noah</th>\n      <th>Urzila Carlson</th>\n      <th>Vir Das</th>\n      <th>Whitney Cummings</th>\n    </tr>\n  </thead>\n  <tbody>\n    <tr>\n      <th>A B</th>\n      <td>1</td>\n      <td>0.0</td>\n      <td>0</td>\n      <td>0.0</td>\n      <td>0</td>\n      <td>0.0</td>\n      <td>0</td>\n      <td>0.0</td>\n      <td>0</td>\n      <td>0</td>\n      <td>...</td>\n      <td>0.0</td>\n      <td>0</td>\n      <td>0</td>\n      <td>0</td>\n      <td>0</td>\n      <td>0</td>\n      <td>0</td>\n      <td>0</td>\n      <td>0</td>\n      <td>0</td>\n    </tr>\n    <tr>\n      <th>ADEDOTUN AKANDE</th>\n      <td>0</td>\n      <td>1.0</td>\n      <td>0</td>\n      <td>0.0</td>\n      <td>0</td>\n      <td>0.0</td>\n      <td>0</td>\n      <td>0.0</td>\n      <td>0</td>\n      <td>0</td>\n      <td>...</td>\n      <td>0.0</td>\n      <td>1</td>\n      <td>0</td>\n      <td>-1</td>\n      <td>0</td>\n      <td>0</td>\n      <td>0</td>\n      <td>0</td>\n      <td>0</td>\n      <td>0</td>\n    </tr>\n    <tr>\n      <th>Anton Nym</th>\n      <td>0</td>\n      <td>1.0</td>\n      <td>0</td>\n      <td>0.0</td>\n      <td>0</td>\n      <td>0.0</td>\n      <td>0</td>\n      <td>0.0</td>\n      <td>0</td>\n      <td>0</td>\n      <td>...</td>\n      <td>0.0</td>\n      <td>0</td>\n      <td>0</td>\n      <td>0</td>\n      <td>0</td>\n      <td>0</td>\n      <td>0</td>\n      <td>0</td>\n      <td>0</td>\n      <td>0</td>\n    </tr>\n    <tr>\n      <th>Lydia Waweru-Morgan</th>\n      <td>0</td>\n      <td>-1.0</td>\n      <td>0</td>\n      <td>1.0</td>\n      <td>0</td>\n      <td>1.0</td>\n      <td>0</td>\n      <td>0.0</td>\n      <td>0</td>\n      <td>0</td>\n      <td>...</td>\n      <td>0.0</td>\n      <td>0</td>\n      <td>0</td>\n      <td>0</td>\n      <td>0</td>\n      <td>0</td>\n      <td>0</td>\n      <td>0</td>\n      <td>0</td>\n      <td>0</td>\n    </tr>\n    <tr>\n      <th>Jennifer Bates</th>\n      <td>0</td>\n      <td>1.0</td>\n      <td>0</td>\n      <td>0.0</td>\n      <td>0</td>\n      <td>0.0</td>\n      <td>0</td>\n      <td>0.0</td>\n      <td>0</td>\n      <td>0</td>\n      <td>...</td>\n      <td>0.0</td>\n      <td>0</td>\n      <td>0</td>\n      <td>0</td>\n      <td>0</td>\n      <td>0</td>\n      <td>0</td>\n      <td>0</td>\n      <td>0</td>\n      <td>0</td>\n    </tr>\n    <tr>\n      <th>...</th>\n      <td>...</td>\n      <td>...</td>\n      <td>...</td>\n      <td>...</td>\n      <td>...</td>\n      <td>...</td>\n      <td>...</td>\n      <td>...</td>\n      <td>...</td>\n      <td>...</td>\n      <td>...</td>\n      <td>...</td>\n      <td>...</td>\n      <td>...</td>\n      <td>...</td>\n      <td>...</td>\n      <td>...</td>\n      <td>...</td>\n      <td>...</td>\n      <td>...</td>\n      <td>...</td>\n    </tr>\n    <tr>\n      <th>CamTheDestroyer</th>\n      <td>0</td>\n      <td>0.0</td>\n      <td>0</td>\n      <td>0.0</td>\n      <td>0</td>\n      <td>0.0</td>\n      <td>0</td>\n      <td>0.0</td>\n      <td>0</td>\n      <td>0</td>\n      <td>...</td>\n      <td>1.0</td>\n      <td>0</td>\n      <td>0</td>\n      <td>0</td>\n      <td>0</td>\n      <td>0</td>\n      <td>0</td>\n      <td>0</td>\n      <td>0</td>\n      <td>0</td>\n    </tr>\n    <tr>\n      <th>Jay Jay</th>\n      <td>0</td>\n      <td>0.0</td>\n      <td>0</td>\n      <td>0.0</td>\n      <td>0</td>\n      <td>0.0</td>\n      <td>0</td>\n      <td>0.0</td>\n      <td>0</td>\n      <td>0</td>\n      <td>...</td>\n      <td>1.0</td>\n      <td>0</td>\n      <td>0</td>\n      <td>0</td>\n      <td>0</td>\n      <td>1</td>\n      <td>0</td>\n      <td>0</td>\n      <td>0</td>\n      <td>0</td>\n    </tr>\n    <tr>\n      <th>Cynthia Copland</th>\n      <td>0</td>\n      <td>0.0</td>\n      <td>0</td>\n      <td>0.0</td>\n      <td>0</td>\n      <td>0.0</td>\n      <td>0</td>\n      <td>0.0</td>\n      <td>0</td>\n      <td>0</td>\n      <td>...</td>\n      <td>0.0</td>\n      <td>0</td>\n      <td>0</td>\n      <td>0</td>\n      <td>-1</td>\n      <td>0</td>\n      <td>0</td>\n      <td>0</td>\n      <td>0</td>\n      <td>0</td>\n    </tr>\n    <tr>\n      <th>Comedy Central Stand-Up\\n\\n\\n\\n      \\n    Comedy Central Stand-Up</th>\n      <td>0</td>\n      <td>0.0</td>\n      <td>0</td>\n      <td>0.0</td>\n      <td>0</td>\n      <td>0.0</td>\n      <td>0</td>\n      <td>0.0</td>\n      <td>0</td>\n      <td>0</td>\n      <td>...</td>\n      <td>0.0</td>\n      <td>1</td>\n      <td>0</td>\n      <td>0</td>\n      <td>0</td>\n      <td>0</td>\n      <td>0</td>\n      <td>0</td>\n      <td>0</td>\n      <td>1</td>\n    </tr>\n    <tr>\n      <th>Michelle McFarland</th>\n      <td>0</td>\n      <td>0.0</td>\n      <td>0</td>\n      <td>0.0</td>\n      <td>0</td>\n      <td>0.0</td>\n      <td>0</td>\n      <td>0.0</td>\n      <td>0</td>\n      <td>0</td>\n      <td>...</td>\n      <td>0.0</td>\n      <td>0</td>\n      <td>0</td>\n      <td>0</td>\n      <td>0</td>\n      <td>0</td>\n      <td>0</td>\n      <td>1</td>\n      <td>1</td>\n      <td>0</td>\n    </tr>\n  </tbody>\n</table>\n<p>80 rows × 40 columns</p>\n</div>",
      "text/plain": "                                                    Ramy Youssef  \\\nA B                                                            1   \nADEDOTUN AKANDE                                                0   \nAnton Nym                                                      0   \nLydia Waweru-Morgan                                            0   \nJennifer Bates                                                 0   \n...                                                          ...   \nCamTheDestroyer                                                0   \nJay Jay                                                        0   \nCynthia Copland                                                0   \nComedy Central Stand-Up\\n\\n\\n\\n      \\n    Come...             0   \nMichelle McFarland                                             0   \n\n                                                    Andy Woodhull  \\\nA B                                                           0.0   \nADEDOTUN AKANDE                                               1.0   \nAnton Nym                                                     1.0   \nLydia Waweru-Morgan                                          -1.0   \nJennifer Bates                                                1.0   \n...                                                           ...   \nCamTheDestroyer                                               0.0   \nJay Jay                                                       0.0   \nCynthia Copland                                               0.0   \nComedy Central Stand-Up\\n\\n\\n\\n      \\n    Come...            0.0   \nMichelle McFarland                                            0.0   \n\n                                                    Amy Schumer  Arsenio Hall  \\\nA B                                                           0           0.0   \nADEDOTUN AKANDE                                               0           0.0   \nAnton Nym                                                     0           0.0   \nLydia Waweru-Morgan                                           0           1.0   \nJennifer Bates                                                0           0.0   \n...                                                         ...           ...   \nCamTheDestroyer                                               0           0.0   \nJay Jay                                                       0           0.0   \nCynthia Copland                                               0           0.0   \nComedy Central Stand-Up\\n\\n\\n\\n      \\n    Come...            0           0.0   \nMichelle McFarland                                            0           0.0   \n\n                                                    Aziz Ansari  \\\nA B                                                           0   \nADEDOTUN AKANDE                                               0   \nAnton Nym                                                     0   \nLydia Waweru-Morgan                                           0   \nJennifer Bates                                                0   \n...                                                         ...   \nCamTheDestroyer                                               0   \nJay Jay                                                       0   \nCynthia Copland                                               0   \nComedy Central Stand-Up\\n\\n\\n\\n      \\n    Come...            0   \nMichelle McFarland                                            0   \n\n                                                    Bert Kreischer  Bill Burr  \\\nA B                                                            0.0          0   \nADEDOTUN AKANDE                                                0.0          0   \nAnton Nym                                                      0.0          0   \nLydia Waweru-Morgan                                            1.0          0   \nJennifer Bates                                                 0.0          0   \n...                                                            ...        ...   \nCamTheDestroyer                                                0.0          0   \nJay Jay                                                        0.0          0   \nCynthia Copland                                                0.0          0   \nComedy Central Stand-Up\\n\\n\\n\\n      \\n    Come...             0.0          0   \nMichelle McFarland                                             0.0          0   \n\n                                                    Chris D'Elia  Chris Rock  \\\nA B                                                          0.0           0   \nADEDOTUN AKANDE                                              0.0           0   \nAnton Nym                                                    0.0           0   \nLydia Waweru-Morgan                                          0.0           0   \nJennifer Bates                                               0.0           0   \n...                                                          ...         ...   \nCamTheDestroyer                                              0.0           0   \nJay Jay                                                      0.0           0   \nCynthia Copland                                              0.0           0   \nComedy Central Stand-Up\\n\\n\\n\\n      \\n    Come...           0.0           0   \nMichelle McFarland                                           0.0           0   \n\n                                                    Dave Chappelle  ...  \\\nA B                                                              0  ...   \nADEDOTUN AKANDE                                                  0  ...   \nAnton Nym                                                        0  ...   \nLydia Waweru-Morgan                                              0  ...   \nJennifer Bates                                                   0  ...   \n...                                                            ...  ...   \nCamTheDestroyer                                                  0  ...   \nJay Jay                                                          0  ...   \nCynthia Copland                                                  0  ...   \nComedy Central Stand-Up\\n\\n\\n\\n      \\n    Come...               0  ...   \nMichelle McFarland                                               0  ...   \n\n                                                    Ronny Chieng  \\\nA B                                                          0.0   \nADEDOTUN AKANDE                                              0.0   \nAnton Nym                                                    0.0   \nLydia Waweru-Morgan                                          0.0   \nJennifer Bates                                               0.0   \n...                                                          ...   \nCamTheDestroyer                                              1.0   \nJay Jay                                                      1.0   \nCynthia Copland                                              0.0   \nComedy Central Stand-Up\\n\\n\\n\\n      \\n    Come...           0.0   \nMichelle McFarland                                           0.0   \n\n                                                    Roy Wood Jr.  \\\nA B                                                            0   \nADEDOTUN AKANDE                                                1   \nAnton Nym                                                      0   \nLydia Waweru-Morgan                                            0   \nJennifer Bates                                                 0   \n...                                                          ...   \nCamTheDestroyer                                                0   \nJay Jay                                                        0   \nCynthia Copland                                                0   \nComedy Central Stand-Up\\n\\n\\n\\n      \\n    Come...             1   \nMichelle McFarland                                             0   \n\n                                                    Russell Peters  \\\nA B                                                              0   \nADEDOTUN AKANDE                                                  0   \nAnton Nym                                                        0   \nLydia Waweru-Morgan                                              0   \nJennifer Bates                                                   0   \n...                                                            ...   \nCamTheDestroyer                                                  0   \nJay Jay                                                          0   \nCynthia Copland                                                  0   \nComedy Central Stand-Up\\n\\n\\n\\n      \\n    Come...               0   \nMichelle McFarland                                               0   \n\n                                                    Sebastian Maniscalco  \\\nA B                                                                    0   \nADEDOTUN AKANDE                                                       -1   \nAnton Nym                                                              0   \nLydia Waweru-Morgan                                                    0   \nJennifer Bates                                                         0   \n...                                                                  ...   \nCamTheDestroyer                                                        0   \nJay Jay                                                                0   \nCynthia Copland                                                        0   \nComedy Central Stand-Up\\n\\n\\n\\n      \\n    Come...                     0   \nMichelle McFarland                                                     0   \n\n                                                    Tiffany Haddish  \\\nA B                                                               0   \nADEDOTUN AKANDE                                                   0   \nAnton Nym                                                         0   \nLydia Waweru-Morgan                                               0   \nJennifer Bates                                                    0   \n...                                                             ...   \nCamTheDestroyer                                                   0   \nJay Jay                                                           0   \nCynthia Copland                                                  -1   \nComedy Central Stand-Up\\n\\n\\n\\n      \\n    Come...                0   \nMichelle McFarland                                                0   \n\n                                                    Tom Segura  Trevor Noah  \\\nA B                                                          0            0   \nADEDOTUN AKANDE                                              0            0   \nAnton Nym                                                    0            0   \nLydia Waweru-Morgan                                          0            0   \nJennifer Bates                                               0            0   \n...                                                        ...          ...   \nCamTheDestroyer                                              0            0   \nJay Jay                                                      1            0   \nCynthia Copland                                              0            0   \nComedy Central Stand-Up\\n\\n\\n\\n      \\n    Come...           0            0   \nMichelle McFarland                                           0            0   \n\n                                                    Urzila Carlson  Vir Das  \\\nA B                                                              0        0   \nADEDOTUN AKANDE                                                  0        0   \nAnton Nym                                                        0        0   \nLydia Waweru-Morgan                                              0        0   \nJennifer Bates                                                   0        0   \n...                                                            ...      ...   \nCamTheDestroyer                                                  0        0   \nJay Jay                                                          0        0   \nCynthia Copland                                                  0        0   \nComedy Central Stand-Up\\n\\n\\n\\n      \\n    Come...               0        0   \nMichelle McFarland                                               1        1   \n\n                                                    Whitney Cummings  \nA B                                                                0  \nADEDOTUN AKANDE                                                    0  \nAnton Nym                                                          0  \nLydia Waweru-Morgan                                                0  \nJennifer Bates                                                     0  \n...                                                              ...  \nCamTheDestroyer                                                    0  \nJay Jay                                                            0  \nCynthia Copland                                                    0  \nComedy Central Stand-Up\\n\\n\\n\\n      \\n    Come...                 1  \nMichelle McFarland                                                 0  \n\n[80 rows x 40 columns]"
     },
     "execution_count": 244,
     "metadata": {},
     "output_type": "execute_result"
    }
   ],
   "source": [
    "# df_UCM with the average P/N score\n",
    "user_name = df_avg_score_top80users_and_top41comedians['Name']\n",
    "comedian_name = df_avg_score_top80users_and_top41comedians['Comedian']\n",
    "score = df_avg_score_top80users_and_top41comedians['P/N']\n",
    "for u,c,s in zip(user_name,comedian_name,score):\n",
    "    df_UCM.loc[u, c] = s\n",
    "df_UCM.to_pickle('./user_comedian_matrix_withPN.pkl')\n",
    "df_UCM"
   ]
  },
  {
   "cell_type": "code",
   "execution_count": null,
   "metadata": {},
   "outputs": [],
   "source": []
  },
  {
   "cell_type": "markdown",
   "metadata": {},
   "source": [
    "# df_UCM with the average original polarity score"
   ]
  },
  {
   "cell_type": "code",
   "execution_count": 194,
   "metadata": {},
   "outputs": [
    {
     "data": {
      "text/html": "<div>\n<style scoped>\n    .dataframe tbody tr th:only-of-type {\n        vertical-align: middle;\n    }\n\n    .dataframe tbody tr th {\n        vertical-align: top;\n    }\n\n    .dataframe thead th {\n        text-align: right;\n    }\n</style>\n<table border=\"1\" class=\"dataframe\">\n  <thead>\n    <tr style=\"text-align: right;\">\n      <th></th>\n      <th>Ramy Youssef</th>\n      <th>Andy Woodhull</th>\n      <th>Amy Schumer</th>\n      <th>Arsenio Hall</th>\n      <th>Aziz Ansari</th>\n      <th>Bert Kreischer</th>\n      <th>Bill Burr</th>\n      <th>Chris D'Elia</th>\n      <th>Chris Rock</th>\n      <th>Dave Chappelle</th>\n      <th>...</th>\n      <th>Ronny Chieng</th>\n      <th>Roy Wood Jr.</th>\n      <th>Russell Peters</th>\n      <th>Sebastian Maniscalco</th>\n      <th>Tiffany Haddish</th>\n      <th>Tom Segura</th>\n      <th>Trevor Noah</th>\n      <th>Urzila Carlson</th>\n      <th>Vir Das</th>\n      <th>Whitney Cummings</th>\n    </tr>\n  </thead>\n  <tbody>\n    <tr>\n      <th>A B</th>\n      <td>0.191429</td>\n      <td>0.000000</td>\n      <td>0.0</td>\n      <td>0.00</td>\n      <td>0.0</td>\n      <td>0.000000</td>\n      <td>0.0</td>\n      <td>0.0</td>\n      <td>0.0</td>\n      <td>0.0</td>\n      <td>...</td>\n      <td>0.000000</td>\n      <td>0.000000</td>\n      <td>0.0</td>\n      <td>0.0000</td>\n      <td>0.0</td>\n      <td>0.0</td>\n      <td>0.0</td>\n      <td>0.0</td>\n      <td>0.000000</td>\n      <td>0.0</td>\n    </tr>\n    <tr>\n      <th>ADEDOTUN AKANDE</th>\n      <td>0.000000</td>\n      <td>0.875000</td>\n      <td>0.0</td>\n      <td>0.00</td>\n      <td>0.0</td>\n      <td>0.000000</td>\n      <td>0.0</td>\n      <td>0.0</td>\n      <td>0.0</td>\n      <td>0.0</td>\n      <td>...</td>\n      <td>0.000000</td>\n      <td>0.400000</td>\n      <td>0.0</td>\n      <td>-0.1625</td>\n      <td>0.0</td>\n      <td>0.0</td>\n      <td>0.0</td>\n      <td>0.0</td>\n      <td>0.000000</td>\n      <td>0.0</td>\n    </tr>\n    <tr>\n      <th>Anton Nym</th>\n      <td>0.000000</td>\n      <td>0.680990</td>\n      <td>0.0</td>\n      <td>0.00</td>\n      <td>0.0</td>\n      <td>0.000000</td>\n      <td>0.0</td>\n      <td>0.0</td>\n      <td>0.0</td>\n      <td>0.0</td>\n      <td>...</td>\n      <td>0.000000</td>\n      <td>0.000000</td>\n      <td>0.0</td>\n      <td>0.0000</td>\n      <td>0.0</td>\n      <td>0.0</td>\n      <td>0.0</td>\n      <td>0.0</td>\n      <td>0.000000</td>\n      <td>0.0</td>\n    </tr>\n    <tr>\n      <th>Lydia Waweru-Morgan</th>\n      <td>0.000000</td>\n      <td>-0.237500</td>\n      <td>0.0</td>\n      <td>0.65</td>\n      <td>0.0</td>\n      <td>0.488281</td>\n      <td>0.0</td>\n      <td>0.0</td>\n      <td>0.0</td>\n      <td>0.0</td>\n      <td>...</td>\n      <td>0.000000</td>\n      <td>0.000000</td>\n      <td>0.0</td>\n      <td>0.0000</td>\n      <td>0.0</td>\n      <td>0.0</td>\n      <td>0.0</td>\n      <td>0.0</td>\n      <td>0.000000</td>\n      <td>0.0</td>\n    </tr>\n    <tr>\n      <th>Jennifer Bates</th>\n      <td>0.000000</td>\n      <td>0.671875</td>\n      <td>0.0</td>\n      <td>0.00</td>\n      <td>0.0</td>\n      <td>0.000000</td>\n      <td>0.0</td>\n      <td>0.0</td>\n      <td>0.0</td>\n      <td>0.0</td>\n      <td>...</td>\n      <td>0.000000</td>\n      <td>0.000000</td>\n      <td>0.0</td>\n      <td>0.0000</td>\n      <td>0.0</td>\n      <td>0.0</td>\n      <td>0.0</td>\n      <td>0.0</td>\n      <td>0.000000</td>\n      <td>0.0</td>\n    </tr>\n    <tr>\n      <th>...</th>\n      <td>...</td>\n      <td>...</td>\n      <td>...</td>\n      <td>...</td>\n      <td>...</td>\n      <td>...</td>\n      <td>...</td>\n      <td>...</td>\n      <td>...</td>\n      <td>...</td>\n      <td>...</td>\n      <td>...</td>\n      <td>...</td>\n      <td>...</td>\n      <td>...</td>\n      <td>...</td>\n      <td>...</td>\n      <td>...</td>\n      <td>...</td>\n      <td>...</td>\n      <td>...</td>\n    </tr>\n    <tr>\n      <th>CamTheDestroyer</th>\n      <td>0.000000</td>\n      <td>0.000000</td>\n      <td>0.0</td>\n      <td>0.00</td>\n      <td>0.0</td>\n      <td>0.000000</td>\n      <td>0.0</td>\n      <td>0.0</td>\n      <td>0.0</td>\n      <td>0.0</td>\n      <td>...</td>\n      <td>0.033333</td>\n      <td>0.000000</td>\n      <td>0.0</td>\n      <td>0.0000</td>\n      <td>0.0</td>\n      <td>0.0</td>\n      <td>0.0</td>\n      <td>0.0</td>\n      <td>0.000000</td>\n      <td>0.0</td>\n    </tr>\n    <tr>\n      <th>Jay Jay</th>\n      <td>0.000000</td>\n      <td>0.000000</td>\n      <td>0.0</td>\n      <td>0.00</td>\n      <td>0.0</td>\n      <td>0.000000</td>\n      <td>0.0</td>\n      <td>0.0</td>\n      <td>0.0</td>\n      <td>0.0</td>\n      <td>...</td>\n      <td>0.155000</td>\n      <td>0.000000</td>\n      <td>0.0</td>\n      <td>0.0000</td>\n      <td>0.0</td>\n      <td>0.8</td>\n      <td>0.0</td>\n      <td>0.0</td>\n      <td>0.000000</td>\n      <td>0.0</td>\n    </tr>\n    <tr>\n      <th>Cynthia Copland</th>\n      <td>0.000000</td>\n      <td>0.000000</td>\n      <td>0.0</td>\n      <td>0.00</td>\n      <td>0.0</td>\n      <td>0.000000</td>\n      <td>0.0</td>\n      <td>0.0</td>\n      <td>0.0</td>\n      <td>0.0</td>\n      <td>...</td>\n      <td>0.000000</td>\n      <td>0.000000</td>\n      <td>0.0</td>\n      <td>0.0000</td>\n      <td>-0.3</td>\n      <td>0.0</td>\n      <td>0.0</td>\n      <td>0.0</td>\n      <td>0.000000</td>\n      <td>0.0</td>\n    </tr>\n    <tr>\n      <th>Comedy Central Stand-Up\\n\\n\\n\\n      \\n    Comedy Central Stand-Up</th>\n      <td>0.000000</td>\n      <td>0.000000</td>\n      <td>0.0</td>\n      <td>0.00</td>\n      <td>0.0</td>\n      <td>0.000000</td>\n      <td>0.0</td>\n      <td>0.0</td>\n      <td>0.0</td>\n      <td>0.0</td>\n      <td>...</td>\n      <td>0.000000</td>\n      <td>0.268182</td>\n      <td>0.0</td>\n      <td>0.0000</td>\n      <td>0.0</td>\n      <td>0.0</td>\n      <td>0.0</td>\n      <td>0.0</td>\n      <td>0.000000</td>\n      <td>0.5</td>\n    </tr>\n    <tr>\n      <th>Michelle McFarland</th>\n      <td>0.000000</td>\n      <td>0.000000</td>\n      <td>0.0</td>\n      <td>0.00</td>\n      <td>0.0</td>\n      <td>0.000000</td>\n      <td>0.0</td>\n      <td>0.0</td>\n      <td>0.0</td>\n      <td>0.0</td>\n      <td>...</td>\n      <td>0.000000</td>\n      <td>0.000000</td>\n      <td>0.0</td>\n      <td>0.0000</td>\n      <td>0.0</td>\n      <td>0.0</td>\n      <td>0.0</td>\n      <td>1.0</td>\n      <td>0.446429</td>\n      <td>0.0</td>\n    </tr>\n  </tbody>\n</table>\n<p>80 rows × 40 columns</p>\n</div>",
      "text/plain": "                                                    Ramy Youssef  \\\nA B                                                     0.191429   \nADEDOTUN AKANDE                                         0.000000   \nAnton Nym                                               0.000000   \nLydia Waweru-Morgan                                     0.000000   \nJennifer Bates                                          0.000000   \n...                                                          ...   \nCamTheDestroyer                                         0.000000   \nJay Jay                                                 0.000000   \nCynthia Copland                                         0.000000   \nComedy Central Stand-Up\\n\\n\\n\\n      \\n    Come...      0.000000   \nMichelle McFarland                                      0.000000   \n\n                                                    Andy Woodhull  \\\nA B                                                      0.000000   \nADEDOTUN AKANDE                                          0.875000   \nAnton Nym                                                0.680990   \nLydia Waweru-Morgan                                     -0.237500   \nJennifer Bates                                           0.671875   \n...                                                           ...   \nCamTheDestroyer                                          0.000000   \nJay Jay                                                  0.000000   \nCynthia Copland                                          0.000000   \nComedy Central Stand-Up\\n\\n\\n\\n      \\n    Come...       0.000000   \nMichelle McFarland                                       0.000000   \n\n                                                    Amy Schumer  Arsenio Hall  \\\nA B                                                         0.0          0.00   \nADEDOTUN AKANDE                                             0.0          0.00   \nAnton Nym                                                   0.0          0.00   \nLydia Waweru-Morgan                                         0.0          0.65   \nJennifer Bates                                              0.0          0.00   \n...                                                         ...           ...   \nCamTheDestroyer                                             0.0          0.00   \nJay Jay                                                     0.0          0.00   \nCynthia Copland                                             0.0          0.00   \nComedy Central Stand-Up\\n\\n\\n\\n      \\n    Come...          0.0          0.00   \nMichelle McFarland                                          0.0          0.00   \n\n                                                    Aziz Ansari  \\\nA B                                                         0.0   \nADEDOTUN AKANDE                                             0.0   \nAnton Nym                                                   0.0   \nLydia Waweru-Morgan                                         0.0   \nJennifer Bates                                              0.0   \n...                                                         ...   \nCamTheDestroyer                                             0.0   \nJay Jay                                                     0.0   \nCynthia Copland                                             0.0   \nComedy Central Stand-Up\\n\\n\\n\\n      \\n    Come...          0.0   \nMichelle McFarland                                          0.0   \n\n                                                    Bert Kreischer  Bill Burr  \\\nA B                                                       0.000000        0.0   \nADEDOTUN AKANDE                                           0.000000        0.0   \nAnton Nym                                                 0.000000        0.0   \nLydia Waweru-Morgan                                       0.488281        0.0   \nJennifer Bates                                            0.000000        0.0   \n...                                                            ...        ...   \nCamTheDestroyer                                           0.000000        0.0   \nJay Jay                                                   0.000000        0.0   \nCynthia Copland                                           0.000000        0.0   \nComedy Central Stand-Up\\n\\n\\n\\n      \\n    Come...        0.000000        0.0   \nMichelle McFarland                                        0.000000        0.0   \n\n                                                    Chris D'Elia  Chris Rock  \\\nA B                                                          0.0         0.0   \nADEDOTUN AKANDE                                              0.0         0.0   \nAnton Nym                                                    0.0         0.0   \nLydia Waweru-Morgan                                          0.0         0.0   \nJennifer Bates                                               0.0         0.0   \n...                                                          ...         ...   \nCamTheDestroyer                                              0.0         0.0   \nJay Jay                                                      0.0         0.0   \nCynthia Copland                                              0.0         0.0   \nComedy Central Stand-Up\\n\\n\\n\\n      \\n    Come...           0.0         0.0   \nMichelle McFarland                                           0.0         0.0   \n\n                                                    Dave Chappelle  ...  \\\nA B                                                            0.0  ...   \nADEDOTUN AKANDE                                                0.0  ...   \nAnton Nym                                                      0.0  ...   \nLydia Waweru-Morgan                                            0.0  ...   \nJennifer Bates                                                 0.0  ...   \n...                                                            ...  ...   \nCamTheDestroyer                                                0.0  ...   \nJay Jay                                                        0.0  ...   \nCynthia Copland                                                0.0  ...   \nComedy Central Stand-Up\\n\\n\\n\\n      \\n    Come...             0.0  ...   \nMichelle McFarland                                             0.0  ...   \n\n                                                    Ronny Chieng  \\\nA B                                                     0.000000   \nADEDOTUN AKANDE                                         0.000000   \nAnton Nym                                               0.000000   \nLydia Waweru-Morgan                                     0.000000   \nJennifer Bates                                          0.000000   \n...                                                          ...   \nCamTheDestroyer                                         0.033333   \nJay Jay                                                 0.155000   \nCynthia Copland                                         0.000000   \nComedy Central Stand-Up\\n\\n\\n\\n      \\n    Come...      0.000000   \nMichelle McFarland                                      0.000000   \n\n                                                    Roy Wood Jr.  \\\nA B                                                     0.000000   \nADEDOTUN AKANDE                                         0.400000   \nAnton Nym                                               0.000000   \nLydia Waweru-Morgan                                     0.000000   \nJennifer Bates                                          0.000000   \n...                                                          ...   \nCamTheDestroyer                                         0.000000   \nJay Jay                                                 0.000000   \nCynthia Copland                                         0.000000   \nComedy Central Stand-Up\\n\\n\\n\\n      \\n    Come...      0.268182   \nMichelle McFarland                                      0.000000   \n\n                                                    Russell Peters  \\\nA B                                                            0.0   \nADEDOTUN AKANDE                                                0.0   \nAnton Nym                                                      0.0   \nLydia Waweru-Morgan                                            0.0   \nJennifer Bates                                                 0.0   \n...                                                            ...   \nCamTheDestroyer                                                0.0   \nJay Jay                                                        0.0   \nCynthia Copland                                                0.0   \nComedy Central Stand-Up\\n\\n\\n\\n      \\n    Come...             0.0   \nMichelle McFarland                                             0.0   \n\n                                                    Sebastian Maniscalco  \\\nA B                                                               0.0000   \nADEDOTUN AKANDE                                                  -0.1625   \nAnton Nym                                                         0.0000   \nLydia Waweru-Morgan                                               0.0000   \nJennifer Bates                                                    0.0000   \n...                                                                  ...   \nCamTheDestroyer                                                   0.0000   \nJay Jay                                                           0.0000   \nCynthia Copland                                                   0.0000   \nComedy Central Stand-Up\\n\\n\\n\\n      \\n    Come...                0.0000   \nMichelle McFarland                                                0.0000   \n\n                                                    Tiffany Haddish  \\\nA B                                                             0.0   \nADEDOTUN AKANDE                                                 0.0   \nAnton Nym                                                       0.0   \nLydia Waweru-Morgan                                             0.0   \nJennifer Bates                                                  0.0   \n...                                                             ...   \nCamTheDestroyer                                                 0.0   \nJay Jay                                                         0.0   \nCynthia Copland                                                -0.3   \nComedy Central Stand-Up\\n\\n\\n\\n      \\n    Come...              0.0   \nMichelle McFarland                                              0.0   \n\n                                                    Tom Segura  Trevor Noah  \\\nA B                                                        0.0          0.0   \nADEDOTUN AKANDE                                            0.0          0.0   \nAnton Nym                                                  0.0          0.0   \nLydia Waweru-Morgan                                        0.0          0.0   \nJennifer Bates                                             0.0          0.0   \n...                                                        ...          ...   \nCamTheDestroyer                                            0.0          0.0   \nJay Jay                                                    0.8          0.0   \nCynthia Copland                                            0.0          0.0   \nComedy Central Stand-Up\\n\\n\\n\\n      \\n    Come...         0.0          0.0   \nMichelle McFarland                                         0.0          0.0   \n\n                                                    Urzila Carlson   Vir Das  \\\nA B                                                            0.0  0.000000   \nADEDOTUN AKANDE                                                0.0  0.000000   \nAnton Nym                                                      0.0  0.000000   \nLydia Waweru-Morgan                                            0.0  0.000000   \nJennifer Bates                                                 0.0  0.000000   \n...                                                            ...       ...   \nCamTheDestroyer                                                0.0  0.000000   \nJay Jay                                                        0.0  0.000000   \nCynthia Copland                                                0.0  0.000000   \nComedy Central Stand-Up\\n\\n\\n\\n      \\n    Come...             0.0  0.000000   \nMichelle McFarland                                             1.0  0.446429   \n\n                                                    Whitney Cummings  \nA B                                                              0.0  \nADEDOTUN AKANDE                                                  0.0  \nAnton Nym                                                        0.0  \nLydia Waweru-Morgan                                              0.0  \nJennifer Bates                                                   0.0  \n...                                                              ...  \nCamTheDestroyer                                                  0.0  \nJay Jay                                                          0.0  \nCynthia Copland                                                  0.0  \nComedy Central Stand-Up\\n\\n\\n\\n      \\n    Come...               0.5  \nMichelle McFarland                                               0.0  \n\n[80 rows x 40 columns]"
     },
     "execution_count": 194,
     "metadata": {},
     "output_type": "execute_result"
    }
   ],
   "source": [
    "# df_UCM with the average Polarity score\n",
    "user_name = df_avg_score_top80users_and_top41comedians['Name']\n",
    "comedian_name = df_avg_score_top80users_and_top41comedians['Comedian']\n",
    "score = df_avg_score_top80users_and_top41comedians['Polarity']\n",
    "for u,c,s in zip(user_name,comedian_name,score):\n",
    "    df_UCM.loc[u, c] = s\n",
    "df_UCM.to_pickle('./user_comedian_matrix_OriginalPolarity.pkl')\n",
    "df_UCM    "
   ]
  },
  {
   "cell_type": "code",
   "execution_count": null,
   "metadata": {},
   "outputs": [],
   "source": []
  }
 ],
 "metadata": {
  "kernelspec": {
   "display_name": "Python 3",
   "language": "python",
   "name": "python3"
  },
  "language_info": {
   "codemirror_mode": {
    "name": "ipython",
    "version": 3
   },
   "file_extension": ".py",
   "mimetype": "text/x-python",
   "name": "python",
   "nbconvert_exporter": "python",
   "pygments_lexer": "ipython3",
   "version": "3.6.8-final"
  }
 },
 "nbformat": 4,
 "nbformat_minor": 2
}